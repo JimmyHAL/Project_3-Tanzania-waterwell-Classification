{
 "cells": [
  {
   "cell_type": "markdown",
   "metadata": {},
   "source": [
    "## Module 3 Project - Tanzania Water Well Prediction\n",
    "The purpose of this project is to build a classification model to predict the conditions of water well in Tanzania. The target will be classify into one of the three categories-\n",
    "\n",
    "- functional - the waterpoint is operational and there are no repairs needed\n",
    "- functional needs repair - the waterpoint is operational, but needs repairs\n",
    "- non functional - the waterpoint is not operational\n",
    "\n",
    "To build this classifier I will be using the data from Taarifa and the Tanzanian Ministry of Water. I will be using the OSEMN framework steps\n",
    "\n",
    "1. Obtain the data\n",
    "2. Scrub the data\n",
    "3. Explore the data\n",
    "4. Model the model\n",
    "5. Interpret the data\n",
    "\n",
    "First I will import some of the tools I will be using."
   ]
  },
  {
   "cell_type": "code",
   "execution_count": 1,
   "metadata": {},
   "outputs": [],
   "source": [
    "import pandas as pd\n",
    "from sklearn.metrics import precision_score, recall_score, accuracy_score, f1_score\n",
    "from sklearn.model_selection import train_test_split\n"
   ]
  },
  {
   "cell_type": "markdown",
   "metadata": {},
   "source": [
    "# Obtain the Data\n",
    "The data available for us are three csv files\n",
    "\n",
    "- Test set values: The independent variables that need predictions\n",
    "- Training set labels: The dependent variable (status_group) for each of the rows in Training set values\n",
    "- Training set values: The independent variables for the training set\n",
    "\n",
    "Since the test set values are meant to be submitted to a competition, the labels is available to us. So I will have to split the training set data to test the models."
   ]
  },
  {
   "cell_type": "code",
   "execution_count": 2,
   "metadata": {},
   "outputs": [],
   "source": [
    "features = pd.read_csv('training_set_values.csv')\n",
    "target = pd.read_csv('training_set_labels.csv')\n",
    "df = pd.merge(features, target, on='id', how='inner')"
   ]
  },
  {
   "cell_type": "code",
   "execution_count": 3,
   "metadata": {
    "scrolled": true
   },
   "outputs": [
    {
     "data": {
      "text/html": [
       "<div>\n",
       "<style scoped>\n",
       "    .dataframe tbody tr th:only-of-type {\n",
       "        vertical-align: middle;\n",
       "    }\n",
       "\n",
       "    .dataframe tbody tr th {\n",
       "        vertical-align: top;\n",
       "    }\n",
       "\n",
       "    .dataframe thead th {\n",
       "        text-align: right;\n",
       "    }\n",
       "</style>\n",
       "<table border=\"1\" class=\"dataframe\">\n",
       "  <thead>\n",
       "    <tr style=\"text-align: right;\">\n",
       "      <th></th>\n",
       "      <th>id</th>\n",
       "      <th>amount_tsh</th>\n",
       "      <th>date_recorded</th>\n",
       "      <th>funder</th>\n",
       "      <th>gps_height</th>\n",
       "      <th>installer</th>\n",
       "      <th>longitude</th>\n",
       "      <th>latitude</th>\n",
       "      <th>wpt_name</th>\n",
       "      <th>num_private</th>\n",
       "      <th>...</th>\n",
       "      <th>water_quality</th>\n",
       "      <th>quality_group</th>\n",
       "      <th>quantity</th>\n",
       "      <th>quantity_group</th>\n",
       "      <th>source</th>\n",
       "      <th>source_type</th>\n",
       "      <th>source_class</th>\n",
       "      <th>waterpoint_type</th>\n",
       "      <th>waterpoint_type_group</th>\n",
       "      <th>status_group</th>\n",
       "    </tr>\n",
       "  </thead>\n",
       "  <tbody>\n",
       "    <tr>\n",
       "      <th>0</th>\n",
       "      <td>69572</td>\n",
       "      <td>6000.0</td>\n",
       "      <td>2011-03-14</td>\n",
       "      <td>Roman</td>\n",
       "      <td>1390</td>\n",
       "      <td>Roman</td>\n",
       "      <td>34.938093</td>\n",
       "      <td>-9.856322</td>\n",
       "      <td>none</td>\n",
       "      <td>0</td>\n",
       "      <td>...</td>\n",
       "      <td>soft</td>\n",
       "      <td>good</td>\n",
       "      <td>enough</td>\n",
       "      <td>enough</td>\n",
       "      <td>spring</td>\n",
       "      <td>spring</td>\n",
       "      <td>groundwater</td>\n",
       "      <td>communal standpipe</td>\n",
       "      <td>communal standpipe</td>\n",
       "      <td>functional</td>\n",
       "    </tr>\n",
       "    <tr>\n",
       "      <th>1</th>\n",
       "      <td>8776</td>\n",
       "      <td>0.0</td>\n",
       "      <td>2013-03-06</td>\n",
       "      <td>Grumeti</td>\n",
       "      <td>1399</td>\n",
       "      <td>GRUMETI</td>\n",
       "      <td>34.698766</td>\n",
       "      <td>-2.147466</td>\n",
       "      <td>Zahanati</td>\n",
       "      <td>0</td>\n",
       "      <td>...</td>\n",
       "      <td>soft</td>\n",
       "      <td>good</td>\n",
       "      <td>insufficient</td>\n",
       "      <td>insufficient</td>\n",
       "      <td>rainwater harvesting</td>\n",
       "      <td>rainwater harvesting</td>\n",
       "      <td>surface</td>\n",
       "      <td>communal standpipe</td>\n",
       "      <td>communal standpipe</td>\n",
       "      <td>functional</td>\n",
       "    </tr>\n",
       "    <tr>\n",
       "      <th>2</th>\n",
       "      <td>34310</td>\n",
       "      <td>25.0</td>\n",
       "      <td>2013-02-25</td>\n",
       "      <td>Lottery Club</td>\n",
       "      <td>686</td>\n",
       "      <td>World vision</td>\n",
       "      <td>37.460664</td>\n",
       "      <td>-3.821329</td>\n",
       "      <td>Kwa Mahundi</td>\n",
       "      <td>0</td>\n",
       "      <td>...</td>\n",
       "      <td>soft</td>\n",
       "      <td>good</td>\n",
       "      <td>enough</td>\n",
       "      <td>enough</td>\n",
       "      <td>dam</td>\n",
       "      <td>dam</td>\n",
       "      <td>surface</td>\n",
       "      <td>communal standpipe multiple</td>\n",
       "      <td>communal standpipe</td>\n",
       "      <td>functional</td>\n",
       "    </tr>\n",
       "    <tr>\n",
       "      <th>3</th>\n",
       "      <td>67743</td>\n",
       "      <td>0.0</td>\n",
       "      <td>2013-01-28</td>\n",
       "      <td>Unicef</td>\n",
       "      <td>263</td>\n",
       "      <td>UNICEF</td>\n",
       "      <td>38.486161</td>\n",
       "      <td>-11.155298</td>\n",
       "      <td>Zahanati Ya Nanyumbu</td>\n",
       "      <td>0</td>\n",
       "      <td>...</td>\n",
       "      <td>soft</td>\n",
       "      <td>good</td>\n",
       "      <td>dry</td>\n",
       "      <td>dry</td>\n",
       "      <td>machine dbh</td>\n",
       "      <td>borehole</td>\n",
       "      <td>groundwater</td>\n",
       "      <td>communal standpipe multiple</td>\n",
       "      <td>communal standpipe</td>\n",
       "      <td>non functional</td>\n",
       "    </tr>\n",
       "    <tr>\n",
       "      <th>4</th>\n",
       "      <td>19728</td>\n",
       "      <td>0.0</td>\n",
       "      <td>2011-07-13</td>\n",
       "      <td>Action In A</td>\n",
       "      <td>0</td>\n",
       "      <td>Artisan</td>\n",
       "      <td>31.130847</td>\n",
       "      <td>-1.825359</td>\n",
       "      <td>Shuleni</td>\n",
       "      <td>0</td>\n",
       "      <td>...</td>\n",
       "      <td>soft</td>\n",
       "      <td>good</td>\n",
       "      <td>seasonal</td>\n",
       "      <td>seasonal</td>\n",
       "      <td>rainwater harvesting</td>\n",
       "      <td>rainwater harvesting</td>\n",
       "      <td>surface</td>\n",
       "      <td>communal standpipe</td>\n",
       "      <td>communal standpipe</td>\n",
       "      <td>functional</td>\n",
       "    </tr>\n",
       "  </tbody>\n",
       "</table>\n",
       "<p>5 rows × 41 columns</p>\n",
       "</div>"
      ],
      "text/plain": [
       "      id  amount_tsh date_recorded        funder  gps_height     installer  \\\n",
       "0  69572      6000.0    2011-03-14         Roman        1390         Roman   \n",
       "1   8776         0.0    2013-03-06       Grumeti        1399       GRUMETI   \n",
       "2  34310        25.0    2013-02-25  Lottery Club         686  World vision   \n",
       "3  67743         0.0    2013-01-28        Unicef         263        UNICEF   \n",
       "4  19728         0.0    2011-07-13   Action In A           0       Artisan   \n",
       "\n",
       "   longitude   latitude              wpt_name  num_private  ... water_quality  \\\n",
       "0  34.938093  -9.856322                  none            0  ...          soft   \n",
       "1  34.698766  -2.147466              Zahanati            0  ...          soft   \n",
       "2  37.460664  -3.821329           Kwa Mahundi            0  ...          soft   \n",
       "3  38.486161 -11.155298  Zahanati Ya Nanyumbu            0  ...          soft   \n",
       "4  31.130847  -1.825359               Shuleni            0  ...          soft   \n",
       "\n",
       "  quality_group      quantity  quantity_group                source  \\\n",
       "0          good        enough          enough                spring   \n",
       "1          good  insufficient    insufficient  rainwater harvesting   \n",
       "2          good        enough          enough                   dam   \n",
       "3          good           dry             dry           machine dbh   \n",
       "4          good      seasonal        seasonal  rainwater harvesting   \n",
       "\n",
       "            source_type source_class              waterpoint_type  \\\n",
       "0                spring  groundwater           communal standpipe   \n",
       "1  rainwater harvesting      surface           communal standpipe   \n",
       "2                   dam      surface  communal standpipe multiple   \n",
       "3              borehole  groundwater  communal standpipe multiple   \n",
       "4  rainwater harvesting      surface           communal standpipe   \n",
       "\n",
       "  waterpoint_type_group    status_group  \n",
       "0    communal standpipe      functional  \n",
       "1    communal standpipe      functional  \n",
       "2    communal standpipe      functional  \n",
       "3    communal standpipe  non functional  \n",
       "4    communal standpipe      functional  \n",
       "\n",
       "[5 rows x 41 columns]"
      ]
     },
     "metadata": {},
     "output_type": "display_data"
    },
    {
     "name": "stdout",
     "output_type": "stream",
     "text": [
      "59400\n"
     ]
    }
   ],
   "source": [
    "display(df.head())\n",
    "print(len(df))"
   ]
  },
  {
   "cell_type": "markdown",
   "metadata": {},
   "source": [
    "I will first print out all the column discription to see which columns will be useful.\n",
    "\n",
    "- amount_tsh - Total static head (amount water available to waterpoint)\n",
    "- date_recorded - The date the row was entered\n",
    "- funder - Who funded the well\n",
    "- gps_height - Altitude of the well\n",
    "- installer - Organization that installed the well\n",
    "- longitude - GPS coordinate\n",
    "- latitude - GPS coordinate\n",
    "- wpt_name - Name of the waterpoint if there is one\n",
    "- num_private -\n",
    "- basin - Geographic water basin\n",
    "- subvillage - Geographic location\n",
    "- region - Geographic location\n",
    "- region_code - Geographic location (coded)\n",
    "- district_code - Geographic location (coded)\n",
    "- lga - Geographic location\n",
    "- ward - Geographic location\n",
    "- population - Population around the well\n",
    "- public_meeting - True/False\n",
    "- recorded_by - Group entering this row of data\n",
    "- scheme_management - Who operates the waterpoint\n",
    "- scheme_name - Who operates the waterpoint\n",
    "- permit - If the waterpoint is permitted\n",
    "- construction_year - Year the waterpoint was constructed\n",
    "- extraction_type - The kind of extraction the waterpoint uses\n",
    "- extraction_type_group - The kind of extraction the waterpoint uses\n",
    "- extraction_type_class - The kind of extraction the waterpoint uses\n",
    "- management - How the waterpoint is managed\n",
    "- management_group - How the waterpoint is managed\n",
    "- payment - What the water costs\n",
    "- payment_type - What the water costs\n",
    "- water_quality - The quality of the water\n",
    "- quality_group - The quality of the water\n",
    "- quantity - The quantity of water\n",
    "- quantity_group - The quantity of water\n",
    "- source - The source of the water\n",
    "- source_type - The source of the water\n",
    "- source_class - The source of the water\n",
    "- waterpoint_type - The kind of waterpoint\n",
    "- waterpoint_type_group - The kind of waterpoint"
   ]
  },
  {
   "cell_type": "markdown",
   "metadata": {},
   "source": [
    "# Scrubbing The Data\n",
    "First I will drops some columns which seems irrelevant for our purpose."
   ]
  },
  {
   "cell_type": "code",
   "execution_count": 4,
   "metadata": {},
   "outputs": [],
   "source": [
    "df = df.drop(columns=['date_recorded', 'funder', 'wpt_name', 'recorded_by'], axis=1)"
   ]
  },
  {
   "cell_type": "markdown",
   "metadata": {},
   "source": [
    "I also noticed that some of the labels have the same or similar discriptions. So I will be checking these to see if the columns are duplicates and if I can get rid of some of them.\n",
    "\n",
    "- scheme_management - Who operates the waterpoint\n",
    "- scheme_name - Who operates the waterpoint\n",
    "- management - How the waterpoint is managed\n",
    "- management_group - How the waterpoint is managed\n",
    "\n",
    "\n",
    "- extraction_type - The kind of extraction the waterpoint uses\n",
    "- extraction_type_group - The kind of extraction the waterpoint uses\n",
    "- extraction_type_class - The kind of extraction the waterpoint uses\n",
    "\n",
    "\n",
    "- source - The source of the water\n",
    "- source_type - The source of the water\n",
    "- source_class - The source of the water\n",
    "\n",
    "\n",
    "- water_quality - The quality of the water\n",
    "- quality_group - The quality of the water\n",
    "\n",
    "\n",
    "- quantity - The quantity of water\n",
    "- quantity_group - The quantity of water.\n",
    "\n",
    "\n",
    "- payment - What the water costs\n",
    "- payment_type - What the water costs\n",
    "\n",
    "\n",
    "- waterpoint_type - The kind of waterpoint\n",
    "- waterpoint_type_group - The kind of waterpoint\n",
    "\n",
    "First I will build a function that takes in a list and easily let me check the values."
   ]
  },
  {
   "cell_type": "code",
   "execution_count": 5,
   "metadata": {},
   "outputs": [],
   "source": [
    "def check_unique(l):\n",
    "    for i in l:\n",
    "        print(\"Feature Name:\", i)\n",
    "        print(\"Number of Unique Values:\", len(df[i].unique()))\n",
    "        print(\"Unique Values:\", df[i].unique())\n",
    "        print(\"Missing Values:\", df[i].isna().sum())\n",
    "        print('\\n')"
   ]
  },
  {
   "cell_type": "code",
   "execution_count": 6,
   "metadata": {},
   "outputs": [
    {
     "name": "stdout",
     "output_type": "stream",
     "text": [
      "Feature Name: scheme_management\n",
      "Number of Unique Values: 13\n",
      "Unique Values: ['VWC' 'Other' nan 'Private operator' 'WUG' 'Water Board' 'WUA'\n",
      " 'Water authority' 'Company' 'Parastatal' 'Trust' 'SWC' 'None']\n",
      "Missing Values: 3877\n",
      "\n",
      "\n",
      "Feature Name: scheme_name\n",
      "Number of Unique Values: 2697\n",
      "Unique Values: ['Roman' nan 'Nyumba ya mungu pipe scheme' ... 'BL Nsherehehe'\n",
      " 'Magati  gravity spri' 'Mtawanya']\n",
      "Missing Values: 28166\n",
      "\n",
      "\n",
      "Feature Name: management\n",
      "Number of Unique Values: 12\n",
      "Unique Values: ['vwc' 'wug' 'other' 'private operator' 'water board' 'wua' 'company'\n",
      " 'water authority' 'parastatal' 'unknown' 'other - school' 'trust']\n",
      "Missing Values: 0\n",
      "\n",
      "\n",
      "Feature Name: management_group\n",
      "Number of Unique Values: 5\n",
      "Unique Values: ['user-group' 'other' 'commercial' 'parastatal' 'unknown']\n",
      "Missing Values: 0\n",
      "\n",
      "\n"
     ]
    }
   ],
   "source": [
    "check_unique(['scheme_management', 'scheme_name', 'management', 'management_group'])"
   ]
  },
  {
   "cell_type": "markdown",
   "metadata": {},
   "source": [
    "scheme_management and management have similars values. scheme_management uses 'None' and 'nan' for missing values while managment uses 'unknown'. scheme_management also have the value 'SWC' which isn't in management, therefore I will drop the management column.  I will also drop the scheme_name columns since it contain 2697 unique string values which will be too much when creating dummies variables.\n",
    "\n",
    "After that I will check the next set of columns.."
   ]
  },
  {
   "cell_type": "code",
   "execution_count": 7,
   "metadata": {},
   "outputs": [],
   "source": [
    "df = df.drop(columns=['management', 'scheme_name'], axis=1)"
   ]
  },
  {
   "cell_type": "code",
   "execution_count": 8,
   "metadata": {},
   "outputs": [
    {
     "name": "stdout",
     "output_type": "stream",
     "text": [
      "Feature Name: extraction_type\n",
      "Number of Unique Values: 18\n",
      "Unique Values: ['gravity' 'submersible' 'swn 80' 'nira/tanira' 'india mark ii' 'other'\n",
      " 'ksb' 'mono' 'windmill' 'afridev' 'other - rope pump' 'india mark iii'\n",
      " 'other - swn 81' 'other - play pump' 'cemo' 'climax' 'walimi'\n",
      " 'other - mkulima/shinyanga']\n",
      "Missing Values: 0\n",
      "\n",
      "\n",
      "Feature Name: extraction_type_group\n",
      "Number of Unique Values: 13\n",
      "Unique Values: ['gravity' 'submersible' 'swn 80' 'nira/tanira' 'india mark ii' 'other'\n",
      " 'mono' 'wind-powered' 'afridev' 'rope pump' 'india mark iii'\n",
      " 'other handpump' 'other motorpump']\n",
      "Missing Values: 0\n",
      "\n",
      "\n",
      "Feature Name: extraction_type_class\n",
      "Number of Unique Values: 7\n",
      "Unique Values: ['gravity' 'submersible' 'handpump' 'other' 'motorpump' 'wind-powered'\n",
      " 'rope pump']\n",
      "Missing Values: 0\n",
      "\n",
      "\n"
     ]
    }
   ],
   "source": [
    "check_unique(['extraction_type', 'extraction_type_group', 'extraction_type_class'])"
   ]
  },
  {
   "cell_type": "code",
   "execution_count": 9,
   "metadata": {},
   "outputs": [
    {
     "data": {
      "text/plain": [
       "gravity                      26780\n",
       "nira/tanira                   8154\n",
       "other                         6430\n",
       "submersible                   4764\n",
       "swn 80                        3670\n",
       "mono                          2865\n",
       "india mark ii                 2400\n",
       "afridev                       1770\n",
       "ksb                           1415\n",
       "other - rope pump              451\n",
       "other - swn 81                 229\n",
       "windmill                       117\n",
       "india mark iii                  98\n",
       "cemo                            90\n",
       "other - play pump               85\n",
       "walimi                          48\n",
       "climax                          32\n",
       "other - mkulima/shinyanga        2\n",
       "Name: extraction_type, dtype: int64"
      ]
     },
     "execution_count": 9,
     "metadata": {},
     "output_type": "execute_result"
    }
   ],
   "source": [
    "df['extraction_type'].value_counts()"
   ]
  },
  {
   "cell_type": "markdown",
   "metadata": {},
   "source": [
    "All three columns have the same values except extraction_type has 18 unique values while  extraction_type_group and extraction_type_class only have 13 and 7 respectively. Since the total sum of values for the five extra categories in extraction_type isn't alot, I will use the extraction_type_group for my model.                               "
   ]
  },
  {
   "cell_type": "code",
   "execution_count": 10,
   "metadata": {},
   "outputs": [],
   "source": [
    "df = df.drop(columns=['extraction_type', 'extraction_type_class'], axis=1)"
   ]
  },
  {
   "cell_type": "code",
   "execution_count": 11,
   "metadata": {},
   "outputs": [
    {
     "name": "stdout",
     "output_type": "stream",
     "text": [
      "Feature Name: source\n",
      "Number of Unique Values: 10\n",
      "Unique Values: ['spring' 'rainwater harvesting' 'dam' 'machine dbh' 'other'\n",
      " 'shallow well' 'river' 'hand dtw' 'lake' 'unknown']\n",
      "Missing Values: 0\n",
      "\n",
      "\n",
      "Feature Name: source_type\n",
      "Number of Unique Values: 7\n",
      "Unique Values: ['spring' 'rainwater harvesting' 'dam' 'borehole' 'other' 'shallow well'\n",
      " 'river/lake']\n",
      "Missing Values: 0\n",
      "\n",
      "\n",
      "Feature Name: source_class\n",
      "Number of Unique Values: 3\n",
      "Unique Values: ['groundwater' 'surface' 'unknown']\n",
      "Missing Values: 0\n",
      "\n",
      "\n"
     ]
    }
   ],
   "source": [
    "check_unique(['source', 'source_type', 'source_class'])"
   ]
  },
  {
   "cell_type": "markdown",
   "metadata": {},
   "source": [
    "These three categories all have similar values also. 'source_class' have only 3 categories while 'source_type' and 'source' have 7 and 10 categories. Since the subcategories are quiet diffrent I will use the source column."
   ]
  },
  {
   "cell_type": "code",
   "execution_count": 12,
   "metadata": {},
   "outputs": [],
   "source": [
    "df = df.drop(columns=['source_type', 'source_class'], axis=1)"
   ]
  },
  {
   "cell_type": "code",
   "execution_count": 13,
   "metadata": {},
   "outputs": [
    {
     "name": "stdout",
     "output_type": "stream",
     "text": [
      "Feature Name: water_quality\n",
      "Number of Unique Values: 8\n",
      "Unique Values: ['soft' 'salty' 'milky' 'unknown' 'fluoride' 'coloured' 'salty abandoned'\n",
      " 'fluoride abandoned']\n",
      "Missing Values: 0\n",
      "\n",
      "\n",
      "Feature Name: quality_group\n",
      "Number of Unique Values: 6\n",
      "Unique Values: ['good' 'salty' 'milky' 'unknown' 'fluoride' 'colored']\n",
      "Missing Values: 0\n",
      "\n",
      "\n"
     ]
    }
   ],
   "source": [
    "check_unique(['water_quality', 'quality_group'])"
   ]
  },
  {
   "cell_type": "markdown",
   "metadata": {},
   "source": [
    "These two columns also have similar values. 'water_quality' column have the value 'soft' instead of 'good' and also contained two extra categories of 'salty abandoned' and 'fluoride abandoned'. Since these categories insinuate a non_funtional water well, it could be imporatant for our model. So we will keep the 'water_quality' column."
   ]
  },
  {
   "cell_type": "code",
   "execution_count": 14,
   "metadata": {},
   "outputs": [],
   "source": [
    "df = df.drop(columns=['quality_group'], axis=1)"
   ]
  },
  {
   "cell_type": "code",
   "execution_count": 15,
   "metadata": {},
   "outputs": [
    {
     "name": "stdout",
     "output_type": "stream",
     "text": [
      "Feature Name: quantity\n",
      "Number of Unique Values: 5\n",
      "Unique Values: ['enough' 'insufficient' 'dry' 'seasonal' 'unknown']\n",
      "Missing Values: 0\n",
      "\n",
      "\n",
      "Feature Name: quantity_group\n",
      "Number of Unique Values: 5\n",
      "Unique Values: ['enough' 'insufficient' 'dry' 'seasonal' 'unknown']\n",
      "Missing Values: 0\n",
      "\n",
      "\n"
     ]
    }
   ],
   "source": [
    "check_unique(['quantity', 'quantity_group'])"
   ]
  },
  {
   "cell_type": "markdown",
   "metadata": {},
   "source": [
    "These two columns are exactly the same so I will get rid of one of them."
   ]
  },
  {
   "cell_type": "code",
   "execution_count": 16,
   "metadata": {},
   "outputs": [],
   "source": [
    "df = df.drop(columns=['quantity_group'], axis=1)"
   ]
  },
  {
   "cell_type": "code",
   "execution_count": 17,
   "metadata": {},
   "outputs": [
    {
     "name": "stdout",
     "output_type": "stream",
     "text": [
      "Feature Name: payment\n",
      "Number of Unique Values: 7\n",
      "Unique Values: ['pay annually' 'never pay' 'pay per bucket' 'unknown'\n",
      " 'pay when scheme fails' 'other' 'pay monthly']\n",
      "Missing Values: 0\n",
      "\n",
      "\n",
      "Feature Name: payment_type\n",
      "Number of Unique Values: 7\n",
      "Unique Values: ['annually' 'never pay' 'per bucket' 'unknown' 'on failure' 'other'\n",
      " 'monthly']\n",
      "Missing Values: 0\n",
      "\n",
      "\n"
     ]
    }
   ],
   "source": [
    "check_unique(['payment', 'payment_type'])"
   ]
  },
  {
   "cell_type": "markdown",
   "metadata": {},
   "source": [
    "Both features have identical values. So, I will just keep one column snd remove the other one.\n",
    "\n"
   ]
  },
  {
   "cell_type": "code",
   "execution_count": 18,
   "metadata": {},
   "outputs": [],
   "source": [
    "df = df.drop(columns=['payment'], axis=1)"
   ]
  },
  {
   "cell_type": "code",
   "execution_count": 19,
   "metadata": {},
   "outputs": [
    {
     "name": "stdout",
     "output_type": "stream",
     "text": [
      "Feature Name: waterpoint_type\n",
      "Number of Unique Values: 7\n",
      "Unique Values: ['communal standpipe' 'communal standpipe multiple' 'hand pump' 'other'\n",
      " 'improved spring' 'cattle trough' 'dam']\n",
      "Missing Values: 0\n",
      "\n",
      "\n",
      "Feature Name: waterpoint_type_group\n",
      "Number of Unique Values: 6\n",
      "Unique Values: ['communal standpipe' 'hand pump' 'other' 'improved spring'\n",
      " 'cattle trough' 'dam']\n",
      "Missing Values: 0\n",
      "\n",
      "\n"
     ]
    }
   ],
   "source": [
    "check_unique(['waterpoint_type', 'waterpoint_type_group' ])"
   ]
  },
  {
   "cell_type": "markdown",
   "metadata": {},
   "source": [
    "The two column have similar values except waterpoint_type have a sub categories of 'communal standpipe multiple'. Since this category could be important for our model we will keep the columns with the extra sub-category ('waterpoint_feature')."
   ]
  },
  {
   "cell_type": "code",
   "execution_count": 20,
   "metadata": {},
   "outputs": [],
   "source": [
    "df = df.drop(columns=['waterpoint_type_group'], axis=1)"
   ]
  },
  {
   "cell_type": "code",
   "execution_count": 21,
   "metadata": {},
   "outputs": [
    {
     "name": "stdout",
     "output_type": "stream",
     "text": [
      "<class 'pandas.core.frame.DataFrame'>\n",
      "Int64Index: 59400 entries, 0 to 59399\n",
      "Data columns (total 27 columns):\n",
      " #   Column                 Non-Null Count  Dtype  \n",
      "---  ------                 --------------  -----  \n",
      " 0   id                     59400 non-null  int64  \n",
      " 1   amount_tsh             59400 non-null  float64\n",
      " 2   gps_height             59400 non-null  int64  \n",
      " 3   installer              55745 non-null  object \n",
      " 4   longitude              59400 non-null  float64\n",
      " 5   latitude               59400 non-null  float64\n",
      " 6   num_private            59400 non-null  int64  \n",
      " 7   basin                  59400 non-null  object \n",
      " 8   subvillage             59029 non-null  object \n",
      " 9   region                 59400 non-null  object \n",
      " 10  region_code            59400 non-null  int64  \n",
      " 11  district_code          59400 non-null  int64  \n",
      " 12  lga                    59400 non-null  object \n",
      " 13  ward                   59400 non-null  object \n",
      " 14  population             59400 non-null  int64  \n",
      " 15  public_meeting         56066 non-null  object \n",
      " 16  scheme_management      55523 non-null  object \n",
      " 17  permit                 56344 non-null  object \n",
      " 18  construction_year      59400 non-null  int64  \n",
      " 19  extraction_type_group  59400 non-null  object \n",
      " 20  management_group       59400 non-null  object \n",
      " 21  payment_type           59400 non-null  object \n",
      " 22  water_quality          59400 non-null  object \n",
      " 23  quantity               59400 non-null  object \n",
      " 24  source                 59400 non-null  object \n",
      " 25  waterpoint_type        59400 non-null  object \n",
      " 26  status_group           59400 non-null  object \n",
      "dtypes: float64(3), int64(7), object(17)\n",
      "memory usage: 12.7+ MB\n"
     ]
    }
   ],
   "source": [
    "df.info()"
   ]
  },
  {
   "cell_type": "markdown",
   "metadata": {},
   "source": [
    "Next I will check the other columns with object type values. The first of these is 'installer' which could be important to our model since it might affect the quality of the water point."
   ]
  },
  {
   "cell_type": "code",
   "execution_count": 22,
   "metadata": {},
   "outputs": [
    {
     "name": "stdout",
     "output_type": "stream",
     "text": [
      "DWE                         17402\n",
      "Government                   1825\n",
      "RWE                          1206\n",
      "Commu                        1060\n",
      "DANIDA                       1050\n",
      "                            ...  \n",
      "Heri mission                    1\n",
      "AQUA Wel                        1\n",
      "Serikari                        1\n",
      "Vodacom                         1\n",
      "Distric Water Department        1\n",
      "Name: installer, Length: 2145, dtype: int64\n",
      "2145\n"
     ]
    }
   ],
   "source": [
    "print(df['installer'].value_counts())\n",
    "print(df['installer'].nunique())"
   ]
  },
  {
   "cell_type": "markdown",
   "metadata": {},
   "source": [
    "Since there are 2145 diffrent unique and discrete values it is impossible to use the column, so I will have to get rid of it."
   ]
  },
  {
   "cell_type": "code",
   "execution_count": 23,
   "metadata": {},
   "outputs": [],
   "source": [
    "df = df.drop(columns=['installer'], axis=1)"
   ]
  },
  {
   "cell_type": "markdown",
   "metadata": {},
   "source": [
    "'permit' and 'public_meeting' contain boolean values and some missing data that will have to be dealt with later. First I will take a look at all the columns that contain geographical information.\n",
    "\n",
    "- longitude - GPS coordinate \n",
    "- latitude - GPS coordinate \n",
    "- basin - Geographic water basin \n",
    "- subvillage - Geographic location \n",
    "- region - Geographic location \n",
    "- region_code - Geographic location (coded) \n",
    "- district_code - Geographic location (coded) \n",
    "- lga - Geographic location \n",
    "- ward - Geographic location"
   ]
  },
  {
   "cell_type": "code",
   "execution_count": 24,
   "metadata": {},
   "outputs": [
    {
     "name": "stdout",
     "output_type": "stream",
     "text": [
      "Feature Name: longitude\n",
      "Number of Unique Values: 57516\n",
      "Unique Values: [34.93809275 34.6987661  37.46066446 ... 34.01708706 35.86131531\n",
      " 38.10404822]\n",
      "Missing Values: 0\n",
      "\n",
      "\n",
      "Feature Name: latitude\n",
      "Number of Unique Values: 57517\n",
      "Unique Values: [-9.85632177 -2.14746569 -3.82132853 ... -8.75043433 -6.37857327\n",
      " -6.74746425]\n",
      "Missing Values: 0\n",
      "\n",
      "\n",
      "Feature Name: basin\n",
      "Number of Unique Values: 9\n",
      "Unique Values: ['Lake Nyasa' 'Lake Victoria' 'Pangani' 'Ruvuma / Southern Coast'\n",
      " 'Internal' 'Lake Tanganyika' 'Wami / Ruvu' 'Rufiji' 'Lake Rukwa']\n",
      "Missing Values: 0\n",
      "\n",
      "\n",
      "Feature Name: subvillage\n",
      "Number of Unique Values: 19288\n",
      "Unique Values: ['Mnyusi B' 'Nyamara' 'Majengo' ... 'Itete B' 'Maore Kati' 'Kikatanyemba']\n",
      "Missing Values: 371\n",
      "\n",
      "\n",
      "Feature Name: region\n",
      "Number of Unique Values: 21\n",
      "Unique Values: ['Iringa' 'Mara' 'Manyara' 'Mtwara' 'Kagera' 'Tanga' 'Shinyanga' 'Tabora'\n",
      " 'Pwani' 'Ruvuma' 'Kilimanjaro' 'Rukwa' 'Mwanza' 'Kigoma' 'Lindi' 'Dodoma'\n",
      " 'Arusha' 'Mbeya' 'Singida' 'Morogoro' 'Dar es Salaam']\n",
      "Missing Values: 0\n",
      "\n",
      "\n",
      "Feature Name: region_code\n",
      "Number of Unique Values: 27\n",
      "Unique Values: [11 20 21 90 18  4 17 14 60 10  3 15 19 16 80  1  6  2 12 13  5  7 99 24\n",
      "  9  8 40]\n",
      "Missing Values: 0\n",
      "\n",
      "\n",
      "Feature Name: district_code\n",
      "Number of Unique Values: 20\n",
      "Unique Values: [ 5  2  4 63  1  8  3  6 43  7 23 33 53 62 60 30 13  0 80 67]\n",
      "Missing Values: 0\n",
      "\n",
      "\n",
      "Feature Name: lga\n",
      "Number of Unique Values: 125\n",
      "Unique Values: ['Ludewa' 'Serengeti' 'Simanjiro' 'Nanyumbu' 'Karagwe' 'Mkinga'\n",
      " 'Shinyanga Rural' 'Kahama' 'Tabora Urban' 'Mkuranga' 'Namtumbo' 'Maswa'\n",
      " 'Siha' 'Meatu' 'Sumbawanga Rural' 'Njombe' 'Ukerewe' 'Bariadi' 'Same'\n",
      " 'Kigoma Rural' 'Moshi Rural' 'Lindi Rural' 'Rombo' 'Chamwino' 'Bagamoyo'\n",
      " 'Mafia' 'Arusha Rural' 'Kyela' 'Kondoa' 'Kilolo' 'Kibondo' 'Makete'\n",
      " 'Singida Rural' 'Masasi' 'Rungwe' 'Moshi Urban' 'Geita' 'Mbulu'\n",
      " 'Bukoba Rural' 'Muheza' 'Lushoto' 'Meru' 'Iramba' 'Kilombero' 'Mbarali'\n",
      " 'Kasulu' 'Bukoba Urban' 'Korogwe' 'Bukombe' 'Morogoro Rural' 'Kishapu'\n",
      " 'Musoma Rural' 'Sengerema' 'Iringa Rural' 'Muleba' 'Dodoma Urban'\n",
      " 'Ruangwa' 'Hanang' 'Misenyi' 'Missungwi' 'Songea Rural' 'Tanga' 'Tunduru'\n",
      " 'Hai' 'Mwanga' 'Chato' 'Biharamulo' 'Ileje' 'Mpwapwa' 'Mvomero' 'Bunda'\n",
      " 'Kiteto' 'Longido' 'Urambo' 'Mbozi' 'Sikonge' 'Ilala' 'Tarime' 'Temeke'\n",
      " 'Mbeya Rural' 'Magu' 'Manyoni' 'Igunga' 'Kilosa' 'Babati' 'Chunya'\n",
      " 'Mufindi' 'Mtwara Rural' 'Ngara' 'Karatu' 'Mpanda' 'Kibaha'\n",
      " 'Singida Urban' 'Newala' 'Nzega' 'Nkasi' 'Bahi' 'Mbinga' 'Ulanga'\n",
      " 'Sumbawanga Urban' 'Morogoro Urban' 'Tandahimba' 'Kisarawe'\n",
      " 'Mtwara Urban' 'Kilwa' 'Liwale' 'Kongwa' 'Uyui' 'Rufiji' 'Kwimba'\n",
      " 'Monduli' 'Shinyanga Urban' 'Ngorongoro' 'Handeni' 'Rorya' 'Pangani'\n",
      " 'Lindi Urban' 'Nachingwea' 'Kinondoni' 'Kigoma Urban' 'Ilemela' 'Kilindi'\n",
      " 'Arusha Urban' 'Songea Urban' 'Nyamagana']\n",
      "Missing Values: 0\n",
      "\n",
      "\n",
      "Feature Name: ward\n",
      "Number of Unique Values: 2092\n",
      "Unique Values: ['Mundindi' 'Natta' 'Ngorika' ... 'Chinugulu' 'Nyamtinga' 'Kinungu']\n",
      "Missing Values: 0\n",
      "\n",
      "\n"
     ]
    }
   ],
   "source": [
    "geo_columns = ['longitude', 'latitude', 'basin', 'subvillage', 'region', 'region_code', 'district_code', 'lga', 'ward']\n",
    "check_unique(geo_columns)\n"
   ]
  },
  {
   "cell_type": "markdown",
   "metadata": {},
   "source": [
    "The features \"longitude\", \"latitude\", \"subvillage\", and \"ward\" all contain a large number of unique discrete values so they will not be very useful for our classifier so I will get rid of them. \"lga\" have 125 unique values which might also be too much but for now I will keep the column."
   ]
  },
  {
   "cell_type": "code",
   "execution_count": 25,
   "metadata": {},
   "outputs": [],
   "source": [
    "df = df.drop(columns=['longitude', 'latitude', 'subvillage', 'ward', 'lga'], axis=1)\n"
   ]
  },
  {
   "cell_type": "code",
   "execution_count": 26,
   "metadata": {},
   "outputs": [
    {
     "data": {
      "text/plain": [
       "Index(['id', 'amount_tsh', 'gps_height', 'num_private', 'basin', 'region',\n",
       "       'region_code', 'district_code', 'population', 'public_meeting',\n",
       "       'scheme_management', 'permit', 'construction_year',\n",
       "       'extraction_type_group', 'management_group', 'payment_type',\n",
       "       'water_quality', 'quantity', 'source', 'waterpoint_type',\n",
       "       'status_group'],\n",
       "      dtype='object')"
      ]
     },
     "execution_count": 26,
     "metadata": {},
     "output_type": "execute_result"
    }
   ],
   "source": [
    "df.columns"
   ]
  },
  {
   "cell_type": "markdown",
   "metadata": {},
   "source": [
    "The remaining geographical columns are 'basin', 'region', 'region_code', 'district_code', and 'lga'. Since 'region_code' is only a numerical code of region, I will get rid of it. Then I will take a look at the five point summary for the columns with numerical data."
   ]
  },
  {
   "cell_type": "code",
   "execution_count": 27,
   "metadata": {
    "scrolled": false
   },
   "outputs": [],
   "source": [
    "df = df.drop(columns=['region_code'], axis=1)\n"
   ]
  },
  {
   "cell_type": "markdown",
   "metadata": {},
   "source": [
    "# Scrubbing Data - Dealing with Outliers"
   ]
  },
  {
   "cell_type": "code",
   "execution_count": 28,
   "metadata": {},
   "outputs": [
    {
     "data": {
      "text/html": [
       "<div>\n",
       "<style scoped>\n",
       "    .dataframe tbody tr th:only-of-type {\n",
       "        vertical-align: middle;\n",
       "    }\n",
       "\n",
       "    .dataframe tbody tr th {\n",
       "        vertical-align: top;\n",
       "    }\n",
       "\n",
       "    .dataframe thead th {\n",
       "        text-align: right;\n",
       "    }\n",
       "</style>\n",
       "<table border=\"1\" class=\"dataframe\">\n",
       "  <thead>\n",
       "    <tr style=\"text-align: right;\">\n",
       "      <th></th>\n",
       "      <th>id</th>\n",
       "      <th>amount_tsh</th>\n",
       "      <th>gps_height</th>\n",
       "      <th>num_private</th>\n",
       "      <th>district_code</th>\n",
       "      <th>population</th>\n",
       "      <th>construction_year</th>\n",
       "    </tr>\n",
       "  </thead>\n",
       "  <tbody>\n",
       "    <tr>\n",
       "      <th>count</th>\n",
       "      <td>59400.000000</td>\n",
       "      <td>59400.000000</td>\n",
       "      <td>59400.000000</td>\n",
       "      <td>59400.000000</td>\n",
       "      <td>59400.000000</td>\n",
       "      <td>59400.000000</td>\n",
       "      <td>59400.000000</td>\n",
       "    </tr>\n",
       "    <tr>\n",
       "      <th>mean</th>\n",
       "      <td>37115.131768</td>\n",
       "      <td>317.650385</td>\n",
       "      <td>668.297239</td>\n",
       "      <td>0.474141</td>\n",
       "      <td>5.629747</td>\n",
       "      <td>179.909983</td>\n",
       "      <td>1300.652475</td>\n",
       "    </tr>\n",
       "    <tr>\n",
       "      <th>std</th>\n",
       "      <td>21453.128371</td>\n",
       "      <td>2997.574558</td>\n",
       "      <td>693.116350</td>\n",
       "      <td>12.236230</td>\n",
       "      <td>9.633649</td>\n",
       "      <td>471.482176</td>\n",
       "      <td>951.620547</td>\n",
       "    </tr>\n",
       "    <tr>\n",
       "      <th>min</th>\n",
       "      <td>0.000000</td>\n",
       "      <td>0.000000</td>\n",
       "      <td>-90.000000</td>\n",
       "      <td>0.000000</td>\n",
       "      <td>0.000000</td>\n",
       "      <td>0.000000</td>\n",
       "      <td>0.000000</td>\n",
       "    </tr>\n",
       "    <tr>\n",
       "      <th>25%</th>\n",
       "      <td>18519.750000</td>\n",
       "      <td>0.000000</td>\n",
       "      <td>0.000000</td>\n",
       "      <td>0.000000</td>\n",
       "      <td>2.000000</td>\n",
       "      <td>0.000000</td>\n",
       "      <td>0.000000</td>\n",
       "    </tr>\n",
       "    <tr>\n",
       "      <th>50%</th>\n",
       "      <td>37061.500000</td>\n",
       "      <td>0.000000</td>\n",
       "      <td>369.000000</td>\n",
       "      <td>0.000000</td>\n",
       "      <td>3.000000</td>\n",
       "      <td>25.000000</td>\n",
       "      <td>1986.000000</td>\n",
       "    </tr>\n",
       "    <tr>\n",
       "      <th>75%</th>\n",
       "      <td>55656.500000</td>\n",
       "      <td>20.000000</td>\n",
       "      <td>1319.250000</td>\n",
       "      <td>0.000000</td>\n",
       "      <td>5.000000</td>\n",
       "      <td>215.000000</td>\n",
       "      <td>2004.000000</td>\n",
       "    </tr>\n",
       "    <tr>\n",
       "      <th>max</th>\n",
       "      <td>74247.000000</td>\n",
       "      <td>350000.000000</td>\n",
       "      <td>2770.000000</td>\n",
       "      <td>1776.000000</td>\n",
       "      <td>80.000000</td>\n",
       "      <td>30500.000000</td>\n",
       "      <td>2013.000000</td>\n",
       "    </tr>\n",
       "  </tbody>\n",
       "</table>\n",
       "</div>"
      ],
      "text/plain": [
       "                 id     amount_tsh    gps_height   num_private  district_code  \\\n",
       "count  59400.000000   59400.000000  59400.000000  59400.000000   59400.000000   \n",
       "mean   37115.131768     317.650385    668.297239      0.474141       5.629747   \n",
       "std    21453.128371    2997.574558    693.116350     12.236230       9.633649   \n",
       "min        0.000000       0.000000    -90.000000      0.000000       0.000000   \n",
       "25%    18519.750000       0.000000      0.000000      0.000000       2.000000   \n",
       "50%    37061.500000       0.000000    369.000000      0.000000       3.000000   \n",
       "75%    55656.500000      20.000000   1319.250000      0.000000       5.000000   \n",
       "max    74247.000000  350000.000000   2770.000000   1776.000000      80.000000   \n",
       "\n",
       "         population  construction_year  \n",
       "count  59400.000000       59400.000000  \n",
       "mean     179.909983        1300.652475  \n",
       "std      471.482176         951.620547  \n",
       "min        0.000000           0.000000  \n",
       "25%        0.000000           0.000000  \n",
       "50%       25.000000        1986.000000  \n",
       "75%      215.000000        2004.000000  \n",
       "max    30500.000000        2013.000000  "
      ]
     },
     "execution_count": 28,
     "metadata": {},
     "output_type": "execute_result"
    }
   ],
   "source": [
    "df.describe()"
   ]
  },
  {
   "cell_type": "code",
   "execution_count": 29,
   "metadata": {
    "scrolled": true
   },
   "outputs": [
    {
     "data": {
      "image/png": "[encoded data removed]",
      "text/plain": [
       "<Figure size 1440x720 with 1 Axes>"
      ]
     },
     "metadata": {
      "needs_background": "light"
     },
     "output_type": "display_data"
    }
   ],
   "source": [
    "import matplotlib.pyplot as plt\n",
    "import seaborn as sns\n",
    "\n",
    "\n",
    "cont_col = ['amount_tsh', 'gps_height', 'num_private', 'population']\n",
    "plt.figure(figsize=(20, 10))\n",
    "sns.boxplot(data=[df[col] for col in cont_col])\n",
    "plt.title(\"Box plot of all columns in dataset\")\n",
    "plt.xticks(range(0,4), cont_col)\n",
    "plt.show()"
   ]
  },
  {
   "cell_type": "markdown",
   "metadata": {},
   "source": [
    "It seems that the amount_tsh column contains very large outliers in the upper bounds, and the population columns also contain some large outliers. Therefore I will remove the outliers while trying out different percentile."
   ]
  },
  {
   "cell_type": "code",
   "execution_count": 30,
   "metadata": {},
   "outputs": [],
   "source": [
    "from scipy import stats\n",
    "import numpy as np\n",
    "\n",
    "#Remove population outliers in the upper bounds\n",
    "q_hi2  = df[\"population\"].quantile(0.90)\n",
    "df = df[(df[\"population\"] < q_hi2)]\n",
    "\n",
    "#Remove amount_tsh outliers in the upper bounds\n",
    "q_hi  = df[\"amount_tsh\"].quantile(0.90)\n",
    "df = df[(df[\"amount_tsh\"] < q_hi)]\n"
   ]
  },
  {
   "cell_type": "code",
   "execution_count": 31,
   "metadata": {
    "scrolled": true
   },
   "outputs": [
    {
     "data": {
      "image/png": "[encoded data removed]",
      "text/plain": [
       "<Figure size 1440x720 with 1 Axes>"
      ]
     },
     "metadata": {
      "needs_background": "light"
     },
     "output_type": "display_data"
    }
   ],
   "source": [
    "plt.figure(figsize=(20, 10))\n",
    "sns.boxplot(data=[df[col] for col in cont_col])\n",
    "plt.title(\"Box plot of all columns in dataset\")\n",
    "plt.xticks(range(0,4), cont_col)\n",
    "plt.show()"
   ]
  },
  {
   "cell_type": "code",
   "execution_count": 32,
   "metadata": {
    "scrolled": false
   },
   "outputs": [
    {
     "data": {
      "text/html": [
       "<div>\n",
       "<style scoped>\n",
       "    .dataframe tbody tr th:only-of-type {\n",
       "        vertical-align: middle;\n",
       "    }\n",
       "\n",
       "    .dataframe tbody tr th {\n",
       "        vertical-align: top;\n",
       "    }\n",
       "\n",
       "    .dataframe thead th {\n",
       "        text-align: right;\n",
       "    }\n",
       "</style>\n",
       "<table border=\"1\" class=\"dataframe\">\n",
       "  <thead>\n",
       "    <tr style=\"text-align: right;\">\n",
       "      <th></th>\n",
       "      <th>id</th>\n",
       "      <th>amount_tsh</th>\n",
       "      <th>gps_height</th>\n",
       "      <th>num_private</th>\n",
       "      <th>district_code</th>\n",
       "      <th>population</th>\n",
       "      <th>construction_year</th>\n",
       "    </tr>\n",
       "  </thead>\n",
       "  <tbody>\n",
       "    <tr>\n",
       "      <th>count</th>\n",
       "      <td>46598.000000</td>\n",
       "      <td>46598.000000</td>\n",
       "      <td>46598.000000</td>\n",
       "      <td>46598.000000</td>\n",
       "      <td>46598.000000</td>\n",
       "      <td>46598.000000</td>\n",
       "      <td>46598.000000</td>\n",
       "    </tr>\n",
       "    <tr>\n",
       "      <th>mean</th>\n",
       "      <td>37121.889030</td>\n",
       "      <td>15.260330</td>\n",
       "      <td>555.539658</td>\n",
       "      <td>0.497725</td>\n",
       "      <td>5.773145</td>\n",
       "      <td>78.690824</td>\n",
       "      <td>1125.210030</td>\n",
       "    </tr>\n",
       "    <tr>\n",
       "      <th>std</th>\n",
       "      <td>21477.480391</td>\n",
       "      <td>51.712144</td>\n",
       "      <td>672.392395</td>\n",
       "      <td>13.121566</td>\n",
       "      <td>9.683438</td>\n",
       "      <td>119.215584</td>\n",
       "      <td>990.297492</td>\n",
       "    </tr>\n",
       "    <tr>\n",
       "      <th>min</th>\n",
       "      <td>0.000000</td>\n",
       "      <td>0.000000</td>\n",
       "      <td>-63.000000</td>\n",
       "      <td>0.000000</td>\n",
       "      <td>0.000000</td>\n",
       "      <td>0.000000</td>\n",
       "      <td>0.000000</td>\n",
       "    </tr>\n",
       "    <tr>\n",
       "      <th>25%</th>\n",
       "      <td>18547.750000</td>\n",
       "      <td>0.000000</td>\n",
       "      <td>0.000000</td>\n",
       "      <td>0.000000</td>\n",
       "      <td>2.000000</td>\n",
       "      <td>0.000000</td>\n",
       "      <td>0.000000</td>\n",
       "    </tr>\n",
       "    <tr>\n",
       "      <th>50%</th>\n",
       "      <td>36995.500000</td>\n",
       "      <td>0.000000</td>\n",
       "      <td>107.000000</td>\n",
       "      <td>0.000000</td>\n",
       "      <td>3.000000</td>\n",
       "      <td>1.000000</td>\n",
       "      <td>1977.000000</td>\n",
       "    </tr>\n",
       "    <tr>\n",
       "      <th>75%</th>\n",
       "      <td>55733.750000</td>\n",
       "      <td>0.000000</td>\n",
       "      <td>1227.000000</td>\n",
       "      <td>0.000000</td>\n",
       "      <td>5.000000</td>\n",
       "      <td>146.000000</td>\n",
       "      <td>2002.000000</td>\n",
       "    </tr>\n",
       "    <tr>\n",
       "      <th>max</th>\n",
       "      <td>74246.000000</td>\n",
       "      <td>450.000000</td>\n",
       "      <td>2770.000000</td>\n",
       "      <td>1776.000000</td>\n",
       "      <td>80.000000</td>\n",
       "      <td>452.000000</td>\n",
       "      <td>2013.000000</td>\n",
       "    </tr>\n",
       "  </tbody>\n",
       "</table>\n",
       "</div>"
      ],
      "text/plain": [
       "                 id    amount_tsh    gps_height   num_private  district_code  \\\n",
       "count  46598.000000  46598.000000  46598.000000  46598.000000   46598.000000   \n",
       "mean   37121.889030     15.260330    555.539658      0.497725       5.773145   \n",
       "std    21477.480391     51.712144    672.392395     13.121566       9.683438   \n",
       "min        0.000000      0.000000    -63.000000      0.000000       0.000000   \n",
       "25%    18547.750000      0.000000      0.000000      0.000000       2.000000   \n",
       "50%    36995.500000      0.000000    107.000000      0.000000       3.000000   \n",
       "75%    55733.750000      0.000000   1227.000000      0.000000       5.000000   \n",
       "max    74246.000000    450.000000   2770.000000   1776.000000      80.000000   \n",
       "\n",
       "         population  construction_year  \n",
       "count  46598.000000       46598.000000  \n",
       "mean      78.690824        1125.210030  \n",
       "std      119.215584         990.297492  \n",
       "min        0.000000           0.000000  \n",
       "25%        0.000000           0.000000  \n",
       "50%        1.000000        1977.000000  \n",
       "75%      146.000000        2002.000000  \n",
       "max      452.000000        2013.000000  "
      ]
     },
     "execution_count": 32,
     "metadata": {},
     "output_type": "execute_result"
    }
   ],
   "source": [
    "df.describe()"
   ]
  },
  {
   "cell_type": "markdown",
   "metadata": {},
   "source": [
    "There are still quiet a few large outliers but I do not want to aggressively cut them off for now, since it might be important to the classifier."
   ]
  },
  {
   "cell_type": "markdown",
   "metadata": {},
   "source": [
    "# Scrubbing Data - Dealing with Missing and Filler Values"
   ]
  },
  {
   "cell_type": "code",
   "execution_count": 33,
   "metadata": {
    "scrolled": true
   },
   "outputs": [
    {
     "data": {
      "text/plain": [
       "id                          0\n",
       "amount_tsh                  0\n",
       "gps_height                  0\n",
       "num_private                 0\n",
       "basin                       0\n",
       "region                      0\n",
       "district_code               0\n",
       "population                  0\n",
       "public_meeting           2917\n",
       "scheme_management        2931\n",
       "permit                   2660\n",
       "construction_year           0\n",
       "extraction_type_group       0\n",
       "management_group            0\n",
       "payment_type                0\n",
       "water_quality               0\n",
       "quantity                    0\n",
       "source                      0\n",
       "waterpoint_type             0\n",
       "status_group                0\n",
       "dtype: int64"
      ]
     },
     "execution_count": 33,
     "metadata": {},
     "output_type": "execute_result"
    }
   ],
   "source": [
    "df.isna().sum()\n"
   ]
  },
  {
   "cell_type": "markdown",
   "metadata": {},
   "source": [
    "Three features have missing value and will have to be dealt with but first I will take a look at the value counts to find the filler values."
   ]
  },
  {
   "cell_type": "code",
   "execution_count": 34,
   "metadata": {},
   "outputs": [
    {
     "data": {
      "text/plain": [
       "functional                 23930\n",
       "non functional             19384\n",
       "functional needs repair     3284\n",
       "Name: status_group, dtype: int64"
      ]
     },
     "execution_count": 34,
     "metadata": {},
     "output_type": "execute_result"
    }
   ],
   "source": [
    "df['status_group'].value_counts()"
   ]
  },
  {
   "cell_type": "code",
   "execution_count": 35,
   "metadata": {},
   "outputs": [
    {
     "name": "stdout",
     "output_type": "stream",
     "text": [
      "id \n",
      " 67583    0.000021\n",
      "58678    0.000021\n",
      "54576    0.000021\n",
      "11567    0.000021\n",
      "6963     0.000021\n",
      "Name: id, dtype: float64 \n",
      "\n",
      "\n",
      "amount_tsh \n",
      " 0.0      0.821924\n",
      "50.0     0.044337\n",
      "20.0     0.027641\n",
      "200.0    0.023005\n",
      "10.0     0.014679\n",
      "Name: amount_tsh, dtype: float64 \n",
      "\n",
      "\n",
      "gps_height \n",
      "  0     0.431499\n",
      "-16    0.001009\n",
      "-13    0.000966\n",
      "-15    0.000966\n",
      "-18    0.000880\n",
      "Name: gps_height, dtype: float64 \n",
      "\n",
      "\n",
      "num_private \n",
      " 0     0.987017\n",
      "1     0.001288\n",
      "6     0.001202\n",
      "8     0.000944\n",
      "32    0.000837\n",
      "Name: num_private, dtype: float64 \n",
      "\n",
      "\n",
      "basin \n",
      " Lake Victoria      0.199794\n",
      "Pangani            0.161724\n",
      "Internal           0.144405\n",
      "Wami / Ruvu        0.103481\n",
      "Lake Tanganyika    0.099575\n",
      "Name: basin, dtype: float64 \n",
      "\n",
      "\n",
      "region \n",
      " Shinyanga      0.104962\n",
      "Mbeya          0.099554\n",
      "Kilimanjaro    0.081034\n",
      "Kagera         0.071162\n",
      "Mwanza         0.062921\n",
      "Name: region, dtype: float64 \n",
      "\n",
      "\n",
      "district_code \n",
      " 1    0.200438\n",
      "2    0.179750\n",
      "3    0.167346\n",
      "4    0.141058\n",
      "6    0.078287\n",
      "Name: district_code, dtype: float64 \n",
      "\n",
      "\n",
      "population \n",
      " 0      0.442594\n",
      "1      0.130885\n",
      "200    0.036890\n",
      "150    0.032770\n",
      "250    0.030302\n",
      "Name: population, dtype: float64 \n",
      "\n",
      "\n",
      "public_meeting \n",
      " True     0.898491\n",
      "False    0.101509\n",
      "Name: public_meeting, dtype: float64 \n",
      "\n",
      "\n",
      "scheme_management \n",
      " VWC                0.671102\n",
      "WUG                0.100556\n",
      "Water Board        0.051732\n",
      "Water authority    0.046419\n",
      "WUA                0.042824\n",
      "Name: scheme_management, dtype: float64 \n",
      "\n",
      "\n",
      "permit \n",
      " True     0.68542\n",
      "False    0.31458\n",
      "Name: permit, dtype: float64 \n",
      "\n",
      "\n",
      "construction_year \n",
      " 0       0.436457\n",
      "2010    0.040710\n",
      "2008    0.038929\n",
      "2000    0.034551\n",
      "2009    0.032619\n",
      "Name: construction_year, dtype: float64 \n",
      "\n",
      "\n",
      "extraction_type_group \n",
      " gravity        0.431049\n",
      "nira/tanira    0.152667\n",
      "other          0.117687\n",
      "submersible    0.107794\n",
      "mono           0.057063\n",
      "Name: extraction_type_group, dtype: float64 \n",
      "\n",
      "\n",
      "management_group \n",
      " user-group    0.876390\n",
      "commercial    0.068715\n",
      "parastatal    0.029508\n",
      "other         0.014979\n",
      "unknown       0.010408\n",
      "Name: management_group, dtype: float64 \n",
      "\n",
      "\n",
      "payment_type \n",
      " never pay     0.493240\n",
      "per bucket    0.168806\n",
      "unknown       0.159191\n",
      "monthly       0.087278\n",
      "on failure    0.059209\n",
      "Name: payment_type, dtype: float64 \n",
      "\n",
      "\n",
      "water_quality \n",
      " soft        0.845551\n",
      "salty       0.082107\n",
      "unknown     0.036675\n",
      "milky       0.016159\n",
      "coloured    0.008906\n",
      "Name: water_quality, dtype: float64 \n",
      "\n",
      "\n",
      "quantity \n",
      " enough          0.540066\n",
      "insufficient    0.254389\n",
      "dry             0.118202\n",
      "seasonal        0.072535\n",
      "unknown         0.014808\n",
      "Name: quantity, dtype: float64 \n",
      "\n",
      "\n",
      "source \n",
      " shallow well            0.302674\n",
      "spring                  0.286429\n",
      "machine dbh             0.185781\n",
      "river                   0.141015\n",
      "rainwater harvesting    0.040667\n",
      "Name: source, dtype: float64 \n",
      "\n",
      "\n",
      "waterpoint_type \n",
      " communal standpipe             0.471093\n",
      "hand pump                      0.291450\n",
      "other                          0.120284\n",
      "communal standpipe multiple    0.101077\n",
      "improved spring                0.014550\n",
      "Name: waterpoint_type, dtype: float64 \n",
      "\n",
      "\n",
      "status_group \n",
      " functional                 0.513541\n",
      "non functional             0.415984\n",
      "functional needs repair    0.070475\n",
      "Name: status_group, dtype: float64 \n",
      "\n",
      "\n"
     ]
    }
   ],
   "source": [
    "for col in df.columns:\n",
    "    print(col, '\\n', df[col].value_counts(normalize=True).head(), '\\n\\n' )\n"
   ]
  },
  {
   "cell_type": "markdown",
   "metadata": {},
   "source": [
    "Filler values found:\n",
    "\n",
    "- population - 0 ,1\n",
    "- construction_year - 0\n",
    "- management_group  - unknown \n",
    "- payment_type - unknown\n",
    "- water_quality - unknown\n",
    "- quantity - unknown\n",
    "\n",
    "Some of these fillers make up a large majority of the data so getting rid of them is not ideal. Instead I will look to replace them using KNN Imputer, which replace the value using the K-nearest neighbors values.\n",
    "\n",
    "First I will replace all the filler values with nan."
   ]
  },
  {
   "cell_type": "code",
   "execution_count": 36,
   "metadata": {},
   "outputs": [
    {
     "data": {
      "text/plain": [
       "id                           0\n",
       "amount_tsh                   0\n",
       "gps_height                   0\n",
       "num_private                  0\n",
       "basin                        0\n",
       "region                       0\n",
       "district_code                0\n",
       "population               26723\n",
       "public_meeting            2917\n",
       "scheme_management         2931\n",
       "permit                    2660\n",
       "construction_year        20338\n",
       "extraction_type_group        0\n",
       "management_group             0\n",
       "payment_type                 0\n",
       "water_quality                0\n",
       "quantity                     0\n",
       "source                       0\n",
       "waterpoint_type              0\n",
       "status_group                 0\n",
       "dtype: int64"
      ]
     },
     "execution_count": 36,
     "metadata": {},
     "output_type": "execute_result"
    }
   ],
   "source": [
    "#Replace the 0 and 1 in population column with np.nan\n",
    "df['population'].replace({0: np.nan, 1:np.nan}, inplace=True)\n",
    "\n",
    "# #Replace the 0 in construction_year column with np.nan\n",
    "df['construction_year'].replace({0: np.nan}, inplace=True)\n",
    "\n",
    "# #Replace the unknown in management_group, payment_type, water_quality, quantity column with np.nan\n",
    "df['management_group'].replace({'unknwon': np.nan}, inplace=True)\n",
    "df['payment_type'].replace({'unknwon': np.nan}, inplace=True)\n",
    "df['water_quality'].replace({'unknwon': np.nan}, inplace=True)\n",
    "df['quantity'].replace({'unknwon': np.nan}, inplace=True)\n",
    "\n",
    "df.isna().sum()"
   ]
  },
  {
   "cell_type": "markdown",
   "metadata": {},
   "source": [
    "Next I will create dummy variables for categorical data before using the KNN Imputer. I will create two different data, one with drop_first=True to use with Logistic Regression and another to use with other classifier."
   ]
  },
  {
   "cell_type": "code",
   "execution_count": 37,
   "metadata": {},
   "outputs": [],
   "source": [
    "X = df.drop('status_group', axis=1)\n",
    "y = df['status_group']\n",
    "\n",
    "# Creating dummies and dropping one variable to avoid dummy variable trap\n",
    "X_dummy_logreg = pd.get_dummies(X, drop_first=True)\n",
    "X_dummy = pd.get_dummies(X, drop_first=False)\n"
   ]
  },
  {
   "cell_type": "markdown",
   "metadata": {},
   "source": [
    "Next I will split the data into training and testing datasets into .75 to .25 ratio before further scrubbing the data to prevent data leak."
   ]
  },
  {
   "cell_type": "code",
   "execution_count": 38,
   "metadata": {},
   "outputs": [],
   "source": [
    "from sklearn.model_selection import train_test_split\n",
    "\n",
    "X_train_logreg, X_test_logreg, y_train_logreg, y_test_logreg = train_test_split(X_dummy_logreg, y, test_size=0.25, random_state=21)\n",
    "X_train, X_test, y_train, y_test = train_test_split(X_dummy, y, test_size=0.25, random_state=21)\n"
   ]
  },
  {
   "cell_type": "markdown",
   "metadata": {},
   "source": [
    "Before using the KNN Imputer I will need to scale the data first. Since I was not aggresive with cutting off outliers, I will use the StandardScaler insteader of MinMaxScaler which is sensative to outliers."
   ]
  },
  {
   "cell_type": "code",
   "execution_count": 39,
   "metadata": {},
   "outputs": [
    {
     "data": {
      "text/html": [
       "<div>\n",
       "<style scoped>\n",
       "    .dataframe tbody tr th:only-of-type {\n",
       "        vertical-align: middle;\n",
       "    }\n",
       "\n",
       "    .dataframe tbody tr th {\n",
       "        vertical-align: top;\n",
       "    }\n",
       "\n",
       "    .dataframe thead th {\n",
       "        text-align: right;\n",
       "    }\n",
       "</style>\n",
       "<table border=\"1\" class=\"dataframe\">\n",
       "  <thead>\n",
       "    <tr style=\"text-align: right;\">\n",
       "      <th></th>\n",
       "      <th>id</th>\n",
       "      <th>amount_tsh</th>\n",
       "      <th>gps_height</th>\n",
       "      <th>num_private</th>\n",
       "      <th>district_code</th>\n",
       "      <th>population</th>\n",
       "      <th>construction_year</th>\n",
       "      <th>basin_Internal</th>\n",
       "      <th>basin_Lake Nyasa</th>\n",
       "      <th>basin_Lake Rukwa</th>\n",
       "      <th>...</th>\n",
       "      <th>source_shallow well</th>\n",
       "      <th>source_spring</th>\n",
       "      <th>source_unknown</th>\n",
       "      <th>waterpoint_type_cattle trough</th>\n",
       "      <th>waterpoint_type_communal standpipe</th>\n",
       "      <th>waterpoint_type_communal standpipe multiple</th>\n",
       "      <th>waterpoint_type_dam</th>\n",
       "      <th>waterpoint_type_hand pump</th>\n",
       "      <th>waterpoint_type_improved spring</th>\n",
       "      <th>waterpoint_type_other</th>\n",
       "    </tr>\n",
       "  </thead>\n",
       "  <tbody>\n",
       "    <tr>\n",
       "      <th>count</th>\n",
       "      <td>3.494800e+04</td>\n",
       "      <td>3.494800e+04</td>\n",
       "      <td>3.494800e+04</td>\n",
       "      <td>3.494800e+04</td>\n",
       "      <td>3.494800e+04</td>\n",
       "      <td>1.498200e+04</td>\n",
       "      <td>1.980200e+04</td>\n",
       "      <td>3.494800e+04</td>\n",
       "      <td>3.494800e+04</td>\n",
       "      <td>3.494800e+04</td>\n",
       "      <td>...</td>\n",
       "      <td>3.494800e+04</td>\n",
       "      <td>3.494800e+04</td>\n",
       "      <td>3.494800e+04</td>\n",
       "      <td>3.494800e+04</td>\n",
       "      <td>3.494800e+04</td>\n",
       "      <td>3.494800e+04</td>\n",
       "      <td>3.494800e+04</td>\n",
       "      <td>3.494800e+04</td>\n",
       "      <td>3.494800e+04</td>\n",
       "      <td>3.494800e+04</td>\n",
       "    </tr>\n",
       "    <tr>\n",
       "      <th>mean</th>\n",
       "      <td>-1.108063e-17</td>\n",
       "      <td>7.327574e-16</td>\n",
       "      <td>7.103324e-16</td>\n",
       "      <td>-1.202878e-15</td>\n",
       "      <td>-8.194042e-17</td>\n",
       "      <td>-1.413159e-17</td>\n",
       "      <td>-7.165592e-15</td>\n",
       "      <td>2.463368e-15</td>\n",
       "      <td>-3.492784e-15</td>\n",
       "      <td>-1.478984e-16</td>\n",
       "      <td>...</td>\n",
       "      <td>1.721144e-15</td>\n",
       "      <td>6.344803e-16</td>\n",
       "      <td>-4.488036e-15</td>\n",
       "      <td>1.653333e-15</td>\n",
       "      <td>3.663406e-16</td>\n",
       "      <td>5.590984e-16</td>\n",
       "      <td>-6.840001e-16</td>\n",
       "      <td>3.356846e-16</td>\n",
       "      <td>1.213331e-15</td>\n",
       "      <td>2.620756e-15</td>\n",
       "    </tr>\n",
       "    <tr>\n",
       "      <th>std</th>\n",
       "      <td>1.000014e+00</td>\n",
       "      <td>1.000014e+00</td>\n",
       "      <td>1.000014e+00</td>\n",
       "      <td>1.000014e+00</td>\n",
       "      <td>1.000014e+00</td>\n",
       "      <td>1.000033e+00</td>\n",
       "      <td>1.000025e+00</td>\n",
       "      <td>1.000014e+00</td>\n",
       "      <td>1.000014e+00</td>\n",
       "      <td>1.000014e+00</td>\n",
       "      <td>...</td>\n",
       "      <td>1.000014e+00</td>\n",
       "      <td>1.000014e+00</td>\n",
       "      <td>1.000014e+00</td>\n",
       "      <td>1.000014e+00</td>\n",
       "      <td>1.000014e+00</td>\n",
       "      <td>1.000014e+00</td>\n",
       "      <td>1.000014e+00</td>\n",
       "      <td>1.000014e+00</td>\n",
       "      <td>1.000014e+00</td>\n",
       "      <td>1.000014e+00</td>\n",
       "    </tr>\n",
       "    <tr>\n",
       "      <th>min</th>\n",
       "      <td>-1.728463e+00</td>\n",
       "      <td>-2.951943e-01</td>\n",
       "      <td>-9.230485e-01</td>\n",
       "      <td>-4.477115e-02</td>\n",
       "      <td>-5.961371e-01</td>\n",
       "      <td>-1.544362e+00</td>\n",
       "      <td>-2.840693e+00</td>\n",
       "      <td>-4.117445e-01</td>\n",
       "      <td>-3.044758e-01</td>\n",
       "      <td>-2.099175e-01</td>\n",
       "      <td>...</td>\n",
       "      <td>-6.578486e-01</td>\n",
       "      <td>-6.350215e-01</td>\n",
       "      <td>-3.427170e-02</td>\n",
       "      <td>-3.860236e-02</td>\n",
       "      <td>-9.461105e-01</td>\n",
       "      <td>-3.336088e-01</td>\n",
       "      <td>-7.565128e-03</td>\n",
       "      <td>-6.391050e-01</td>\n",
       "      <td>-1.194951e-01</td>\n",
       "      <td>-3.725808e-01</td>\n",
       "    </tr>\n",
       "    <tr>\n",
       "      <th>25%</th>\n",
       "      <td>-8.656800e-01</td>\n",
       "      <td>-2.951943e-01</td>\n",
       "      <td>-8.294642e-01</td>\n",
       "      <td>-4.477115e-02</td>\n",
       "      <td>-3.899527e-01</td>\n",
       "      <td>-8.840700e-01</td>\n",
       "      <td>-8.247776e-01</td>\n",
       "      <td>-4.117445e-01</td>\n",
       "      <td>-3.044758e-01</td>\n",
       "      <td>-2.099175e-01</td>\n",
       "      <td>...</td>\n",
       "      <td>-6.578486e-01</td>\n",
       "      <td>-6.350215e-01</td>\n",
       "      <td>-3.427170e-02</td>\n",
       "      <td>-3.860236e-02</td>\n",
       "      <td>-9.461105e-01</td>\n",
       "      <td>-3.336088e-01</td>\n",
       "      <td>-7.565128e-03</td>\n",
       "      <td>-6.391050e-01</td>\n",
       "      <td>-1.194951e-01</td>\n",
       "      <td>-3.725808e-01</td>\n",
       "    </tr>\n",
       "    <tr>\n",
       "      <th>50%</th>\n",
       "      <td>-7.415307e-03</td>\n",
       "      <td>-2.951943e-01</td>\n",
       "      <td>-6.549221e-01</td>\n",
       "      <td>-4.477115e-02</td>\n",
       "      <td>-2.868605e-01</td>\n",
       "      <td>-2.068474e-01</td>\n",
       "      <td>2.607151e-01</td>\n",
       "      <td>-4.117445e-01</td>\n",
       "      <td>-3.044758e-01</td>\n",
       "      <td>-2.099175e-01</td>\n",
       "      <td>...</td>\n",
       "      <td>-6.578486e-01</td>\n",
       "      <td>-6.350215e-01</td>\n",
       "      <td>-3.427170e-02</td>\n",
       "      <td>-3.860236e-02</td>\n",
       "      <td>-9.461105e-01</td>\n",
       "      <td>-3.336088e-01</td>\n",
       "      <td>-7.565128e-03</td>\n",
       "      <td>-6.391050e-01</td>\n",
       "      <td>-1.194951e-01</td>\n",
       "      <td>-3.725808e-01</td>\n",
       "    </tr>\n",
       "    <tr>\n",
       "      <th>75%</th>\n",
       "      <td>8.648135e-01</td>\n",
       "      <td>-2.951943e-01</td>\n",
       "      <td>9.991433e-01</td>\n",
       "      <td>-4.477115e-02</td>\n",
       "      <td>-8.067610e-02</td>\n",
       "      <td>6.396809e-01</td>\n",
       "      <td>8.809967e-01</td>\n",
       "      <td>-4.117445e-01</td>\n",
       "      <td>-3.044758e-01</td>\n",
       "      <td>-2.099175e-01</td>\n",
       "      <td>...</td>\n",
       "      <td>1.520106e+00</td>\n",
       "      <td>1.574750e+00</td>\n",
       "      <td>-3.427170e-02</td>\n",
       "      <td>-3.860236e-02</td>\n",
       "      <td>1.056959e+00</td>\n",
       "      <td>-3.336088e-01</td>\n",
       "      <td>-7.565128e-03</td>\n",
       "      <td>1.564688e+00</td>\n",
       "      <td>-1.194951e-01</td>\n",
       "      <td>-3.725808e-01</td>\n",
       "    </tr>\n",
       "    <tr>\n",
       "      <th>max</th>\n",
       "      <td>1.730171e+00</td>\n",
       "      <td>8.327372e+00</td>\n",
       "      <td>3.285274e+00</td>\n",
       "      <td>1.301889e+02</td>\n",
       "      <td>7.651239e+00</td>\n",
       "      <td>2.265015e+00</td>\n",
       "      <td>1.268673e+00</td>\n",
       "      <td>2.428691e+00</td>\n",
       "      <td>3.284334e+00</td>\n",
       "      <td>4.763776e+00</td>\n",
       "      <td>...</td>\n",
       "      <td>1.520106e+00</td>\n",
       "      <td>1.574750e+00</td>\n",
       "      <td>2.917859e+01</td>\n",
       "      <td>2.590515e+01</td>\n",
       "      <td>1.056959e+00</td>\n",
       "      <td>2.997523e+00</td>\n",
       "      <td>1.321855e+02</td>\n",
       "      <td>1.564688e+00</td>\n",
       "      <td>8.368544e+00</td>\n",
       "      <td>2.683981e+00</td>\n",
       "    </tr>\n",
       "  </tbody>\n",
       "</table>\n",
       "<p>8 rows × 108 columns</p>\n",
       "</div>"
      ],
      "text/plain": [
       "                 id    amount_tsh    gps_height   num_private  district_code  \\\n",
       "count  3.494800e+04  3.494800e+04  3.494800e+04  3.494800e+04   3.494800e+04   \n",
       "mean  -1.108063e-17  7.327574e-16  7.103324e-16 -1.202878e-15  -8.194042e-17   \n",
       "std    1.000014e+00  1.000014e+00  1.000014e+00  1.000014e+00   1.000014e+00   \n",
       "min   -1.728463e+00 -2.951943e-01 -9.230485e-01 -4.477115e-02  -5.961371e-01   \n",
       "25%   -8.656800e-01 -2.951943e-01 -8.294642e-01 -4.477115e-02  -3.899527e-01   \n",
       "50%   -7.415307e-03 -2.951943e-01 -6.549221e-01 -4.477115e-02  -2.868605e-01   \n",
       "75%    8.648135e-01 -2.951943e-01  9.991433e-01 -4.477115e-02  -8.067610e-02   \n",
       "max    1.730171e+00  8.327372e+00  3.285274e+00  1.301889e+02   7.651239e+00   \n",
       "\n",
       "         population  construction_year  basin_Internal  basin_Lake Nyasa  \\\n",
       "count  1.498200e+04       1.980200e+04    3.494800e+04      3.494800e+04   \n",
       "mean  -1.413159e-17      -7.165592e-15    2.463368e-15     -3.492784e-15   \n",
       "std    1.000033e+00       1.000025e+00    1.000014e+00      1.000014e+00   \n",
       "min   -1.544362e+00      -2.840693e+00   -4.117445e-01     -3.044758e-01   \n",
       "25%   -8.840700e-01      -8.247776e-01   -4.117445e-01     -3.044758e-01   \n",
       "50%   -2.068474e-01       2.607151e-01   -4.117445e-01     -3.044758e-01   \n",
       "75%    6.396809e-01       8.809967e-01   -4.117445e-01     -3.044758e-01   \n",
       "max    2.265015e+00       1.268673e+00    2.428691e+00      3.284334e+00   \n",
       "\n",
       "       basin_Lake Rukwa  ...  source_shallow well  source_spring  \\\n",
       "count      3.494800e+04  ...         3.494800e+04   3.494800e+04   \n",
       "mean      -1.478984e-16  ...         1.721144e-15   6.344803e-16   \n",
       "std        1.000014e+00  ...         1.000014e+00   1.000014e+00   \n",
       "min       -2.099175e-01  ...        -6.578486e-01  -6.350215e-01   \n",
       "25%       -2.099175e-01  ...        -6.578486e-01  -6.350215e-01   \n",
       "50%       -2.099175e-01  ...        -6.578486e-01  -6.350215e-01   \n",
       "75%       -2.099175e-01  ...         1.520106e+00   1.574750e+00   \n",
       "max        4.763776e+00  ...         1.520106e+00   1.574750e+00   \n",
       "\n",
       "       source_unknown  waterpoint_type_cattle trough  \\\n",
       "count    3.494800e+04                   3.494800e+04   \n",
       "mean    -4.488036e-15                   1.653333e-15   \n",
       "std      1.000014e+00                   1.000014e+00   \n",
       "min     -3.427170e-02                  -3.860236e-02   \n",
       "25%     -3.427170e-02                  -3.860236e-02   \n",
       "50%     -3.427170e-02                  -3.860236e-02   \n",
       "75%     -3.427170e-02                  -3.860236e-02   \n",
       "max      2.917859e+01                   2.590515e+01   \n",
       "\n",
       "       waterpoint_type_communal standpipe  \\\n",
       "count                        3.494800e+04   \n",
       "mean                         3.663406e-16   \n",
       "std                          1.000014e+00   \n",
       "min                         -9.461105e-01   \n",
       "25%                         -9.461105e-01   \n",
       "50%                         -9.461105e-01   \n",
       "75%                          1.056959e+00   \n",
       "max                          1.056959e+00   \n",
       "\n",
       "       waterpoint_type_communal standpipe multiple  waterpoint_type_dam  \\\n",
       "count                                 3.494800e+04         3.494800e+04   \n",
       "mean                                  5.590984e-16        -6.840001e-16   \n",
       "std                                   1.000014e+00         1.000014e+00   \n",
       "min                                  -3.336088e-01        -7.565128e-03   \n",
       "25%                                  -3.336088e-01        -7.565128e-03   \n",
       "50%                                  -3.336088e-01        -7.565128e-03   \n",
       "75%                                  -3.336088e-01        -7.565128e-03   \n",
       "max                                   2.997523e+00         1.321855e+02   \n",
       "\n",
       "       waterpoint_type_hand pump  waterpoint_type_improved spring  \\\n",
       "count               3.494800e+04                     3.494800e+04   \n",
       "mean                3.356846e-16                     1.213331e-15   \n",
       "std                 1.000014e+00                     1.000014e+00   \n",
       "min                -6.391050e-01                    -1.194951e-01   \n",
       "25%                -6.391050e-01                    -1.194951e-01   \n",
       "50%                -6.391050e-01                    -1.194951e-01   \n",
       "75%                 1.564688e+00                    -1.194951e-01   \n",
       "max                 1.564688e+00                     8.368544e+00   \n",
       "\n",
       "       waterpoint_type_other  \n",
       "count           3.494800e+04  \n",
       "mean            2.620756e-15  \n",
       "std             1.000014e+00  \n",
       "min            -3.725808e-01  \n",
       "25%            -3.725808e-01  \n",
       "50%            -3.725808e-01  \n",
       "75%            -3.725808e-01  \n",
       "max             2.683981e+00  \n",
       "\n",
       "[8 rows x 108 columns]"
      ]
     },
     "execution_count": 39,
     "metadata": {},
     "output_type": "execute_result"
    }
   ],
   "source": [
    "from sklearn.preprocessing import StandardScaler\n",
    "\n",
    "scaler = StandardScaler()\n",
    "\n",
    "# Fitting and transforming the data for the logistic regression dataset\n",
    "X_train_logreg = pd.DataFrame(scaler.fit_transform(X_train_logreg), columns = X_train_logreg.columns)\n",
    "X_test_logreg = pd.DataFrame(scaler.transform(X_test_logreg), columns = X_test_logreg.columns)\n",
    "\n",
    "# Fitting and transforming the data for the main dataset\n",
    "X_train = pd.DataFrame(scaler.fit_transform(X_train), columns = X_train.columns)\n",
    "X_test = pd.DataFrame(scaler.transform(X_test), columns = X_test.columns)\n",
    "\n",
    "X_train.describe()"
   ]
  },
  {
   "cell_type": "markdown",
   "metadata": {},
   "source": [
    "Now that the data is normalize we can now use the KNN Imputer."
   ]
  },
  {
   "cell_type": "code",
   "execution_count": null,
   "metadata": {},
   "outputs": [],
   "source": [
    "from sklearn.impute import KNNImputer\n",
    "# I will use the nearest 5 neighbors to impute\n",
    "imputer = KNNImputer(n_neighbors=5)\n",
    "\n",
    "X_train_logreg = pd.DataFrame(imputer.fit_transform(X_train_logreg),columns = X_train_logreg.columns)\n",
    "X_test_logreg = pd.DataFrame(imputer.transform(X_test_logreg),columns = X_test_logreg.columns)\n",
    "\n",
    "X_train = pd.DataFrame(imputer.fit_transform(X_train),columns = X_train.columns)\n",
    "X_test = pd.DataFrame(imputer.transform(X_test),columns = X_test.columns)\n"
   ]
  },
  {
   "cell_type": "code",
   "execution_count": null,
   "metadata": {},
   "outputs": [],
   "source": []
  }
 ],
 "metadata": {
  "kernelspec": {
   "display_name": "Python 3",
   "language": "python",
   "name": "python3"
  },
  "language_info": {
   "codemirror_mode": {
    "name": "ipython",
    "version": 3
   },
   "file_extension": ".py",
   "mimetype": "text/x-python",
   "name": "python",
   "nbconvert_exporter": "python",
   "pygments_lexer": "ipython3",
   "version": "3.8.3"
  }
 },
 "nbformat": 4,
 "nbformat_minor": 4
}
