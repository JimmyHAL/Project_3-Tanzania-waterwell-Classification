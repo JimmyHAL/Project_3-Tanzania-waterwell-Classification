{
 "cells": [
  {
   "cell_type": "markdown",
   "metadata": {
    "id": "gyNR1Fv5JhHD"
   },
   "source": [
    "## Module 3 Project - Tanzania Water Well Prediction\n",
    "The purpose of this project is to build a classification model to predict the conditions of water well in Tanzania. The target will be classify into one of the three categories-\n",
    "\n",
    "- functional - the waterpoint is operational and there are no repairs needed\n",
    "- functional needs repair - the waterpoint is operational, but needs repairs\n",
    "- non functional - the waterpoint is not operational\n",
    "\n",
    "To build this classifier I will be using the data from Taarifa and the Tanzanian Ministry of Water. I will be using the OSEMN framework steps\n",
    "\n",
    "1. Obtain the data\n",
    "2. Scrub the data\n",
    "3. Explore the data\n",
    "4. Model the model\n",
    "5. Interpret the data\n",
    "\n",
    "First I will import some of the tools I will be using."
   ]
  },
  {
   "cell_type": "code",
   "execution_count": 1,
   "metadata": {
    "id": "M-G5SB_oJhHM"
   },
   "outputs": [],
   "source": [
    "import pandas as pd\n",
    "from sklearn.model_selection import train_test_split\n"
   ]
  },
  {
   "cell_type": "markdown",
   "metadata": {
    "id": "0Y1oIZVWJhHN"
   },
   "source": [
    "# Obtain the Data\n",
    "The data available for us are three csv files\n",
    "\n",
    "- Test set values: The independent variables that need predictions\n",
    "- Training set labels: The dependent variable (status_group) for each of the rows in Training set values\n",
    "- Training set values: The independent variables for the training set\n",
    "\n",
    "Since the test set values are meant to be submitted to a competition, the labels is available to us. So I will have to split the training set data to test the models."
   ]
  },
  {
   "cell_type": "code",
   "execution_count": 3,
   "metadata": {
    "id": "K7IihDFmJhHP"
   },
   "outputs": [],
   "source": [
    "features = pd.read_csv('content/training_set_labels.csv')\n",
    "target = pd.read_csv('content/training_set_values.csv')\n",
    "df = pd.merge(features, target, on='id', how='inner')"
   ]
  },
  {
   "cell_type": "code",
   "execution_count": 4,
   "metadata": {
    "colab": {
     "base_uri": "https://localhost:8080/",
     "height": 807
    },
    "id": "tq8n26cEgDih",
    "outputId": "24f6f7ea-0657-4c14-a570-a21ddc68aa3b"
   },
   "outputs": [
    {
     "data": {
      "text/html": [
       "<div>\n",
       "<style scoped>\n",
       "    .dataframe tbody tr th:only-of-type {\n",
       "        vertical-align: middle;\n",
       "    }\n",
       "\n",
       "    .dataframe tbody tr th {\n",
       "        vertical-align: top;\n",
       "    }\n",
       "\n",
       "    .dataframe thead th {\n",
       "        text-align: right;\n",
       "    }\n",
       "</style>\n",
       "<table border=\"1\" class=\"dataframe\">\n",
       "  <thead>\n",
       "    <tr style=\"text-align: right;\">\n",
       "      <th></th>\n",
       "      <th>id</th>\n",
       "      <th>amount_tsh</th>\n",
       "      <th>date_recorded</th>\n",
       "      <th>funder</th>\n",
       "      <th>gps_height</th>\n",
       "      <th>installer</th>\n",
       "      <th>longitude</th>\n",
       "      <th>latitude</th>\n",
       "      <th>wpt_name</th>\n",
       "      <th>num_private</th>\n",
       "      <th>...</th>\n",
       "      <th>payment_type</th>\n",
       "      <th>water_quality</th>\n",
       "      <th>quality_group</th>\n",
       "      <th>quantity</th>\n",
       "      <th>quantity_group</th>\n",
       "      <th>source</th>\n",
       "      <th>source_type</th>\n",
       "      <th>source_class</th>\n",
       "      <th>waterpoint_type</th>\n",
       "      <th>waterpoint_type_group</th>\n",
       "    </tr>\n",
       "  </thead>\n",
       "  <tbody>\n",
       "    <tr>\n",
       "      <th>0</th>\n",
       "      <td>69572</td>\n",
       "      <td>6000.0</td>\n",
       "      <td>2011-03-14</td>\n",
       "      <td>Roman</td>\n",
       "      <td>1390</td>\n",
       "      <td>Roman</td>\n",
       "      <td>34.938093</td>\n",
       "      <td>-9.856322</td>\n",
       "      <td>none</td>\n",
       "      <td>0</td>\n",
       "      <td>...</td>\n",
       "      <td>annually</td>\n",
       "      <td>soft</td>\n",
       "      <td>good</td>\n",
       "      <td>enough</td>\n",
       "      <td>enough</td>\n",
       "      <td>spring</td>\n",
       "      <td>spring</td>\n",
       "      <td>groundwater</td>\n",
       "      <td>communal standpipe</td>\n",
       "      <td>communal standpipe</td>\n",
       "    </tr>\n",
       "    <tr>\n",
       "      <th>1</th>\n",
       "      <td>8776</td>\n",
       "      <td>0.0</td>\n",
       "      <td>2013-03-06</td>\n",
       "      <td>Grumeti</td>\n",
       "      <td>1399</td>\n",
       "      <td>GRUMETI</td>\n",
       "      <td>34.698766</td>\n",
       "      <td>-2.147466</td>\n",
       "      <td>Zahanati</td>\n",
       "      <td>0</td>\n",
       "      <td>...</td>\n",
       "      <td>never pay</td>\n",
       "      <td>soft</td>\n",
       "      <td>good</td>\n",
       "      <td>insufficient</td>\n",
       "      <td>insufficient</td>\n",
       "      <td>rainwater harvesting</td>\n",
       "      <td>rainwater harvesting</td>\n",
       "      <td>surface</td>\n",
       "      <td>communal standpipe</td>\n",
       "      <td>communal standpipe</td>\n",
       "    </tr>\n",
       "    <tr>\n",
       "      <th>2</th>\n",
       "      <td>34310</td>\n",
       "      <td>25.0</td>\n",
       "      <td>2013-02-25</td>\n",
       "      <td>Lottery Club</td>\n",
       "      <td>686</td>\n",
       "      <td>World vision</td>\n",
       "      <td>37.460664</td>\n",
       "      <td>-3.821329</td>\n",
       "      <td>Kwa Mahundi</td>\n",
       "      <td>0</td>\n",
       "      <td>...</td>\n",
       "      <td>per bucket</td>\n",
       "      <td>soft</td>\n",
       "      <td>good</td>\n",
       "      <td>enough</td>\n",
       "      <td>enough</td>\n",
       "      <td>dam</td>\n",
       "      <td>dam</td>\n",
       "      <td>surface</td>\n",
       "      <td>communal standpipe multiple</td>\n",
       "      <td>communal standpipe</td>\n",
       "    </tr>\n",
       "    <tr>\n",
       "      <th>3</th>\n",
       "      <td>67743</td>\n",
       "      <td>0.0</td>\n",
       "      <td>2013-01-28</td>\n",
       "      <td>Unicef</td>\n",
       "      <td>263</td>\n",
       "      <td>UNICEF</td>\n",
       "      <td>38.486161</td>\n",
       "      <td>-11.155298</td>\n",
       "      <td>Zahanati Ya Nanyumbu</td>\n",
       "      <td>0</td>\n",
       "      <td>...</td>\n",
       "      <td>never pay</td>\n",
       "      <td>soft</td>\n",
       "      <td>good</td>\n",
       "      <td>dry</td>\n",
       "      <td>dry</td>\n",
       "      <td>machine dbh</td>\n",
       "      <td>borehole</td>\n",
       "      <td>groundwater</td>\n",
       "      <td>communal standpipe multiple</td>\n",
       "      <td>communal standpipe</td>\n",
       "    </tr>\n",
       "    <tr>\n",
       "      <th>4</th>\n",
       "      <td>19728</td>\n",
       "      <td>0.0</td>\n",
       "      <td>2011-07-13</td>\n",
       "      <td>Action In A</td>\n",
       "      <td>0</td>\n",
       "      <td>Artisan</td>\n",
       "      <td>31.130847</td>\n",
       "      <td>-1.825359</td>\n",
       "      <td>Shuleni</td>\n",
       "      <td>0</td>\n",
       "      <td>...</td>\n",
       "      <td>never pay</td>\n",
       "      <td>soft</td>\n",
       "      <td>good</td>\n",
       "      <td>seasonal</td>\n",
       "      <td>seasonal</td>\n",
       "      <td>rainwater harvesting</td>\n",
       "      <td>rainwater harvesting</td>\n",
       "      <td>surface</td>\n",
       "      <td>communal standpipe</td>\n",
       "      <td>communal standpipe</td>\n",
       "    </tr>\n",
       "    <tr>\n",
       "      <th>...</th>\n",
       "      <td>...</td>\n",
       "      <td>...</td>\n",
       "      <td>...</td>\n",
       "      <td>...</td>\n",
       "      <td>...</td>\n",
       "      <td>...</td>\n",
       "      <td>...</td>\n",
       "      <td>...</td>\n",
       "      <td>...</td>\n",
       "      <td>...</td>\n",
       "      <td>...</td>\n",
       "      <td>...</td>\n",
       "      <td>...</td>\n",
       "      <td>...</td>\n",
       "      <td>...</td>\n",
       "      <td>...</td>\n",
       "      <td>...</td>\n",
       "      <td>...</td>\n",
       "      <td>...</td>\n",
       "      <td>...</td>\n",
       "      <td>...</td>\n",
       "    </tr>\n",
       "    <tr>\n",
       "      <th>59395</th>\n",
       "      <td>60739</td>\n",
       "      <td>10.0</td>\n",
       "      <td>2013-05-03</td>\n",
       "      <td>Germany Republi</td>\n",
       "      <td>1210</td>\n",
       "      <td>CES</td>\n",
       "      <td>37.169807</td>\n",
       "      <td>-3.253847</td>\n",
       "      <td>Area Three Namba 27</td>\n",
       "      <td>0</td>\n",
       "      <td>...</td>\n",
       "      <td>per bucket</td>\n",
       "      <td>soft</td>\n",
       "      <td>good</td>\n",
       "      <td>enough</td>\n",
       "      <td>enough</td>\n",
       "      <td>spring</td>\n",
       "      <td>spring</td>\n",
       "      <td>groundwater</td>\n",
       "      <td>communal standpipe</td>\n",
       "      <td>communal standpipe</td>\n",
       "    </tr>\n",
       "    <tr>\n",
       "      <th>59396</th>\n",
       "      <td>27263</td>\n",
       "      <td>4700.0</td>\n",
       "      <td>2011-05-07</td>\n",
       "      <td>Cefa-njombe</td>\n",
       "      <td>1212</td>\n",
       "      <td>Cefa</td>\n",
       "      <td>35.249991</td>\n",
       "      <td>-9.070629</td>\n",
       "      <td>Kwa Yahona Kuvala</td>\n",
       "      <td>0</td>\n",
       "      <td>...</td>\n",
       "      <td>annually</td>\n",
       "      <td>soft</td>\n",
       "      <td>good</td>\n",
       "      <td>enough</td>\n",
       "      <td>enough</td>\n",
       "      <td>river</td>\n",
       "      <td>river/lake</td>\n",
       "      <td>surface</td>\n",
       "      <td>communal standpipe</td>\n",
       "      <td>communal standpipe</td>\n",
       "    </tr>\n",
       "    <tr>\n",
       "      <th>59397</th>\n",
       "      <td>37057</td>\n",
       "      <td>0.0</td>\n",
       "      <td>2011-04-11</td>\n",
       "      <td>NaN</td>\n",
       "      <td>0</td>\n",
       "      <td>NaN</td>\n",
       "      <td>34.017087</td>\n",
       "      <td>-8.750434</td>\n",
       "      <td>Mashine</td>\n",
       "      <td>0</td>\n",
       "      <td>...</td>\n",
       "      <td>monthly</td>\n",
       "      <td>fluoride</td>\n",
       "      <td>fluoride</td>\n",
       "      <td>enough</td>\n",
       "      <td>enough</td>\n",
       "      <td>machine dbh</td>\n",
       "      <td>borehole</td>\n",
       "      <td>groundwater</td>\n",
       "      <td>hand pump</td>\n",
       "      <td>hand pump</td>\n",
       "    </tr>\n",
       "    <tr>\n",
       "      <th>59398</th>\n",
       "      <td>31282</td>\n",
       "      <td>0.0</td>\n",
       "      <td>2011-03-08</td>\n",
       "      <td>Malec</td>\n",
       "      <td>0</td>\n",
       "      <td>Musa</td>\n",
       "      <td>35.861315</td>\n",
       "      <td>-6.378573</td>\n",
       "      <td>Mshoro</td>\n",
       "      <td>0</td>\n",
       "      <td>...</td>\n",
       "      <td>never pay</td>\n",
       "      <td>soft</td>\n",
       "      <td>good</td>\n",
       "      <td>insufficient</td>\n",
       "      <td>insufficient</td>\n",
       "      <td>shallow well</td>\n",
       "      <td>shallow well</td>\n",
       "      <td>groundwater</td>\n",
       "      <td>hand pump</td>\n",
       "      <td>hand pump</td>\n",
       "    </tr>\n",
       "    <tr>\n",
       "      <th>59399</th>\n",
       "      <td>26348</td>\n",
       "      <td>0.0</td>\n",
       "      <td>2011-03-23</td>\n",
       "      <td>World Bank</td>\n",
       "      <td>191</td>\n",
       "      <td>World</td>\n",
       "      <td>38.104048</td>\n",
       "      <td>-6.747464</td>\n",
       "      <td>Kwa Mzee Lugawa</td>\n",
       "      <td>0</td>\n",
       "      <td>...</td>\n",
       "      <td>on failure</td>\n",
       "      <td>salty</td>\n",
       "      <td>salty</td>\n",
       "      <td>enough</td>\n",
       "      <td>enough</td>\n",
       "      <td>shallow well</td>\n",
       "      <td>shallow well</td>\n",
       "      <td>groundwater</td>\n",
       "      <td>hand pump</td>\n",
       "      <td>hand pump</td>\n",
       "    </tr>\n",
       "  </tbody>\n",
       "</table>\n",
       "<p>59400 rows × 40 columns</p>\n",
       "</div>"
      ],
      "text/plain": [
       "          id  amount_tsh date_recorded           funder  gps_height  \\\n",
       "0      69572      6000.0    2011-03-14            Roman        1390   \n",
       "1       8776         0.0    2013-03-06          Grumeti        1399   \n",
       "2      34310        25.0    2013-02-25     Lottery Club         686   \n",
       "3      67743         0.0    2013-01-28           Unicef         263   \n",
       "4      19728         0.0    2011-07-13      Action In A           0   \n",
       "...      ...         ...           ...              ...         ...   \n",
       "59395  60739        10.0    2013-05-03  Germany Republi        1210   \n",
       "59396  27263      4700.0    2011-05-07      Cefa-njombe        1212   \n",
       "59397  37057         0.0    2011-04-11              NaN           0   \n",
       "59398  31282         0.0    2011-03-08            Malec           0   \n",
       "59399  26348         0.0    2011-03-23       World Bank         191   \n",
       "\n",
       "          installer  longitude   latitude              wpt_name  num_private  \\\n",
       "0             Roman  34.938093  -9.856322                  none            0   \n",
       "1           GRUMETI  34.698766  -2.147466              Zahanati            0   \n",
       "2      World vision  37.460664  -3.821329           Kwa Mahundi            0   \n",
       "3            UNICEF  38.486161 -11.155298  Zahanati Ya Nanyumbu            0   \n",
       "4           Artisan  31.130847  -1.825359               Shuleni            0   \n",
       "...             ...        ...        ...                   ...          ...   \n",
       "59395           CES  37.169807  -3.253847   Area Three Namba 27            0   \n",
       "59396          Cefa  35.249991  -9.070629     Kwa Yahona Kuvala            0   \n",
       "59397           NaN  34.017087  -8.750434               Mashine            0   \n",
       "59398          Musa  35.861315  -6.378573                Mshoro            0   \n",
       "59399         World  38.104048  -6.747464       Kwa Mzee Lugawa            0   \n",
       "\n",
       "       ... payment_type water_quality quality_group      quantity  \\\n",
       "0      ...     annually          soft          good        enough   \n",
       "1      ...    never pay          soft          good  insufficient   \n",
       "2      ...   per bucket          soft          good        enough   \n",
       "3      ...    never pay          soft          good           dry   \n",
       "4      ...    never pay          soft          good      seasonal   \n",
       "...    ...          ...           ...           ...           ...   \n",
       "59395  ...   per bucket          soft          good        enough   \n",
       "59396  ...     annually          soft          good        enough   \n",
       "59397  ...      monthly      fluoride      fluoride        enough   \n",
       "59398  ...    never pay          soft          good  insufficient   \n",
       "59399  ...   on failure         salty         salty        enough   \n",
       "\n",
       "       quantity_group                source           source_type  \\\n",
       "0              enough                spring                spring   \n",
       "1        insufficient  rainwater harvesting  rainwater harvesting   \n",
       "2              enough                   dam                   dam   \n",
       "3                 dry           machine dbh              borehole   \n",
       "4            seasonal  rainwater harvesting  rainwater harvesting   \n",
       "...               ...                   ...                   ...   \n",
       "59395          enough                spring                spring   \n",
       "59396          enough                 river            river/lake   \n",
       "59397          enough           machine dbh              borehole   \n",
       "59398    insufficient          shallow well          shallow well   \n",
       "59399          enough          shallow well          shallow well   \n",
       "\n",
       "       source_class              waterpoint_type waterpoint_type_group  \n",
       "0       groundwater           communal standpipe    communal standpipe  \n",
       "1           surface           communal standpipe    communal standpipe  \n",
       "2           surface  communal standpipe multiple    communal standpipe  \n",
       "3       groundwater  communal standpipe multiple    communal standpipe  \n",
       "4           surface           communal standpipe    communal standpipe  \n",
       "...             ...                          ...                   ...  \n",
       "59395   groundwater           communal standpipe    communal standpipe  \n",
       "59396       surface           communal standpipe    communal standpipe  \n",
       "59397   groundwater                    hand pump             hand pump  \n",
       "59398   groundwater                    hand pump             hand pump  \n",
       "59399   groundwater                    hand pump             hand pump  \n",
       "\n",
       "[59400 rows x 40 columns]"
      ]
     },
     "execution_count": 4,
     "metadata": {},
     "output_type": "execute_result"
    }
   ],
   "source": [
    "target"
   ]
  },
  {
   "cell_type": "code",
   "execution_count": null,
   "metadata": {
    "colab": {
     "base_uri": "https://localhost:8080/",
     "height": 426
    },
    "id": "1Hfy-X_yJhHQ",
    "outputId": "037c1514-c5da-4019-884e-e7526a1722de",
    "scrolled": true
   },
   "outputs": [
    {
     "data": {
      "text/html": [
       "<div>\n",
       "<style scoped>\n",
       "    .dataframe tbody tr th:only-of-type {\n",
       "        vertical-align: middle;\n",
       "    }\n",
       "\n",
       "    .dataframe tbody tr th {\n",
       "        vertical-align: top;\n",
       "    }\n",
       "\n",
       "    .dataframe thead th {\n",
       "        text-align: right;\n",
       "    }\n",
       "</style>\n",
       "<table border=\"1\" class=\"dataframe\">\n",
       "  <thead>\n",
       "    <tr style=\"text-align: right;\">\n",
       "      <th></th>\n",
       "      <th>id</th>\n",
       "      <th>status_group</th>\n",
       "      <th>amount_tsh</th>\n",
       "      <th>date_recorded</th>\n",
       "      <th>funder</th>\n",
       "      <th>gps_height</th>\n",
       "      <th>installer</th>\n",
       "      <th>longitude</th>\n",
       "      <th>latitude</th>\n",
       "      <th>wpt_name</th>\n",
       "      <th>num_private</th>\n",
       "      <th>basin</th>\n",
       "      <th>subvillage</th>\n",
       "      <th>region</th>\n",
       "      <th>region_code</th>\n",
       "      <th>district_code</th>\n",
       "      <th>lga</th>\n",
       "      <th>ward</th>\n",
       "      <th>population</th>\n",
       "      <th>public_meeting</th>\n",
       "      <th>recorded_by</th>\n",
       "      <th>scheme_management</th>\n",
       "      <th>scheme_name</th>\n",
       "      <th>permit</th>\n",
       "      <th>construction_year</th>\n",
       "      <th>extraction_type</th>\n",
       "      <th>extraction_type_group</th>\n",
       "      <th>extraction_type_class</th>\n",
       "      <th>management</th>\n",
       "      <th>management_group</th>\n",
       "      <th>payment</th>\n",
       "      <th>payment_type</th>\n",
       "      <th>water_quality</th>\n",
       "      <th>quality_group</th>\n",
       "      <th>quantity</th>\n",
       "      <th>quantity_group</th>\n",
       "      <th>source</th>\n",
       "      <th>source_type</th>\n",
       "      <th>source_class</th>\n",
       "      <th>waterpoint_type</th>\n",
       "      <th>waterpoint_type_group</th>\n",
       "    </tr>\n",
       "  </thead>\n",
       "  <tbody>\n",
       "    <tr>\n",
       "      <th>0</th>\n",
       "      <td>69572</td>\n",
       "      <td>functional</td>\n",
       "      <td>6000.0</td>\n",
       "      <td>2011-03-14</td>\n",
       "      <td>Roman</td>\n",
       "      <td>1390</td>\n",
       "      <td>Roman</td>\n",
       "      <td>34.938093</td>\n",
       "      <td>-9.856322</td>\n",
       "      <td>none</td>\n",
       "      <td>0</td>\n",
       "      <td>Lake Nyasa</td>\n",
       "      <td>Mnyusi B</td>\n",
       "      <td>Iringa</td>\n",
       "      <td>11</td>\n",
       "      <td>5</td>\n",
       "      <td>Ludewa</td>\n",
       "      <td>Mundindi</td>\n",
       "      <td>109</td>\n",
       "      <td>True</td>\n",
       "      <td>GeoData Consultants Ltd</td>\n",
       "      <td>VWC</td>\n",
       "      <td>Roman</td>\n",
       "      <td>False</td>\n",
       "      <td>1999</td>\n",
       "      <td>gravity</td>\n",
       "      <td>gravity</td>\n",
       "      <td>gravity</td>\n",
       "      <td>vwc</td>\n",
       "      <td>user-group</td>\n",
       "      <td>pay annually</td>\n",
       "      <td>annually</td>\n",
       "      <td>soft</td>\n",
       "      <td>good</td>\n",
       "      <td>enough</td>\n",
       "      <td>enough</td>\n",
       "      <td>spring</td>\n",
       "      <td>spring</td>\n",
       "      <td>groundwater</td>\n",
       "      <td>communal standpipe</td>\n",
       "      <td>communal standpipe</td>\n",
       "    </tr>\n",
       "    <tr>\n",
       "      <th>1</th>\n",
       "      <td>8776</td>\n",
       "      <td>functional</td>\n",
       "      <td>0.0</td>\n",
       "      <td>2013-03-06</td>\n",
       "      <td>Grumeti</td>\n",
       "      <td>1399</td>\n",
       "      <td>GRUMETI</td>\n",
       "      <td>34.698766</td>\n",
       "      <td>-2.147466</td>\n",
       "      <td>Zahanati</td>\n",
       "      <td>0</td>\n",
       "      <td>Lake Victoria</td>\n",
       "      <td>Nyamara</td>\n",
       "      <td>Mara</td>\n",
       "      <td>20</td>\n",
       "      <td>2</td>\n",
       "      <td>Serengeti</td>\n",
       "      <td>Natta</td>\n",
       "      <td>280</td>\n",
       "      <td>NaN</td>\n",
       "      <td>GeoData Consultants Ltd</td>\n",
       "      <td>Other</td>\n",
       "      <td>NaN</td>\n",
       "      <td>True</td>\n",
       "      <td>2010</td>\n",
       "      <td>gravity</td>\n",
       "      <td>gravity</td>\n",
       "      <td>gravity</td>\n",
       "      <td>wug</td>\n",
       "      <td>user-group</td>\n",
       "      <td>never pay</td>\n",
       "      <td>never pay</td>\n",
       "      <td>soft</td>\n",
       "      <td>good</td>\n",
       "      <td>insufficient</td>\n",
       "      <td>insufficient</td>\n",
       "      <td>rainwater harvesting</td>\n",
       "      <td>rainwater harvesting</td>\n",
       "      <td>surface</td>\n",
       "      <td>communal standpipe</td>\n",
       "      <td>communal standpipe</td>\n",
       "    </tr>\n",
       "    <tr>\n",
       "      <th>2</th>\n",
       "      <td>34310</td>\n",
       "      <td>functional</td>\n",
       "      <td>25.0</td>\n",
       "      <td>2013-02-25</td>\n",
       "      <td>Lottery Club</td>\n",
       "      <td>686</td>\n",
       "      <td>World vision</td>\n",
       "      <td>37.460664</td>\n",
       "      <td>-3.821329</td>\n",
       "      <td>Kwa Mahundi</td>\n",
       "      <td>0</td>\n",
       "      <td>Pangani</td>\n",
       "      <td>Majengo</td>\n",
       "      <td>Manyara</td>\n",
       "      <td>21</td>\n",
       "      <td>4</td>\n",
       "      <td>Simanjiro</td>\n",
       "      <td>Ngorika</td>\n",
       "      <td>250</td>\n",
       "      <td>True</td>\n",
       "      <td>GeoData Consultants Ltd</td>\n",
       "      <td>VWC</td>\n",
       "      <td>Nyumba ya mungu pipe scheme</td>\n",
       "      <td>True</td>\n",
       "      <td>2009</td>\n",
       "      <td>gravity</td>\n",
       "      <td>gravity</td>\n",
       "      <td>gravity</td>\n",
       "      <td>vwc</td>\n",
       "      <td>user-group</td>\n",
       "      <td>pay per bucket</td>\n",
       "      <td>per bucket</td>\n",
       "      <td>soft</td>\n",
       "      <td>good</td>\n",
       "      <td>enough</td>\n",
       "      <td>enough</td>\n",
       "      <td>dam</td>\n",
       "      <td>dam</td>\n",
       "      <td>surface</td>\n",
       "      <td>communal standpipe multiple</td>\n",
       "      <td>communal standpipe</td>\n",
       "    </tr>\n",
       "    <tr>\n",
       "      <th>3</th>\n",
       "      <td>67743</td>\n",
       "      <td>non functional</td>\n",
       "      <td>0.0</td>\n",
       "      <td>2013-01-28</td>\n",
       "      <td>Unicef</td>\n",
       "      <td>263</td>\n",
       "      <td>UNICEF</td>\n",
       "      <td>38.486161</td>\n",
       "      <td>-11.155298</td>\n",
       "      <td>Zahanati Ya Nanyumbu</td>\n",
       "      <td>0</td>\n",
       "      <td>Ruvuma / Southern Coast</td>\n",
       "      <td>Mahakamani</td>\n",
       "      <td>Mtwara</td>\n",
       "      <td>90</td>\n",
       "      <td>63</td>\n",
       "      <td>Nanyumbu</td>\n",
       "      <td>Nanyumbu</td>\n",
       "      <td>58</td>\n",
       "      <td>True</td>\n",
       "      <td>GeoData Consultants Ltd</td>\n",
       "      <td>VWC</td>\n",
       "      <td>NaN</td>\n",
       "      <td>True</td>\n",
       "      <td>1986</td>\n",
       "      <td>submersible</td>\n",
       "      <td>submersible</td>\n",
       "      <td>submersible</td>\n",
       "      <td>vwc</td>\n",
       "      <td>user-group</td>\n",
       "      <td>never pay</td>\n",
       "      <td>never pay</td>\n",
       "      <td>soft</td>\n",
       "      <td>good</td>\n",
       "      <td>dry</td>\n",
       "      <td>dry</td>\n",
       "      <td>machine dbh</td>\n",
       "      <td>borehole</td>\n",
       "      <td>groundwater</td>\n",
       "      <td>communal standpipe multiple</td>\n",
       "      <td>communal standpipe</td>\n",
       "    </tr>\n",
       "    <tr>\n",
       "      <th>4</th>\n",
       "      <td>19728</td>\n",
       "      <td>functional</td>\n",
       "      <td>0.0</td>\n",
       "      <td>2011-07-13</td>\n",
       "      <td>Action In A</td>\n",
       "      <td>0</td>\n",
       "      <td>Artisan</td>\n",
       "      <td>31.130847</td>\n",
       "      <td>-1.825359</td>\n",
       "      <td>Shuleni</td>\n",
       "      <td>0</td>\n",
       "      <td>Lake Victoria</td>\n",
       "      <td>Kyanyamisa</td>\n",
       "      <td>Kagera</td>\n",
       "      <td>18</td>\n",
       "      <td>1</td>\n",
       "      <td>Karagwe</td>\n",
       "      <td>Nyakasimbi</td>\n",
       "      <td>0</td>\n",
       "      <td>True</td>\n",
       "      <td>GeoData Consultants Ltd</td>\n",
       "      <td>NaN</td>\n",
       "      <td>NaN</td>\n",
       "      <td>True</td>\n",
       "      <td>0</td>\n",
       "      <td>gravity</td>\n",
       "      <td>gravity</td>\n",
       "      <td>gravity</td>\n",
       "      <td>other</td>\n",
       "      <td>other</td>\n",
       "      <td>never pay</td>\n",
       "      <td>never pay</td>\n",
       "      <td>soft</td>\n",
       "      <td>good</td>\n",
       "      <td>seasonal</td>\n",
       "      <td>seasonal</td>\n",
       "      <td>rainwater harvesting</td>\n",
       "      <td>rainwater harvesting</td>\n",
       "      <td>surface</td>\n",
       "      <td>communal standpipe</td>\n",
       "      <td>communal standpipe</td>\n",
       "    </tr>\n",
       "  </tbody>\n",
       "</table>\n",
       "</div>"
      ],
      "text/plain": [
       "      id    status_group  ...              waterpoint_type waterpoint_type_group\n",
       "0  69572      functional  ...           communal standpipe    communal standpipe\n",
       "1   8776      functional  ...           communal standpipe    communal standpipe\n",
       "2  34310      functional  ...  communal standpipe multiple    communal standpipe\n",
       "3  67743  non functional  ...  communal standpipe multiple    communal standpipe\n",
       "4  19728      functional  ...           communal standpipe    communal standpipe\n",
       "\n",
       "[5 rows x 41 columns]"
      ]
     },
     "metadata": {
      "tags": []
     },
     "output_type": "display_data"
    },
    {
     "name": "stdout",
     "output_type": "stream",
     "text": [
      "59400\n"
     ]
    }
   ],
   "source": [
    "display(df.head())\n",
    "print(len(df))"
   ]
  },
  {
   "cell_type": "markdown",
   "metadata": {
    "id": "nm4_-Z7PJhHV"
   },
   "source": [
    "I will first print out all the column discription to see which columns will be useful.\n",
    "\n",
    "- amount_tsh - Total static head (amount water available to waterpoint)\n",
    "- date_recorded - The date the row was entered\n",
    "- funder - Who funded the well\n",
    "- gps_height - Altitude of the well\n",
    "- installer - Organization that installed the well\n",
    "- longitude - GPS coordinate\n",
    "- latitude - GPS coordinate\n",
    "- wpt_name - Name of the waterpoint if there is one\n",
    "- num_private -\n",
    "- basin - Geographic water basin\n",
    "- subvillage - Geographic location\n",
    "- region - Geographic location\n",
    "- region_code - Geographic location (coded)\n",
    "- district_code - Geographic location (coded)\n",
    "- lga - Geographic location\n",
    "- ward - Geographic location\n",
    "- population - Population around the well\n",
    "- public_meeting - True/False\n",
    "- recorded_by - Group entering this row of data\n",
    "- scheme_management - Who operates the waterpoint\n",
    "- scheme_name - Who operates the waterpoint\n",
    "- permit - If the waterpoint is permitted\n",
    "- construction_year - Year the waterpoint was constructed\n",
    "- extraction_type - The kind of extraction the waterpoint uses\n",
    "- extraction_type_group - The kind of extraction the waterpoint uses\n",
    "- extraction_type_class - The kind of extraction the waterpoint uses\n",
    "- management - How the waterpoint is managed\n",
    "- management_group - How the waterpoint is managed\n",
    "- payment - What the water costs\n",
    "- payment_type - What the water costs\n",
    "- water_quality - The quality of the water\n",
    "- quality_group - The quality of the water\n",
    "- quantity - The quantity of water\n",
    "- quantity_group - The quantity of water\n",
    "- source - The source of the water\n",
    "- source_type - The source of the water\n",
    "- source_class - The source of the water\n",
    "- waterpoint_type - The kind of waterpoint\n",
    "- waterpoint_type_group - The kind of waterpoint"
   ]
  },
  {
   "cell_type": "markdown",
   "metadata": {
    "id": "CX6MVD0DJhHW"
   },
   "source": [
    "# Scrubbing The Data\n",
    "First I will drops some columns which seems irrelevant for our purpose."
   ]
  },
  {
   "cell_type": "code",
   "execution_count": null,
   "metadata": {
    "id": "4gFLXiRHJhHX"
   },
   "outputs": [],
   "source": [
    "df = df.drop(columns=['date_recorded', 'funder', 'wpt_name', 'recorded_by'], axis=1)"
   ]
  },
  {
   "cell_type": "markdown",
   "metadata": {
    "id": "MzjohvW6JhHX"
   },
   "source": [
    "I also noticed that some of the labels have the same or similar discriptions. So I will be checking these to see if the columns are duplicates and if I can get rid of some of them.\n",
    "\n",
    "- scheme_management - Who operates the waterpoint\n",
    "- scheme_name - Who operates the waterpoint\n",
    "- management - How the waterpoint is managed\n",
    "- management_group - How the waterpoint is managed\n",
    "\n",
    "\n",
    "- extraction_type - The kind of extraction the waterpoint uses\n",
    "- extraction_type_group - The kind of extraction the waterpoint uses\n",
    "- extraction_type_class - The kind of extraction the waterpoint uses\n",
    "\n",
    "\n",
    "- source - The source of the water\n",
    "- source_type - The source of the water\n",
    "- source_class - The source of the water\n",
    "\n",
    "\n",
    "- water_quality - The quality of the water\n",
    "- quality_group - The quality of the water\n",
    "\n",
    "\n",
    "- quantity - The quantity of water\n",
    "- quantity_group - The quantity of water.\n",
    "\n",
    "\n",
    "- payment - What the water costs\n",
    "- payment_type - What the water costs\n",
    "\n",
    "\n",
    "- waterpoint_type - The kind of waterpoint\n",
    "- waterpoint_type_group - The kind of waterpoint\n",
    "\n",
    "First I will build a function that takes in a list and easily let me check the values."
   ]
  },
  {
   "cell_type": "code",
   "execution_count": null,
   "metadata": {
    "id": "qn2g6JNmJhHZ"
   },
   "outputs": [],
   "source": [
    "def check_unique(l):\n",
    "    for i in l:\n",
    "        print(\"Feature Name:\", i)\n",
    "        print(\"Number of Unique Values:\", len(df[i].unique()))\n",
    "        print(\"Unique Values:\", df[i].unique())\n",
    "        print(\"Missing Values:\", df[i].isna().sum())\n",
    "        print('\\n')"
   ]
  },
  {
   "cell_type": "code",
   "execution_count": null,
   "metadata": {
    "colab": {
     "base_uri": "https://localhost:8080/"
    },
    "id": "b9MK2X8FJhHa",
    "outputId": "5266439f-4db0-425d-df8b-f2028657d878"
   },
   "outputs": [
    {
     "name": "stdout",
     "output_type": "stream",
     "text": [
      "Feature Name: scheme_management\n",
      "Number of Unique Values: 13\n",
      "Unique Values: ['VWC' 'Other' nan 'Private operator' 'WUG' 'Water Board' 'WUA'\n",
      " 'Water authority' 'Company' 'Parastatal' 'Trust' 'SWC' 'None']\n",
      "Missing Values: 3877\n",
      "\n",
      "\n",
      "Feature Name: scheme_name\n",
      "Number of Unique Values: 2697\n",
      "Unique Values: ['Roman' nan 'Nyumba ya mungu pipe scheme' ... 'BL Nsherehehe'\n",
      " 'Magati  gravity spri' 'Mtawanya']\n",
      "Missing Values: 28166\n",
      "\n",
      "\n",
      "Feature Name: management\n",
      "Number of Unique Values: 12\n",
      "Unique Values: ['vwc' 'wug' 'other' 'private operator' 'water board' 'wua' 'company'\n",
      " 'water authority' 'parastatal' 'unknown' 'other - school' 'trust']\n",
      "Missing Values: 0\n",
      "\n",
      "\n",
      "Feature Name: management_group\n",
      "Number of Unique Values: 5\n",
      "Unique Values: ['user-group' 'other' 'commercial' 'parastatal' 'unknown']\n",
      "Missing Values: 0\n",
      "\n",
      "\n"
     ]
    }
   ],
   "source": [
    "check_unique(['scheme_management', 'scheme_name', 'management', 'management_group'])"
   ]
  },
  {
   "cell_type": "markdown",
   "metadata": {
    "id": "Azr3jUhrJhHc"
   },
   "source": [
    "scheme_management and management have similars values. scheme_management uses 'None' and 'nan' for missing values while managment uses 'unknown'. scheme_management also have the value 'SWC' which isn't in management, therefore I will drop the management column.  I will also drop the scheme_name columns since it contain 2697 unique string values which will be too much when creating dummies variables.\n",
    "\n",
    "After that I will check the next set of columns.."
   ]
  },
  {
   "cell_type": "code",
   "execution_count": null,
   "metadata": {
    "id": "KxU6y6LFJhHd"
   },
   "outputs": [],
   "source": [
    "df = df.drop(columns=['management', 'scheme_name'], axis=1)"
   ]
  },
  {
   "cell_type": "code",
   "execution_count": null,
   "metadata": {
    "colab": {
     "base_uri": "https://localhost:8080/"
    },
    "id": "UUtnY3tGJhHe",
    "outputId": "417f5877-db74-4e7c-8044-686023518a30"
   },
   "outputs": [
    {
     "name": "stdout",
     "output_type": "stream",
     "text": [
      "Feature Name: extraction_type\n",
      "Number of Unique Values: 18\n",
      "Unique Values: ['gravity' 'submersible' 'swn 80' 'nira/tanira' 'india mark ii' 'other'\n",
      " 'ksb' 'mono' 'windmill' 'afridev' 'other - rope pump' 'india mark iii'\n",
      " 'other - swn 81' 'other - play pump' 'cemo' 'climax' 'walimi'\n",
      " 'other - mkulima/shinyanga']\n",
      "Missing Values: 0\n",
      "\n",
      "\n",
      "Feature Name: extraction_type_group\n",
      "Number of Unique Values: 13\n",
      "Unique Values: ['gravity' 'submersible' 'swn 80' 'nira/tanira' 'india mark ii' 'other'\n",
      " 'mono' 'wind-powered' 'afridev' 'rope pump' 'india mark iii'\n",
      " 'other handpump' 'other motorpump']\n",
      "Missing Values: 0\n",
      "\n",
      "\n",
      "Feature Name: extraction_type_class\n",
      "Number of Unique Values: 7\n",
      "Unique Values: ['gravity' 'submersible' 'handpump' 'other' 'motorpump' 'wind-powered'\n",
      " 'rope pump']\n",
      "Missing Values: 0\n",
      "\n",
      "\n"
     ]
    }
   ],
   "source": [
    "check_unique(['extraction_type', 'extraction_type_group', 'extraction_type_class'])"
   ]
  },
  {
   "cell_type": "code",
   "execution_count": null,
   "metadata": {
    "colab": {
     "base_uri": "https://localhost:8080/"
    },
    "id": "bpuv6U6-JhHf",
    "outputId": "35c1b6fe-6cf3-4216-b782-3586f3c7951a"
   },
   "outputs": [
    {
     "data": {
      "text/plain": [
       "gravity                      26780\n",
       "nira/tanira                   8154\n",
       "other                         6430\n",
       "submersible                   4764\n",
       "swn 80                        3670\n",
       "mono                          2865\n",
       "india mark ii                 2400\n",
       "afridev                       1770\n",
       "ksb                           1415\n",
       "other - rope pump              451\n",
       "other - swn 81                 229\n",
       "windmill                       117\n",
       "india mark iii                  98\n",
       "cemo                            90\n",
       "other - play pump               85\n",
       "walimi                          48\n",
       "climax                          32\n",
       "other - mkulima/shinyanga        2\n",
       "Name: extraction_type, dtype: int64"
      ]
     },
     "execution_count": 109,
     "metadata": {
      "tags": []
     },
     "output_type": "execute_result"
    }
   ],
   "source": [
    "df['extraction_type'].value_counts()"
   ]
  },
  {
   "cell_type": "markdown",
   "metadata": {
    "id": "dr_kpTANJhHg"
   },
   "source": [
    "All three columns have the same values except extraction_type has 18 unique values while  extraction_type_group and extraction_type_class only have 13 and 7 respectively. Since the total sum of values for the five extra categories in extraction_type isn't alot, I will use the extraction_type_group for my model.                               "
   ]
  },
  {
   "cell_type": "code",
   "execution_count": null,
   "metadata": {
    "id": "msRuyFRTJhHh"
   },
   "outputs": [],
   "source": [
    "df = df.drop(columns=['extraction_type', 'extraction_type_class'], axis=1)"
   ]
  },
  {
   "cell_type": "code",
   "execution_count": null,
   "metadata": {
    "colab": {
     "base_uri": "https://localhost:8080/"
    },
    "id": "HSFouw2NJhHh",
    "outputId": "9511f72e-29d6-4493-d7ea-edfbdf0d6722"
   },
   "outputs": [
    {
     "name": "stdout",
     "output_type": "stream",
     "text": [
      "Feature Name: source\n",
      "Number of Unique Values: 10\n",
      "Unique Values: ['spring' 'rainwater harvesting' 'dam' 'machine dbh' 'other'\n",
      " 'shallow well' 'river' 'hand dtw' 'lake' 'unknown']\n",
      "Missing Values: 0\n",
      "\n",
      "\n",
      "Feature Name: source_type\n",
      "Number of Unique Values: 7\n",
      "Unique Values: ['spring' 'rainwater harvesting' 'dam' 'borehole' 'other' 'shallow well'\n",
      " 'river/lake']\n",
      "Missing Values: 0\n",
      "\n",
      "\n",
      "Feature Name: source_class\n",
      "Number of Unique Values: 3\n",
      "Unique Values: ['groundwater' 'surface' 'unknown']\n",
      "Missing Values: 0\n",
      "\n",
      "\n"
     ]
    }
   ],
   "source": [
    "check_unique(['source', 'source_type', 'source_class'])"
   ]
  },
  {
   "cell_type": "markdown",
   "metadata": {
    "id": "0s1SZq5eJhHi"
   },
   "source": [
    "These three categories all have similar values also. 'source_class' have only 3 categories while 'source_type' and 'source' have 7 and 10 categories. Since the subcategories are quiet diffrent I will use the source column."
   ]
  },
  {
   "cell_type": "code",
   "execution_count": null,
   "metadata": {
    "id": "pBgz9Vx9JhHi"
   },
   "outputs": [],
   "source": [
    "df = df.drop(columns=['source_type', 'source_class'], axis=1)"
   ]
  },
  {
   "cell_type": "code",
   "execution_count": null,
   "metadata": {
    "colab": {
     "base_uri": "https://localhost:8080/"
    },
    "id": "SVcfpAf0JhHj",
    "outputId": "3e91f942-561e-4a5d-dfd2-7a4ead4eedc4"
   },
   "outputs": [
    {
     "name": "stdout",
     "output_type": "stream",
     "text": [
      "Feature Name: water_quality\n",
      "Number of Unique Values: 8\n",
      "Unique Values: ['soft' 'salty' 'milky' 'unknown' 'fluoride' 'coloured' 'salty abandoned'\n",
      " 'fluoride abandoned']\n",
      "Missing Values: 0\n",
      "\n",
      "\n",
      "Feature Name: quality_group\n",
      "Number of Unique Values: 6\n",
      "Unique Values: ['good' 'salty' 'milky' 'unknown' 'fluoride' 'colored']\n",
      "Missing Values: 0\n",
      "\n",
      "\n"
     ]
    }
   ],
   "source": [
    "check_unique(['water_quality', 'quality_group'])"
   ]
  },
  {
   "cell_type": "markdown",
   "metadata": {
    "id": "M-PuP1IDJhHj"
   },
   "source": [
    "These two columns also have similar values. 'water_quality' column have the value 'soft' instead of 'good' and also contained two extra categories of 'salty abandoned' and 'fluoride abandoned'. Since these categories insinuate a non_funtional water well, it could be imporatant for our model. So we will keep the 'water_quality' column."
   ]
  },
  {
   "cell_type": "code",
   "execution_count": null,
   "metadata": {
    "id": "XRFrI_AYJhHj"
   },
   "outputs": [],
   "source": [
    "df = df.drop(columns=['quality_group'], axis=1)"
   ]
  },
  {
   "cell_type": "code",
   "execution_count": null,
   "metadata": {
    "colab": {
     "base_uri": "https://localhost:8080/"
    },
    "id": "QepTvws6JhHj",
    "outputId": "4e36cbd0-1683-4dfd-a2ea-aca57df0011e"
   },
   "outputs": [
    {
     "name": "stdout",
     "output_type": "stream",
     "text": [
      "Feature Name: quantity\n",
      "Number of Unique Values: 5\n",
      "Unique Values: ['enough' 'insufficient' 'dry' 'seasonal' 'unknown']\n",
      "Missing Values: 0\n",
      "\n",
      "\n",
      "Feature Name: quantity_group\n",
      "Number of Unique Values: 5\n",
      "Unique Values: ['enough' 'insufficient' 'dry' 'seasonal' 'unknown']\n",
      "Missing Values: 0\n",
      "\n",
      "\n"
     ]
    }
   ],
   "source": [
    "check_unique(['quantity', 'quantity_group'])"
   ]
  },
  {
   "cell_type": "markdown",
   "metadata": {
    "id": "C4dOqkAnJhHk"
   },
   "source": [
    "These two columns are exactly the same so I will get rid of one of them."
   ]
  },
  {
   "cell_type": "code",
   "execution_count": null,
   "metadata": {
    "id": "Aeb4znuiJhHk"
   },
   "outputs": [],
   "source": [
    "df = df.drop(columns=['quantity_group'], axis=1)"
   ]
  },
  {
   "cell_type": "code",
   "execution_count": null,
   "metadata": {
    "colab": {
     "base_uri": "https://localhost:8080/"
    },
    "id": "JWQbdwfmJhHk",
    "outputId": "4edd8fad-e907-49ae-c1ef-eed4937075b4"
   },
   "outputs": [
    {
     "name": "stdout",
     "output_type": "stream",
     "text": [
      "Feature Name: payment\n",
      "Number of Unique Values: 7\n",
      "Unique Values: ['pay annually' 'never pay' 'pay per bucket' 'unknown'\n",
      " 'pay when scheme fails' 'other' 'pay monthly']\n",
      "Missing Values: 0\n",
      "\n",
      "\n",
      "Feature Name: payment_type\n",
      "Number of Unique Values: 7\n",
      "Unique Values: ['annually' 'never pay' 'per bucket' 'unknown' 'on failure' 'other'\n",
      " 'monthly']\n",
      "Missing Values: 0\n",
      "\n",
      "\n"
     ]
    }
   ],
   "source": [
    "check_unique(['payment', 'payment_type'])"
   ]
  },
  {
   "cell_type": "markdown",
   "metadata": {
    "id": "99CkIcb1JhHl"
   },
   "source": [
    "Both features have identical values. So, I will just keep one column snd remove the other one.\n",
    "\n"
   ]
  },
  {
   "cell_type": "code",
   "execution_count": null,
   "metadata": {
    "id": "QMqibnJLJhHm"
   },
   "outputs": [],
   "source": [
    "df = df.drop(columns=['payment'], axis=1)"
   ]
  },
  {
   "cell_type": "code",
   "execution_count": null,
   "metadata": {
    "colab": {
     "base_uri": "https://localhost:8080/"
    },
    "id": "ZbHGB1lnJhHm",
    "outputId": "c4fcef62-b103-4f5d-b00f-b3f2a89fc2e2"
   },
   "outputs": [
    {
     "name": "stdout",
     "output_type": "stream",
     "text": [
      "Feature Name: waterpoint_type\n",
      "Number of Unique Values: 7\n",
      "Unique Values: ['communal standpipe' 'communal standpipe multiple' 'hand pump' 'other'\n",
      " 'improved spring' 'cattle trough' 'dam']\n",
      "Missing Values: 0\n",
      "\n",
      "\n",
      "Feature Name: waterpoint_type_group\n",
      "Number of Unique Values: 6\n",
      "Unique Values: ['communal standpipe' 'hand pump' 'other' 'improved spring'\n",
      " 'cattle trough' 'dam']\n",
      "Missing Values: 0\n",
      "\n",
      "\n"
     ]
    }
   ],
   "source": [
    "check_unique(['waterpoint_type', 'waterpoint_type_group' ])"
   ]
  },
  {
   "cell_type": "markdown",
   "metadata": {
    "id": "Oob6bE6oJhHm"
   },
   "source": [
    "The two column have similar values except waterpoint_type have a sub categories of 'communal standpipe multiple'. Since this category could be important for our model we will keep the columns with the extra sub-category ('waterpoint_feature')."
   ]
  },
  {
   "cell_type": "code",
   "execution_count": null,
   "metadata": {
    "id": "zEmh7_S9JhHm"
   },
   "outputs": [],
   "source": [
    "df = df.drop(columns=['waterpoint_type_group'], axis=1)"
   ]
  },
  {
   "cell_type": "code",
   "execution_count": null,
   "metadata": {
    "colab": {
     "base_uri": "https://localhost:8080/"
    },
    "id": "10iEP9twJhHn",
    "outputId": "df6c67e2-4c71-4e00-e4ef-e4c6308d2508"
   },
   "outputs": [
    {
     "name": "stdout",
     "output_type": "stream",
     "text": [
      "<class 'pandas.core.frame.DataFrame'>\n",
      "Int64Index: 59400 entries, 0 to 59399\n",
      "Data columns (total 27 columns):\n",
      " #   Column                 Non-Null Count  Dtype  \n",
      "---  ------                 --------------  -----  \n",
      " 0   id                     59400 non-null  int64  \n",
      " 1   status_group           59400 non-null  object \n",
      " 2   amount_tsh             59400 non-null  float64\n",
      " 3   gps_height             59400 non-null  int64  \n",
      " 4   installer              55745 non-null  object \n",
      " 5   longitude              59400 non-null  float64\n",
      " 6   latitude               59400 non-null  float64\n",
      " 7   num_private            59400 non-null  int64  \n",
      " 8   basin                  59400 non-null  object \n",
      " 9   subvillage             59029 non-null  object \n",
      " 10  region                 59400 non-null  object \n",
      " 11  region_code            59400 non-null  int64  \n",
      " 12  district_code          59400 non-null  int64  \n",
      " 13  lga                    59400 non-null  object \n",
      " 14  ward                   59400 non-null  object \n",
      " 15  population             59400 non-null  int64  \n",
      " 16  public_meeting         56066 non-null  object \n",
      " 17  scheme_management      55523 non-null  object \n",
      " 18  permit                 56344 non-null  object \n",
      " 19  construction_year      59400 non-null  int64  \n",
      " 20  extraction_type_group  59400 non-null  object \n",
      " 21  management_group       59400 non-null  object \n",
      " 22  payment_type           59400 non-null  object \n",
      " 23  water_quality          59400 non-null  object \n",
      " 24  quantity               59400 non-null  object \n",
      " 25  source                 59400 non-null  object \n",
      " 26  waterpoint_type        59400 non-null  object \n",
      "dtypes: float64(3), int64(7), object(17)\n",
      "memory usage: 12.7+ MB\n"
     ]
    }
   ],
   "source": [
    "df.info()"
   ]
  },
  {
   "cell_type": "markdown",
   "metadata": {
    "id": "UY-hL6hTJhHo"
   },
   "source": [
    "Next I will check the other columns with object type values. The first of these is 'installer' which could be important to our model since it might affect the quality of the water point."
   ]
  },
  {
   "cell_type": "code",
   "execution_count": null,
   "metadata": {
    "colab": {
     "base_uri": "https://localhost:8080/"
    },
    "id": "ge6da43lJhHo",
    "outputId": "75835ebf-1400-4afb-f4ea-0a13b19ba56e"
   },
   "outputs": [
    {
     "name": "stdout",
     "output_type": "stream",
     "text": [
      "DWE                   17402\n",
      "Government             1825\n",
      "RWE                    1206\n",
      "Commu                  1060\n",
      "DANIDA                 1050\n",
      "                      ...  \n",
      "Private Technician        1\n",
      "chacha                    1\n",
      "Government /TCRS          1\n",
      "DIWANI                    1\n",
      "EWE                       1\n",
      "Name: installer, Length: 2145, dtype: int64\n",
      "2145\n"
     ]
    }
   ],
   "source": [
    "print(df['installer'].value_counts())\n",
    "print(df['installer'].nunique())"
   ]
  },
  {
   "cell_type": "markdown",
   "metadata": {
    "id": "ZLvzS5kUJhHo"
   },
   "source": [
    "Since there are 2145 diffrent unique and discrete values it is impossible to use the column, so I will have to get rid of it."
   ]
  },
  {
   "cell_type": "code",
   "execution_count": null,
   "metadata": {
    "id": "skhwsWtzJhHo"
   },
   "outputs": [],
   "source": [
    "df = df.drop(columns=['installer'], axis=1)"
   ]
  },
  {
   "cell_type": "markdown",
   "metadata": {
    "id": "73z5FArMJhHp"
   },
   "source": [
    "'permit' and 'public_meeting' contain boolean values and some missing data that will have to be dealt with later. First I will take a look at all the columns that contain geographical information.\n",
    "\n",
    "- longitude - GPS coordinate \n",
    "- latitude - GPS coordinate \n",
    "- basin - Geographic water basin \n",
    "- subvillage - Geographic location \n",
    "- region - Geographic location \n",
    "- region_code - Geographic location (coded) \n",
    "- district_code - Geographic location (coded) \n",
    "- lga - Geographic location \n",
    "- ward - Geographic location"
   ]
  },
  {
   "cell_type": "code",
   "execution_count": null,
   "metadata": {
    "colab": {
     "base_uri": "https://localhost:8080/"
    },
    "id": "0NSAWel-JhHq",
    "outputId": "e94ca10a-6307-4068-9b9d-a82898a50b9a"
   },
   "outputs": [
    {
     "name": "stdout",
     "output_type": "stream",
     "text": [
      "Feature Name: longitude\n",
      "Number of Unique Values: 57516\n",
      "Unique Values: [34.93809275 34.6987661  37.46066446 ... 34.01708706 35.86131531\n",
      " 38.10404822]\n",
      "Missing Values: 0\n",
      "\n",
      "\n",
      "Feature Name: latitude\n",
      "Number of Unique Values: 57517\n",
      "Unique Values: [-9.85632177 -2.14746569 -3.82132853 ... -8.75043433 -6.37857327\n",
      " -6.74746425]\n",
      "Missing Values: 0\n",
      "\n",
      "\n",
      "Feature Name: basin\n",
      "Number of Unique Values: 9\n",
      "Unique Values: ['Lake Nyasa' 'Lake Victoria' 'Pangani' 'Ruvuma / Southern Coast'\n",
      " 'Internal' 'Lake Tanganyika' 'Wami / Ruvu' 'Rufiji' 'Lake Rukwa']\n",
      "Missing Values: 0\n",
      "\n",
      "\n",
      "Feature Name: subvillage\n",
      "Number of Unique Values: 19288\n",
      "Unique Values: ['Mnyusi B' 'Nyamara' 'Majengo' ... 'Itete B' 'Maore Kati' 'Kikatanyemba']\n",
      "Missing Values: 371\n",
      "\n",
      "\n",
      "Feature Name: region\n",
      "Number of Unique Values: 21\n",
      "Unique Values: ['Iringa' 'Mara' 'Manyara' 'Mtwara' 'Kagera' 'Tanga' 'Shinyanga' 'Tabora'\n",
      " 'Pwani' 'Ruvuma' 'Kilimanjaro' 'Rukwa' 'Mwanza' 'Kigoma' 'Lindi' 'Dodoma'\n",
      " 'Arusha' 'Mbeya' 'Singida' 'Morogoro' 'Dar es Salaam']\n",
      "Missing Values: 0\n",
      "\n",
      "\n",
      "Feature Name: region_code\n",
      "Number of Unique Values: 27\n",
      "Unique Values: [11 20 21 90 18  4 17 14 60 10  3 15 19 16 80  1  6  2 12 13  5  7 99 24\n",
      "  9  8 40]\n",
      "Missing Values: 0\n",
      "\n",
      "\n",
      "Feature Name: district_code\n",
      "Number of Unique Values: 20\n",
      "Unique Values: [ 5  2  4 63  1  8  3  6 43  7 23 33 53 62 60 30 13  0 80 67]\n",
      "Missing Values: 0\n",
      "\n",
      "\n",
      "Feature Name: lga\n",
      "Number of Unique Values: 125\n",
      "Unique Values: ['Ludewa' 'Serengeti' 'Simanjiro' 'Nanyumbu' 'Karagwe' 'Mkinga'\n",
      " 'Shinyanga Rural' 'Kahama' 'Tabora Urban' 'Mkuranga' 'Namtumbo' 'Maswa'\n",
      " 'Siha' 'Meatu' 'Sumbawanga Rural' 'Njombe' 'Ukerewe' 'Bariadi' 'Same'\n",
      " 'Kigoma Rural' 'Moshi Rural' 'Lindi Rural' 'Rombo' 'Chamwino' 'Bagamoyo'\n",
      " 'Mafia' 'Arusha Rural' 'Kyela' 'Kondoa' 'Kilolo' 'Kibondo' 'Makete'\n",
      " 'Singida Rural' 'Masasi' 'Rungwe' 'Moshi Urban' 'Geita' 'Mbulu'\n",
      " 'Bukoba Rural' 'Muheza' 'Lushoto' 'Meru' 'Iramba' 'Kilombero' 'Mbarali'\n",
      " 'Kasulu' 'Bukoba Urban' 'Korogwe' 'Bukombe' 'Morogoro Rural' 'Kishapu'\n",
      " 'Musoma Rural' 'Sengerema' 'Iringa Rural' 'Muleba' 'Dodoma Urban'\n",
      " 'Ruangwa' 'Hanang' 'Misenyi' 'Missungwi' 'Songea Rural' 'Tanga' 'Tunduru'\n",
      " 'Hai' 'Mwanga' 'Chato' 'Biharamulo' 'Ileje' 'Mpwapwa' 'Mvomero' 'Bunda'\n",
      " 'Kiteto' 'Longido' 'Urambo' 'Mbozi' 'Sikonge' 'Ilala' 'Tarime' 'Temeke'\n",
      " 'Mbeya Rural' 'Magu' 'Manyoni' 'Igunga' 'Kilosa' 'Babati' 'Chunya'\n",
      " 'Mufindi' 'Mtwara Rural' 'Ngara' 'Karatu' 'Mpanda' 'Kibaha'\n",
      " 'Singida Urban' 'Newala' 'Nzega' 'Nkasi' 'Bahi' 'Mbinga' 'Ulanga'\n",
      " 'Sumbawanga Urban' 'Morogoro Urban' 'Tandahimba' 'Kisarawe'\n",
      " 'Mtwara Urban' 'Kilwa' 'Liwale' 'Kongwa' 'Uyui' 'Rufiji' 'Kwimba'\n",
      " 'Monduli' 'Shinyanga Urban' 'Ngorongoro' 'Handeni' 'Rorya' 'Pangani'\n",
      " 'Lindi Urban' 'Nachingwea' 'Kinondoni' 'Kigoma Urban' 'Ilemela' 'Kilindi'\n",
      " 'Arusha Urban' 'Songea Urban' 'Nyamagana']\n",
      "Missing Values: 0\n",
      "\n",
      "\n",
      "Feature Name: ward\n",
      "Number of Unique Values: 2092\n",
      "Unique Values: ['Mundindi' 'Natta' 'Ngorika' ... 'Chinugulu' 'Nyamtinga' 'Kinungu']\n",
      "Missing Values: 0\n",
      "\n",
      "\n"
     ]
    }
   ],
   "source": [
    "geo_columns = ['longitude', 'latitude', 'basin', 'subvillage', 'region', 'region_code', 'district_code', 'lga', 'ward']\n",
    "check_unique(geo_columns)\n"
   ]
  },
  {
   "cell_type": "markdown",
   "metadata": {
    "id": "w9yXtj1sJhHq"
   },
   "source": [
    "The features \"longitude\", \"latitude\", \"subvillage\", \"lga\" and \"ward\" all contain a large number of unique discrete values so they will not be very useful for our classifier so I will get rid of them."
   ]
  },
  {
   "cell_type": "code",
   "execution_count": null,
   "metadata": {
    "id": "XW4PW51JJhHq"
   },
   "outputs": [],
   "source": [
    "df = df.drop(columns=['longitude', 'latitude', 'subvillage', 'ward', 'lga'], axis=1)\n"
   ]
  },
  {
   "cell_type": "code",
   "execution_count": null,
   "metadata": {
    "colab": {
     "base_uri": "https://localhost:8080/"
    },
    "id": "1XU2kZC6JhHq",
    "outputId": "bf108bf4-5b37-44c6-9a3c-a5d6671fc3ef"
   },
   "outputs": [
    {
     "data": {
      "text/plain": [
       "Index(['id', 'status_group', 'amount_tsh', 'gps_height', 'num_private',\n",
       "       'basin', 'region', 'region_code', 'district_code', 'population',\n",
       "       'public_meeting', 'scheme_management', 'permit', 'construction_year',\n",
       "       'extraction_type_group', 'management_group', 'payment_type',\n",
       "       'water_quality', 'quantity', 'source', 'waterpoint_type'],\n",
       "      dtype='object')"
      ]
     },
     "execution_count": 126,
     "metadata": {
      "tags": []
     },
     "output_type": "execute_result"
    }
   ],
   "source": [
    "df.columns"
   ]
  },
  {
   "cell_type": "markdown",
   "metadata": {
    "id": "1UvHQeMSJhHq"
   },
   "source": [
    "The remaining geographical columns are 'basin', 'region', 'region_code', 'district_code', and 'lga'. Since 'region_code' is only a numerical code of region, I will get rid of it. Then I will take a look at the five point summary for the columns with numerical data."
   ]
  },
  {
   "cell_type": "code",
   "execution_count": null,
   "metadata": {
    "id": "zMc6PIzmJhHr",
    "scrolled": false
   },
   "outputs": [],
   "source": [
    "df = df.drop(columns=['region_code'], axis=1)\n",
    "#Change district code into object TESTINGTESTING\n",
    "df['district_code'] = df['district_code'].astype(str) \n"
   ]
  },
  {
   "cell_type": "markdown",
   "metadata": {
    "id": "TjEqI2aCJhHr"
   },
   "source": [
    "# Scrubbing Data - Dealing with Outliers"
   ]
  },
  {
   "cell_type": "code",
   "execution_count": null,
   "metadata": {
    "colab": {
     "base_uri": "https://localhost:8080/",
     "height": 288
    },
    "id": "tQByG_8EJhHr",
    "outputId": "70c9f6b1-5232-4873-9082-faf02e97e939"
   },
   "outputs": [
    {
     "data": {
      "text/html": [
       "<div>\n",
       "<style scoped>\n",
       "    .dataframe tbody tr th:only-of-type {\n",
       "        vertical-align: middle;\n",
       "    }\n",
       "\n",
       "    .dataframe tbody tr th {\n",
       "        vertical-align: top;\n",
       "    }\n",
       "\n",
       "    .dataframe thead th {\n",
       "        text-align: right;\n",
       "    }\n",
       "</style>\n",
       "<table border=\"1\" class=\"dataframe\">\n",
       "  <thead>\n",
       "    <tr style=\"text-align: right;\">\n",
       "      <th></th>\n",
       "      <th>id</th>\n",
       "      <th>amount_tsh</th>\n",
       "      <th>gps_height</th>\n",
       "      <th>num_private</th>\n",
       "      <th>population</th>\n",
       "      <th>construction_year</th>\n",
       "    </tr>\n",
       "  </thead>\n",
       "  <tbody>\n",
       "    <tr>\n",
       "      <th>count</th>\n",
       "      <td>59400.000000</td>\n",
       "      <td>59400.000000</td>\n",
       "      <td>59400.000000</td>\n",
       "      <td>59400.000000</td>\n",
       "      <td>59400.000000</td>\n",
       "      <td>59400.000000</td>\n",
       "    </tr>\n",
       "    <tr>\n",
       "      <th>mean</th>\n",
       "      <td>37115.131768</td>\n",
       "      <td>317.650385</td>\n",
       "      <td>668.297239</td>\n",
       "      <td>0.474141</td>\n",
       "      <td>179.909983</td>\n",
       "      <td>1300.652475</td>\n",
       "    </tr>\n",
       "    <tr>\n",
       "      <th>std</th>\n",
       "      <td>21453.128371</td>\n",
       "      <td>2997.574558</td>\n",
       "      <td>693.116350</td>\n",
       "      <td>12.236230</td>\n",
       "      <td>471.482176</td>\n",
       "      <td>951.620547</td>\n",
       "    </tr>\n",
       "    <tr>\n",
       "      <th>min</th>\n",
       "      <td>0.000000</td>\n",
       "      <td>0.000000</td>\n",
       "      <td>-90.000000</td>\n",
       "      <td>0.000000</td>\n",
       "      <td>0.000000</td>\n",
       "      <td>0.000000</td>\n",
       "    </tr>\n",
       "    <tr>\n",
       "      <th>25%</th>\n",
       "      <td>18519.750000</td>\n",
       "      <td>0.000000</td>\n",
       "      <td>0.000000</td>\n",
       "      <td>0.000000</td>\n",
       "      <td>0.000000</td>\n",
       "      <td>0.000000</td>\n",
       "    </tr>\n",
       "    <tr>\n",
       "      <th>50%</th>\n",
       "      <td>37061.500000</td>\n",
       "      <td>0.000000</td>\n",
       "      <td>369.000000</td>\n",
       "      <td>0.000000</td>\n",
       "      <td>25.000000</td>\n",
       "      <td>1986.000000</td>\n",
       "    </tr>\n",
       "    <tr>\n",
       "      <th>75%</th>\n",
       "      <td>55656.500000</td>\n",
       "      <td>20.000000</td>\n",
       "      <td>1319.250000</td>\n",
       "      <td>0.000000</td>\n",
       "      <td>215.000000</td>\n",
       "      <td>2004.000000</td>\n",
       "    </tr>\n",
       "    <tr>\n",
       "      <th>max</th>\n",
       "      <td>74247.000000</td>\n",
       "      <td>350000.000000</td>\n",
       "      <td>2770.000000</td>\n",
       "      <td>1776.000000</td>\n",
       "      <td>30500.000000</td>\n",
       "      <td>2013.000000</td>\n",
       "    </tr>\n",
       "  </tbody>\n",
       "</table>\n",
       "</div>"
      ],
      "text/plain": [
       "                 id     amount_tsh  ...    population  construction_year\n",
       "count  59400.000000   59400.000000  ...  59400.000000       59400.000000\n",
       "mean   37115.131768     317.650385  ...    179.909983        1300.652475\n",
       "std    21453.128371    2997.574558  ...    471.482176         951.620547\n",
       "min        0.000000       0.000000  ...      0.000000           0.000000\n",
       "25%    18519.750000       0.000000  ...      0.000000           0.000000\n",
       "50%    37061.500000       0.000000  ...     25.000000        1986.000000\n",
       "75%    55656.500000      20.000000  ...    215.000000        2004.000000\n",
       "max    74247.000000  350000.000000  ...  30500.000000        2013.000000\n",
       "\n",
       "[8 rows x 6 columns]"
      ]
     },
     "execution_count": 128,
     "metadata": {
      "tags": []
     },
     "output_type": "execute_result"
    }
   ],
   "source": [
    "df.describe()"
   ]
  },
  {
   "cell_type": "code",
   "execution_count": null,
   "metadata": {
    "colab": {
     "base_uri": "https://localhost:8080/",
     "height": 608
    },
    "id": "J0sX7qpUJhHs",
    "outputId": "d7a2f007-e05f-4d09-c93d-9eeca981c429",
    "scrolled": true
   },
   "outputs": [
    {
     "data": {
      "image/png": "[encoded data removed]",
      "text/plain": [
       "<Figure size 1440x720 with 1 Axes>"
      ]
     },
     "metadata": {
      "needs_background": "light",
      "tags": []
     },
     "output_type": "display_data"
    }
   ],
   "source": [
    "import matplotlib.pyplot as plt\n",
    "import seaborn as sns\n",
    "\n",
    "\n",
    "cont_col = ['amount_tsh', 'gps_height', 'num_private', 'population']\n",
    "plt.figure(figsize=(20, 10))\n",
    "sns.boxplot(data=[df[col] for col in cont_col])\n",
    "plt.title(\"Box plot of all columns in dataset\")\n",
    "plt.xticks(range(0,4), cont_col)\n",
    "plt.show()"
   ]
  },
  {
   "cell_type": "markdown",
   "metadata": {
    "id": "yxLOHVqRJhHs"
   },
   "source": [
    "It seems that the amount_tsh column contains very large outliers in the upper bounds, and the population columns also contain some large outliers. Therefore I will remove the outliers while trying out different percentile."
   ]
  },
  {
   "cell_type": "code",
   "execution_count": null,
   "metadata": {
    "id": "RUHpm3bcJhHt"
   },
   "outputs": [],
   "source": [
    "from scipy import stats\n",
    "import numpy as np\n",
    "\n",
    "#Remove population outliers in the upper bounds\n",
    "# q_hi2  = df[\"population\"].quantile(0.90)\n",
    "# df = df[(df[\"population\"] < q_hi2)]\n",
    "q_hi2  = df[\"population\"].quantile(0.80)\n",
    "df = df[(df[\"population\"] < q_hi2)]\n",
    "\n",
    "#Remove amount_tsh outliers in the upper bounds\n",
    "q_hi  = df[\"amount_tsh\"].quantile(0.85)\n",
    "df = df[(df[\"amount_tsh\"] < q_hi)]\n"
   ]
  },
  {
   "cell_type": "code",
   "execution_count": null,
   "metadata": {
    "colab": {
     "base_uri": "https://localhost:8080/",
     "height": 608
    },
    "id": "KGwN3frOJhHt",
    "outputId": "87025bfd-43e8-415d-96c8-a86355a26951",
    "scrolled": true
   },
   "outputs": [
    {
     "data": {
      "image/png": "[encoded data removed]",
      "text/plain": [
       "<Figure size 1440x720 with 1 Axes>"
      ]
     },
     "metadata": {
      "needs_background": "light",
      "tags": []
     },
     "output_type": "display_data"
    }
   ],
   "source": [
    "plt.figure(figsize=(20, 10))\n",
    "sns.boxplot(data=[df[col] for col in cont_col])\n",
    "plt.title(\"Box plot of all columns in dataset\")\n",
    "plt.xticks(range(0,4), cont_col)\n",
    "plt.show()"
   ]
  },
  {
   "cell_type": "code",
   "execution_count": null,
   "metadata": {
    "colab": {
     "base_uri": "https://localhost:8080/",
     "height": 288
    },
    "id": "Itussr2WJhHu",
    "outputId": "4a07f28c-c882-44c8-bcf5-bb95fb456213",
    "scrolled": false
   },
   "outputs": [
    {
     "data": {
      "text/html": [
       "<div>\n",
       "<style scoped>\n",
       "    .dataframe tbody tr th:only-of-type {\n",
       "        vertical-align: middle;\n",
       "    }\n",
       "\n",
       "    .dataframe tbody tr th {\n",
       "        vertical-align: top;\n",
       "    }\n",
       "\n",
       "    .dataframe thead th {\n",
       "        text-align: right;\n",
       "    }\n",
       "</style>\n",
       "<table border=\"1\" class=\"dataframe\">\n",
       "  <thead>\n",
       "    <tr style=\"text-align: right;\">\n",
       "      <th></th>\n",
       "      <th>id</th>\n",
       "      <th>amount_tsh</th>\n",
       "      <th>gps_height</th>\n",
       "      <th>num_private</th>\n",
       "      <th>population</th>\n",
       "      <th>construction_year</th>\n",
       "    </tr>\n",
       "  </thead>\n",
       "  <tbody>\n",
       "    <tr>\n",
       "      <th>count</th>\n",
       "      <td>40157.000000</td>\n",
       "      <td>40157.000000</td>\n",
       "      <td>40157.000000</td>\n",
       "      <td>40157.000000</td>\n",
       "      <td>40157.000000</td>\n",
       "      <td>40157.000000</td>\n",
       "    </tr>\n",
       "    <tr>\n",
       "      <th>mean</th>\n",
       "      <td>37089.431855</td>\n",
       "      <td>4.807547</td>\n",
       "      <td>495.346465</td>\n",
       "      <td>0.542371</td>\n",
       "      <td>44.707299</td>\n",
       "      <td>991.459297</td>\n",
       "    </tr>\n",
       "    <tr>\n",
       "      <th>std</th>\n",
       "      <td>21471.981697</td>\n",
       "      <td>15.669995</td>\n",
       "      <td>664.047571</td>\n",
       "      <td>13.994697</td>\n",
       "      <td>75.664181</td>\n",
       "      <td>998.327453</td>\n",
       "    </tr>\n",
       "    <tr>\n",
       "      <th>min</th>\n",
       "      <td>0.000000</td>\n",
       "      <td>0.000000</td>\n",
       "      <td>-63.000000</td>\n",
       "      <td>0.000000</td>\n",
       "      <td>0.000000</td>\n",
       "      <td>0.000000</td>\n",
       "    </tr>\n",
       "    <tr>\n",
       "      <th>25%</th>\n",
       "      <td>18483.000000</td>\n",
       "      <td>0.000000</td>\n",
       "      <td>0.000000</td>\n",
       "      <td>0.000000</td>\n",
       "      <td>0.000000</td>\n",
       "      <td>0.000000</td>\n",
       "    </tr>\n",
       "    <tr>\n",
       "      <th>50%</th>\n",
       "      <td>36969.000000</td>\n",
       "      <td>0.000000</td>\n",
       "      <td>0.000000</td>\n",
       "      <td>0.000000</td>\n",
       "      <td>0.000000</td>\n",
       "      <td>0.000000</td>\n",
       "    </tr>\n",
       "    <tr>\n",
       "      <th>75%</th>\n",
       "      <td>55681.000000</td>\n",
       "      <td>0.000000</td>\n",
       "      <td>1149.000000</td>\n",
       "      <td>0.000000</td>\n",
       "      <td>60.000000</td>\n",
       "      <td>2000.000000</td>\n",
       "    </tr>\n",
       "    <tr>\n",
       "      <th>max</th>\n",
       "      <td>74246.000000</td>\n",
       "      <td>150.000000</td>\n",
       "      <td>2770.000000</td>\n",
       "      <td>1776.000000</td>\n",
       "      <td>259.000000</td>\n",
       "      <td>2013.000000</td>\n",
       "    </tr>\n",
       "  </tbody>\n",
       "</table>\n",
       "</div>"
      ],
      "text/plain": [
       "                 id    amount_tsh  ...    population  construction_year\n",
       "count  40157.000000  40157.000000  ...  40157.000000       40157.000000\n",
       "mean   37089.431855      4.807547  ...     44.707299         991.459297\n",
       "std    21471.981697     15.669995  ...     75.664181         998.327453\n",
       "min        0.000000      0.000000  ...      0.000000           0.000000\n",
       "25%    18483.000000      0.000000  ...      0.000000           0.000000\n",
       "50%    36969.000000      0.000000  ...      0.000000           0.000000\n",
       "75%    55681.000000      0.000000  ...     60.000000        2000.000000\n",
       "max    74246.000000    150.000000  ...    259.000000        2013.000000\n",
       "\n",
       "[8 rows x 6 columns]"
      ]
     },
     "execution_count": 132,
     "metadata": {
      "tags": []
     },
     "output_type": "execute_result"
    }
   ],
   "source": [
    "df.describe()"
   ]
  },
  {
   "cell_type": "markdown",
   "metadata": {
    "id": "brIp5-pDJhHv"
   },
   "source": [
    "There are still quiet a few large outliers but I do not want to aggressively cut them off for now, since it might be important to the classifier."
   ]
  },
  {
   "cell_type": "markdown",
   "metadata": {
    "id": "DrzZG61qJhHw"
   },
   "source": [
    "# Scrubbing Data - Dealing with Missing and Filler Values"
   ]
  },
  {
   "cell_type": "code",
   "execution_count": null,
   "metadata": {
    "colab": {
     "base_uri": "https://localhost:8080/"
    },
    "id": "X0ONgkhiJhHw",
    "outputId": "8c6ff3d6-6803-437d-855c-08dacd820a1d",
    "scrolled": true
   },
   "outputs": [
    {
     "data": {
      "text/plain": [
       "id                          0\n",
       "status_group                0\n",
       "amount_tsh                  0\n",
       "gps_height                  0\n",
       "num_private                 0\n",
       "basin                       0\n",
       "region                      0\n",
       "district_code               0\n",
       "population                  0\n",
       "public_meeting           2503\n",
       "scheme_management        2258\n",
       "permit                   2409\n",
       "construction_year           0\n",
       "extraction_type_group       0\n",
       "management_group            0\n",
       "payment_type                0\n",
       "water_quality               0\n",
       "quantity                    0\n",
       "source                      0\n",
       "waterpoint_type             0\n",
       "dtype: int64"
      ]
     },
     "execution_count": 133,
     "metadata": {
      "tags": []
     },
     "output_type": "execute_result"
    }
   ],
   "source": [
    "df.isna().sum()\n"
   ]
  },
  {
   "cell_type": "markdown",
   "metadata": {
    "id": "EXcVewmdJhHw"
   },
   "source": [
    "Three features have missing value and will have to be dealt with but first I will take a look at the value counts to find the filler values."
   ]
  },
  {
   "cell_type": "code",
   "execution_count": null,
   "metadata": {
    "colab": {
     "base_uri": "https://localhost:8080/"
    },
    "id": "D8wvE-AJJhHx",
    "outputId": "2c3e8415-7383-4f3b-ce67-ab58d2065a57"
   },
   "outputs": [
    {
     "data": {
      "text/plain": [
       "functional                 20592\n",
       "non functional             16800\n",
       "functional needs repair     2765\n",
       "Name: status_group, dtype: int64"
      ]
     },
     "execution_count": 134,
     "metadata": {
      "tags": []
     },
     "output_type": "execute_result"
    }
   ],
   "source": [
    "df['status_group'].value_counts()"
   ]
  },
  {
   "cell_type": "code",
   "execution_count": null,
   "metadata": {
    "colab": {
     "base_uri": "https://localhost:8080/"
    },
    "id": "wu2-l-LoJhHx",
    "outputId": "11cd8776-62dc-4a0a-afcd-8cdcccd78f11"
   },
   "outputs": [
    {
     "name": "stdout",
     "output_type": "stream",
     "text": [
      "id \n",
      " 67583    0.000025\n",
      "36091    0.000025\n",
      "19715    0.000025\n",
      "17666    0.000025\n",
      "23809    0.000025\n",
      "Name: id, dtype: float64 \n",
      "\n",
      "\n",
      "status_group \n",
      " functional                 0.512787\n",
      "non functional             0.418358\n",
      "functional needs repair    0.068855\n",
      "Name: status_group, dtype: float64 \n",
      "\n",
      "\n",
      "amount_tsh \n",
      " 0.0      0.866150\n",
      "50.0     0.041960\n",
      "20.0     0.027965\n",
      "10.0     0.014643\n",
      "100.0    0.012825\n",
      "Name: amount_tsh, dtype: float64 \n",
      "\n",
      "\n",
      "gps_height \n",
      "  0     0.497796\n",
      "-15    0.001021\n",
      "-13    0.000996\n",
      "-16    0.000946\n",
      "-17    0.000872\n",
      "Name: gps_height, dtype: float64 \n",
      "\n",
      "\n",
      "num_private \n",
      " 0     0.986204\n",
      "1     0.001419\n",
      "6     0.001270\n",
      "8     0.001046\n",
      "45    0.000896\n",
      "Name: num_private, dtype: float64 \n",
      "\n",
      "\n",
      "basin \n",
      " Lake Victoria      0.214458\n",
      "Pangani            0.159325\n",
      "Internal           0.149438\n",
      "Wami / Ruvu        0.104589\n",
      "Lake Tanganyika    0.093483\n",
      "Name: basin, dtype: float64 \n",
      "\n",
      "\n",
      "region \n",
      " Shinyanga      0.120552\n",
      "Mbeya          0.115522\n",
      "Kagera         0.082576\n",
      "Kilimanjaro    0.082252\n",
      "Mwanza         0.069876\n",
      "Name: region, dtype: float64 \n",
      "\n",
      "\n",
      "district_code \n",
      " 1    0.197599\n",
      "2    0.172299\n",
      "3    0.159424\n",
      "4    0.149563\n",
      "6    0.085539\n",
      "Name: district_code, dtype: float64 \n",
      "\n",
      "\n",
      "population \n",
      " 0      0.510521\n",
      "1      0.146550\n",
      "200    0.040890\n",
      "150    0.036058\n",
      "250    0.032522\n",
      "Name: population, dtype: float64 \n",
      "\n",
      "\n",
      "public_meeting \n",
      " True     0.891512\n",
      "False    0.108488\n",
      "Name: public_meeting, dtype: float64 \n",
      "\n",
      "\n",
      "scheme_management \n",
      " VWC                0.677590\n",
      "WUG                0.105253\n",
      "Water Board        0.051743\n",
      "WUA                0.038893\n",
      "Water authority    0.038682\n",
      "Name: scheme_management, dtype: float64 \n",
      "\n",
      "\n",
      "permit \n",
      " True     0.689546\n",
      "False    0.310454\n",
      "Name: permit, dtype: float64 \n",
      "\n",
      "\n",
      "construction_year \n",
      " 0       0.503424\n",
      "2010    0.038424\n",
      "2008    0.035336\n",
      "2000    0.034390\n",
      "2009    0.030381\n",
      "Name: construction_year, dtype: float64 \n",
      "\n",
      "\n",
      "extraction_type_group \n",
      " gravity        0.424160\n",
      "nira/tanira    0.162238\n",
      "other          0.118858\n",
      "submersible    0.104440\n",
      "mono           0.060488\n",
      "Name: extraction_type_group, dtype: float64 \n",
      "\n",
      "\n",
      "management_group \n",
      " user-group    0.871255\n",
      "commercial    0.074259\n",
      "parastatal    0.029036\n",
      "other         0.014966\n",
      "unknown       0.010484\n",
      "Name: management_group, dtype: float64 \n",
      "\n",
      "\n",
      "payment_type \n",
      " never pay     0.516348\n",
      "per bucket    0.172274\n",
      "unknown       0.158602\n",
      "on failure    0.060612\n",
      "monthly       0.059118\n",
      "Name: payment_type, dtype: float64 \n",
      "\n",
      "\n",
      "water_quality \n",
      " soft        0.844062\n",
      "salty       0.078890\n",
      "unknown     0.038648\n",
      "milky       0.018079\n",
      "coloured    0.009313\n",
      "Name: water_quality, dtype: float64 \n",
      "\n",
      "\n",
      "quantity \n",
      " enough          0.542072\n",
      "insufficient    0.241627\n",
      "dry             0.126030\n",
      "seasonal        0.074881\n",
      "unknown         0.015390\n",
      "Name: quantity, dtype: float64 \n",
      "\n",
      "\n",
      "source \n",
      " shallow well            0.311278\n",
      "spring                  0.293847\n",
      "machine dbh             0.181562\n",
      "river                   0.131758\n",
      "rainwater harvesting    0.039047\n",
      "Name: source, dtype: float64 \n",
      "\n",
      "\n",
      "waterpoint_type \n",
      " communal standpipe             0.471524\n",
      "hand pump                      0.296362\n",
      "other                          0.123416\n",
      "communal standpipe multiple    0.092263\n",
      "improved spring                0.015091\n",
      "Name: waterpoint_type, dtype: float64 \n",
      "\n",
      "\n"
     ]
    }
   ],
   "source": [
    "for col in df.columns:\n",
    "    print(col, '\\n', df[col].value_counts(normalize=True).head(), '\\n\\n' )\n"
   ]
  },
  {
   "cell_type": "markdown",
   "metadata": {
    "id": "c1SQkKAAJhHy"
   },
   "source": [
    "Filler values found:\n",
    "\n",
    "- population - 0 ,1\n",
    "- construction_year - 0\n",
    "- management_group  - unknown \n",
    "- payment_type - unknown\n",
    "- water_quality - unknown\n",
    "- quantity - unknown\n",
    "\n",
    "Some of these fillers make up a large majority of the data so getting rid of them is not ideal. Instead I will look to replace them using KNN Imputer, which replace the value using the K-nearest neighbors values.\n",
    "\n",
    "First I will replace all the filler values with nan."
   ]
  },
  {
   "cell_type": "code",
   "execution_count": null,
   "metadata": {
    "colab": {
     "base_uri": "https://localhost:8080/"
    },
    "id": "MbQFKemRI_gb",
    "outputId": "c9da0cc4-7902-4a8a-aca9-b3454cf914b7"
   },
   "outputs": [
    {
     "data": {
      "text/plain": [
       "40157"
      ]
     },
     "execution_count": 136,
     "metadata": {
      "tags": []
     },
     "output_type": "execute_result"
    }
   ],
   "source": [
    "len(df)"
   ]
  },
  {
   "cell_type": "code",
   "execution_count": null,
   "metadata": {
    "colab": {
     "base_uri": "https://localhost:8080/"
    },
    "id": "62Aw2If5JhHz",
    "outputId": "5ba39281-1791-43b8-c2ca-95903c1787be"
   },
   "outputs": [
    {
     "data": {
      "text/plain": [
       "id                           0\n",
       "status_group                 0\n",
       "amount_tsh                   0\n",
       "gps_height                   0\n",
       "num_private                  0\n",
       "basin                        0\n",
       "region                       0\n",
       "district_code                0\n",
       "population               26386\n",
       "public_meeting            2503\n",
       "scheme_management         2259\n",
       "permit                    2409\n",
       "construction_year        20216\n",
       "extraction_type_group        0\n",
       "management_group             0\n",
       "payment_type                 0\n",
       "water_quality                0\n",
       "quantity                     0\n",
       "source                       0\n",
       "waterpoint_type              0\n",
       "dtype: int64"
      ]
     },
     "execution_count": 137,
     "metadata": {
      "tags": []
     },
     "output_type": "execute_result"
    }
   ],
   "source": [
    "#Replace the 0 and 1 in population column with np.nan\n",
    "df['population'].replace({0: np.nan, 1:np.nan}, inplace=True)\n",
    "\n",
    "# #Replace the 0 in construction_year column with np.nan\n",
    "df['construction_year'].replace({0: np.nan}, inplace=True)\n",
    "\n",
    "# #Replace the unknown in management_group, payment_type, water_quality, quantity column with np.nan\n",
    "df['management_group'].replace({'unknwon': np.nan}, inplace=True)\n",
    "df['payment_type'].replace({'unknwon': np.nan}, inplace=True)\n",
    "df['water_quality'].replace({'unknwon': np.nan}, inplace=True)\n",
    "df['quantity'].replace({'unknwon': np.nan}, inplace=True)\n",
    "df['scheme_management'].replace({'None': np.nan}, inplace=True)\n",
    "\n",
    "df.isna().sum()"
   ]
  },
  {
   "cell_type": "markdown",
   "metadata": {
    "id": "qqV0443W9i48"
   },
   "source": [
    "Since both the 'population' and 'construction_year' columns are missing for half the dataset, I believe it is best to just drop these columns rather than fill them."
   ]
  },
  {
   "cell_type": "code",
   "execution_count": null,
   "metadata": {
    "id": "Vsl9zPN_JXLE"
   },
   "outputs": [],
   "source": [
    "# Drop columns with large missing data\n",
    "df = df.drop(columns=['population', 'construction_year'], axis=1)\n"
   ]
  },
  {
   "cell_type": "markdown",
   "metadata": {
    "id": "79kReI-DJhHz"
   },
   "source": [
    "Next I will create dummy variables for categorical data before using the KNN Imputer. I will create two different data, one with drop_first=True to use with Logistic Regression and another to use with other classifier."
   ]
  },
  {
   "cell_type": "code",
   "execution_count": null,
   "metadata": {
    "id": "qx7UByAhJhHz"
   },
   "outputs": [],
   "source": [
    "X = df.drop('status_group', axis=1)\n",
    "y = df['status_group']\n",
    "\n",
    "# Creating dummies and dropping one variable to avoid dummy variable trap\n",
    "X_dummy_logreg = pd.get_dummies(X, drop_first=True)\n",
    "X_dummy = pd.get_dummies(X, drop_first=False)\n"
   ]
  },
  {
   "cell_type": "markdown",
   "metadata": {
    "id": "2A8vmbWPJhHz"
   },
   "source": [
    "Next I will split the data into training and testing datasets into .75 to .25 ratio before further scrubbing the data to prevent data leak."
   ]
  },
  {
   "cell_type": "code",
   "execution_count": null,
   "metadata": {
    "id": "J89rNpZNJhH0"
   },
   "outputs": [],
   "source": [
    "from sklearn.model_selection import train_test_split\n",
    "\n",
    "X_train_logreg, X_test_logreg, y_train_logreg, y_test_logreg = train_test_split(X_dummy_logreg, y, test_size=0.25, random_state=21)\n",
    "X_train, X_test, y_train, y_test = train_test_split(X_dummy, y, test_size=0.25, random_state=21)\n"
   ]
  },
  {
   "cell_type": "markdown",
   "metadata": {
    "id": "Bg02qjwXJhH0"
   },
   "source": [
    "Before using the KNN Imputer I will need to scale the data first. Since I was not aggresive with cutting off outliers, I will use the StandardScaler insteader of MinMaxScaler which is sensative to outliers."
   ]
  },
  {
   "cell_type": "code",
   "execution_count": null,
   "metadata": {
    "colab": {
     "base_uri": "https://localhost:8080/",
     "height": 372
    },
    "id": "xDC5BG7AJhH0",
    "outputId": "a41f03da-ad87-4030-ae8e-f6b352ecbd6a"
   },
   "outputs": [
    {
     "data": {
      "text/html": [
       "<div>\n",
       "<style scoped>\n",
       "    .dataframe tbody tr th:only-of-type {\n",
       "        vertical-align: middle;\n",
       "    }\n",
       "\n",
       "    .dataframe tbody tr th {\n",
       "        vertical-align: top;\n",
       "    }\n",
       "\n",
       "    .dataframe thead th {\n",
       "        text-align: right;\n",
       "    }\n",
       "</style>\n",
       "<table border=\"1\" class=\"dataframe\">\n",
       "  <thead>\n",
       "    <tr style=\"text-align: right;\">\n",
       "      <th></th>\n",
       "      <th>id</th>\n",
       "      <th>amount_tsh</th>\n",
       "      <th>gps_height</th>\n",
       "      <th>num_private</th>\n",
       "      <th>basin_Internal</th>\n",
       "      <th>basin_Lake Nyasa</th>\n",
       "      <th>basin_Lake Rukwa</th>\n",
       "      <th>basin_Lake Tanganyika</th>\n",
       "      <th>basin_Lake Victoria</th>\n",
       "      <th>basin_Pangani</th>\n",
       "      <th>basin_Rufiji</th>\n",
       "      <th>basin_Ruvuma / Southern Coast</th>\n",
       "      <th>basin_Wami / Ruvu</th>\n",
       "      <th>region_Arusha</th>\n",
       "      <th>region_Dar es Salaam</th>\n",
       "      <th>region_Dodoma</th>\n",
       "      <th>region_Iringa</th>\n",
       "      <th>region_Kagera</th>\n",
       "      <th>region_Kigoma</th>\n",
       "      <th>region_Kilimanjaro</th>\n",
       "      <th>region_Lindi</th>\n",
       "      <th>region_Manyara</th>\n",
       "      <th>region_Mara</th>\n",
       "      <th>region_Mbeya</th>\n",
       "      <th>region_Morogoro</th>\n",
       "      <th>region_Mtwara</th>\n",
       "      <th>region_Mwanza</th>\n",
       "      <th>region_Pwani</th>\n",
       "      <th>region_Rukwa</th>\n",
       "      <th>region_Ruvuma</th>\n",
       "      <th>region_Shinyanga</th>\n",
       "      <th>region_Singida</th>\n",
       "      <th>region_Tabora</th>\n",
       "      <th>region_Tanga</th>\n",
       "      <th>district_code_0</th>\n",
       "      <th>district_code_1</th>\n",
       "      <th>district_code_13</th>\n",
       "      <th>district_code_2</th>\n",
       "      <th>district_code_23</th>\n",
       "      <th>district_code_3</th>\n",
       "      <th>...</th>\n",
       "      <th>management_group_parastatal</th>\n",
       "      <th>management_group_unknown</th>\n",
       "      <th>management_group_user-group</th>\n",
       "      <th>payment_type_annually</th>\n",
       "      <th>payment_type_monthly</th>\n",
       "      <th>payment_type_never pay</th>\n",
       "      <th>payment_type_on failure</th>\n",
       "      <th>payment_type_other</th>\n",
       "      <th>payment_type_per bucket</th>\n",
       "      <th>payment_type_unknown</th>\n",
       "      <th>water_quality_coloured</th>\n",
       "      <th>water_quality_fluoride</th>\n",
       "      <th>water_quality_fluoride abandoned</th>\n",
       "      <th>water_quality_milky</th>\n",
       "      <th>water_quality_salty</th>\n",
       "      <th>water_quality_salty abandoned</th>\n",
       "      <th>water_quality_soft</th>\n",
       "      <th>water_quality_unknown</th>\n",
       "      <th>quantity_dry</th>\n",
       "      <th>quantity_enough</th>\n",
       "      <th>quantity_insufficient</th>\n",
       "      <th>quantity_seasonal</th>\n",
       "      <th>quantity_unknown</th>\n",
       "      <th>source_dam</th>\n",
       "      <th>source_hand dtw</th>\n",
       "      <th>source_lake</th>\n",
       "      <th>source_machine dbh</th>\n",
       "      <th>source_other</th>\n",
       "      <th>source_rainwater harvesting</th>\n",
       "      <th>source_river</th>\n",
       "      <th>source_shallow well</th>\n",
       "      <th>source_spring</th>\n",
       "      <th>source_unknown</th>\n",
       "      <th>waterpoint_type_cattle trough</th>\n",
       "      <th>waterpoint_type_communal standpipe</th>\n",
       "      <th>waterpoint_type_communal standpipe multiple</th>\n",
       "      <th>waterpoint_type_dam</th>\n",
       "      <th>waterpoint_type_hand pump</th>\n",
       "      <th>waterpoint_type_improved spring</th>\n",
       "      <th>waterpoint_type_other</th>\n",
       "    </tr>\n",
       "  </thead>\n",
       "  <tbody>\n",
       "    <tr>\n",
       "      <th>count</th>\n",
       "      <td>3.011700e+04</td>\n",
       "      <td>3.011700e+04</td>\n",
       "      <td>3.011700e+04</td>\n",
       "      <td>3.011700e+04</td>\n",
       "      <td>3.011700e+04</td>\n",
       "      <td>3.011700e+04</td>\n",
       "      <td>3.011700e+04</td>\n",
       "      <td>3.011700e+04</td>\n",
       "      <td>3.011700e+04</td>\n",
       "      <td>3.011700e+04</td>\n",
       "      <td>3.011700e+04</td>\n",
       "      <td>3.011700e+04</td>\n",
       "      <td>3.011700e+04</td>\n",
       "      <td>3.011700e+04</td>\n",
       "      <td>3.011700e+04</td>\n",
       "      <td>3.011700e+04</td>\n",
       "      <td>3.011700e+04</td>\n",
       "      <td>3.011700e+04</td>\n",
       "      <td>3.011700e+04</td>\n",
       "      <td>3.011700e+04</td>\n",
       "      <td>3.011700e+04</td>\n",
       "      <td>3.011700e+04</td>\n",
       "      <td>3.011700e+04</td>\n",
       "      <td>3.011700e+04</td>\n",
       "      <td>3.011700e+04</td>\n",
       "      <td>3.011700e+04</td>\n",
       "      <td>3.011700e+04</td>\n",
       "      <td>3.011700e+04</td>\n",
       "      <td>3.011700e+04</td>\n",
       "      <td>3.011700e+04</td>\n",
       "      <td>3.011700e+04</td>\n",
       "      <td>3.011700e+04</td>\n",
       "      <td>3.011700e+04</td>\n",
       "      <td>3.011700e+04</td>\n",
       "      <td>3.011700e+04</td>\n",
       "      <td>3.011700e+04</td>\n",
       "      <td>3.011700e+04</td>\n",
       "      <td>3.011700e+04</td>\n",
       "      <td>3.011700e+04</td>\n",
       "      <td>3.011700e+04</td>\n",
       "      <td>...</td>\n",
       "      <td>3.011700e+04</td>\n",
       "      <td>3.011700e+04</td>\n",
       "      <td>3.011700e+04</td>\n",
       "      <td>3.011700e+04</td>\n",
       "      <td>3.011700e+04</td>\n",
       "      <td>3.011700e+04</td>\n",
       "      <td>3.011700e+04</td>\n",
       "      <td>3.011700e+04</td>\n",
       "      <td>3.011700e+04</td>\n",
       "      <td>3.011700e+04</td>\n",
       "      <td>3.011700e+04</td>\n",
       "      <td>3.011700e+04</td>\n",
       "      <td>3.011700e+04</td>\n",
       "      <td>3.011700e+04</td>\n",
       "      <td>3.011700e+04</td>\n",
       "      <td>3.011700e+04</td>\n",
       "      <td>3.011700e+04</td>\n",
       "      <td>3.011700e+04</td>\n",
       "      <td>3.011700e+04</td>\n",
       "      <td>3.011700e+04</td>\n",
       "      <td>3.011700e+04</td>\n",
       "      <td>3.011700e+04</td>\n",
       "      <td>3.011700e+04</td>\n",
       "      <td>3.011700e+04</td>\n",
       "      <td>3.011700e+04</td>\n",
       "      <td>3.011700e+04</td>\n",
       "      <td>3.011700e+04</td>\n",
       "      <td>3.011700e+04</td>\n",
       "      <td>3.011700e+04</td>\n",
       "      <td>3.011700e+04</td>\n",
       "      <td>3.011700e+04</td>\n",
       "      <td>3.011700e+04</td>\n",
       "      <td>3.011700e+04</td>\n",
       "      <td>3.011700e+04</td>\n",
       "      <td>3.011700e+04</td>\n",
       "      <td>3.011700e+04</td>\n",
       "      <td>3.011700e+04</td>\n",
       "      <td>3.011700e+04</td>\n",
       "      <td>3.011700e+04</td>\n",
       "      <td>3.011700e+04</td>\n",
       "    </tr>\n",
       "    <tr>\n",
       "      <th>mean</th>\n",
       "      <td>1.366352e-16</td>\n",
       "      <td>5.318763e-16</td>\n",
       "      <td>3.305196e-16</td>\n",
       "      <td>1.256032e-15</td>\n",
       "      <td>-4.562247e-17</td>\n",
       "      <td>-5.625801e-16</td>\n",
       "      <td>1.556592e-15</td>\n",
       "      <td>-1.480810e-15</td>\n",
       "      <td>-1.485134e-15</td>\n",
       "      <td>5.972283e-17</td>\n",
       "      <td>-6.066543e-16</td>\n",
       "      <td>2.051317e-15</td>\n",
       "      <td>-7.639829e-16</td>\n",
       "      <td>-1.883752e-16</td>\n",
       "      <td>-5.739544e-16</td>\n",
       "      <td>9.809864e-16</td>\n",
       "      <td>-9.609749e-16</td>\n",
       "      <td>9.715051e-16</td>\n",
       "      <td>1.743118e-15</td>\n",
       "      <td>-6.050212e-16</td>\n",
       "      <td>1.029678e-15</td>\n",
       "      <td>-1.173732e-15</td>\n",
       "      <td>-1.837064e-16</td>\n",
       "      <td>3.481773e-17</td>\n",
       "      <td>1.183838e-15</td>\n",
       "      <td>-1.345273e-15</td>\n",
       "      <td>-1.545288e-16</td>\n",
       "      <td>-2.105782e-16</td>\n",
       "      <td>2.146341e-15</td>\n",
       "      <td>3.407401e-16</td>\n",
       "      <td>1.213714e-15</td>\n",
       "      <td>-1.175501e-15</td>\n",
       "      <td>-4.220337e-16</td>\n",
       "      <td>1.304762e-15</td>\n",
       "      <td>1.279107e-16</td>\n",
       "      <td>-6.189557e-16</td>\n",
       "      <td>-4.408600e-16</td>\n",
       "      <td>-6.140307e-16</td>\n",
       "      <td>-1.824711e-15</td>\n",
       "      <td>-1.405833e-16</td>\n",
       "      <td>...</td>\n",
       "      <td>-8.852422e-16</td>\n",
       "      <td>-2.369514e-15</td>\n",
       "      <td>6.910168e-16</td>\n",
       "      <td>-1.804254e-15</td>\n",
       "      <td>-4.691067e-16</td>\n",
       "      <td>-3.945150e-16</td>\n",
       "      <td>1.302257e-15</td>\n",
       "      <td>-6.365765e-16</td>\n",
       "      <td>1.072143e-15</td>\n",
       "      <td>5.775578e-15</td>\n",
       "      <td>1.648285e-16</td>\n",
       "      <td>-1.221805e-16</td>\n",
       "      <td>3.050037e-15</td>\n",
       "      <td>7.674812e-16</td>\n",
       "      <td>-1.549548e-15</td>\n",
       "      <td>-8.249287e-16</td>\n",
       "      <td>1.753962e-15</td>\n",
       "      <td>6.925098e-16</td>\n",
       "      <td>3.406166e-16</td>\n",
       "      <td>2.045764e-15</td>\n",
       "      <td>2.860989e-16</td>\n",
       "      <td>-8.831023e-16</td>\n",
       "      <td>-5.706680e-17</td>\n",
       "      <td>5.990853e-16</td>\n",
       "      <td>2.122100e-15</td>\n",
       "      <td>6.420775e-16</td>\n",
       "      <td>-1.265102e-15</td>\n",
       "      <td>-1.597538e-15</td>\n",
       "      <td>-7.882060e-16</td>\n",
       "      <td>-1.015893e-15</td>\n",
       "      <td>1.105246e-16</td>\n",
       "      <td>-7.451916e-16</td>\n",
       "      <td>-8.026579e-16</td>\n",
       "      <td>-1.228101e-15</td>\n",
       "      <td>6.959713e-16</td>\n",
       "      <td>7.943530e-16</td>\n",
       "      <td>-1.117798e-15</td>\n",
       "      <td>-8.971142e-17</td>\n",
       "      <td>8.003590e-16</td>\n",
       "      <td>2.110371e-15</td>\n",
       "    </tr>\n",
       "    <tr>\n",
       "      <th>std</th>\n",
       "      <td>1.000017e+00</td>\n",
       "      <td>1.000017e+00</td>\n",
       "      <td>1.000017e+00</td>\n",
       "      <td>1.000017e+00</td>\n",
       "      <td>1.000017e+00</td>\n",
       "      <td>1.000017e+00</td>\n",
       "      <td>1.000017e+00</td>\n",
       "      <td>1.000017e+00</td>\n",
       "      <td>1.000017e+00</td>\n",
       "      <td>1.000017e+00</td>\n",
       "      <td>1.000017e+00</td>\n",
       "      <td>1.000017e+00</td>\n",
       "      <td>1.000017e+00</td>\n",
       "      <td>1.000017e+00</td>\n",
       "      <td>1.000017e+00</td>\n",
       "      <td>1.000017e+00</td>\n",
       "      <td>1.000017e+00</td>\n",
       "      <td>1.000017e+00</td>\n",
       "      <td>1.000017e+00</td>\n",
       "      <td>1.000017e+00</td>\n",
       "      <td>1.000017e+00</td>\n",
       "      <td>1.000017e+00</td>\n",
       "      <td>1.000017e+00</td>\n",
       "      <td>1.000017e+00</td>\n",
       "      <td>1.000017e+00</td>\n",
       "      <td>1.000017e+00</td>\n",
       "      <td>1.000017e+00</td>\n",
       "      <td>1.000017e+00</td>\n",
       "      <td>1.000017e+00</td>\n",
       "      <td>1.000017e+00</td>\n",
       "      <td>1.000017e+00</td>\n",
       "      <td>1.000017e+00</td>\n",
       "      <td>1.000017e+00</td>\n",
       "      <td>1.000017e+00</td>\n",
       "      <td>1.000017e+00</td>\n",
       "      <td>1.000017e+00</td>\n",
       "      <td>1.000017e+00</td>\n",
       "      <td>1.000017e+00</td>\n",
       "      <td>1.000017e+00</td>\n",
       "      <td>1.000017e+00</td>\n",
       "      <td>...</td>\n",
       "      <td>1.000017e+00</td>\n",
       "      <td>1.000017e+00</td>\n",
       "      <td>1.000017e+00</td>\n",
       "      <td>1.000017e+00</td>\n",
       "      <td>1.000017e+00</td>\n",
       "      <td>1.000017e+00</td>\n",
       "      <td>1.000017e+00</td>\n",
       "      <td>1.000017e+00</td>\n",
       "      <td>1.000017e+00</td>\n",
       "      <td>1.000017e+00</td>\n",
       "      <td>1.000017e+00</td>\n",
       "      <td>1.000017e+00</td>\n",
       "      <td>1.000017e+00</td>\n",
       "      <td>1.000017e+00</td>\n",
       "      <td>1.000017e+00</td>\n",
       "      <td>1.000017e+00</td>\n",
       "      <td>1.000017e+00</td>\n",
       "      <td>1.000017e+00</td>\n",
       "      <td>1.000017e+00</td>\n",
       "      <td>1.000017e+00</td>\n",
       "      <td>1.000017e+00</td>\n",
       "      <td>1.000017e+00</td>\n",
       "      <td>1.000017e+00</td>\n",
       "      <td>1.000017e+00</td>\n",
       "      <td>1.000017e+00</td>\n",
       "      <td>1.000017e+00</td>\n",
       "      <td>1.000017e+00</td>\n",
       "      <td>1.000017e+00</td>\n",
       "      <td>1.000017e+00</td>\n",
       "      <td>1.000017e+00</td>\n",
       "      <td>1.000017e+00</td>\n",
       "      <td>1.000017e+00</td>\n",
       "      <td>1.000017e+00</td>\n",
       "      <td>1.000017e+00</td>\n",
       "      <td>1.000017e+00</td>\n",
       "      <td>1.000017e+00</td>\n",
       "      <td>1.000017e+00</td>\n",
       "      <td>1.000017e+00</td>\n",
       "      <td>1.000017e+00</td>\n",
       "      <td>1.000017e+00</td>\n",
       "    </tr>\n",
       "    <tr>\n",
       "      <th>min</th>\n",
       "      <td>-1.730309e+00</td>\n",
       "      <td>-3.072010e-01</td>\n",
       "      <td>-8.407402e-01</td>\n",
       "      <td>-4.391777e-02</td>\n",
       "      <td>-4.186307e-01</td>\n",
       "      <td>-3.193997e-01</td>\n",
       "      <td>-2.197204e-01</td>\n",
       "      <td>-3.206606e-01</td>\n",
       "      <td>-5.195211e-01</td>\n",
       "      <td>-4.368821e-01</td>\n",
       "      <td>-3.041413e-01</td>\n",
       "      <td>-2.469428e-01</td>\n",
       "      <td>-3.408038e-01</td>\n",
       "      <td>-2.476987e-01</td>\n",
       "      <td>-1.295346e-01</td>\n",
       "      <td>-2.435189e-01</td>\n",
       "      <td>-2.147760e-01</td>\n",
       "      <td>-3.003467e-01</td>\n",
       "      <td>-1.192105e-01</td>\n",
       "      <td>-3.002810e-01</td>\n",
       "      <td>-1.328086e-01</td>\n",
       "      <td>-1.535806e-01</td>\n",
       "      <td>-1.385201e-01</td>\n",
       "      <td>-3.615664e-01</td>\n",
       "      <td>-2.105113e-01</td>\n",
       "      <td>-1.657201e-01</td>\n",
       "      <td>-2.721631e-01</td>\n",
       "      <td>-2.183886e-01</td>\n",
       "      <td>-1.411121e-01</td>\n",
       "      <td>-1.715513e-01</td>\n",
       "      <td>-3.688656e-01</td>\n",
       "      <td>-1.788004e-01</td>\n",
       "      <td>-2.260401e-01</td>\n",
       "      <td>-2.046813e-01</td>\n",
       "      <td>-2.232276e-02</td>\n",
       "      <td>-4.949935e-01</td>\n",
       "      <td>-6.298358e-02</td>\n",
       "      <td>-4.547571e-01</td>\n",
       "      <td>-7.145717e-02</td>\n",
       "      <td>-4.355880e-01</td>\n",
       "      <td>...</td>\n",
       "      <td>-1.744019e-01</td>\n",
       "      <td>-1.047704e-01</td>\n",
       "      <td>-2.580971e+00</td>\n",
       "      <td>-1.187800e-01</td>\n",
       "      <td>-2.499559e-01</td>\n",
       "      <td>-1.029420e+00</td>\n",
       "      <td>-2.533127e-01</td>\n",
       "      <td>-1.392652e-01</td>\n",
       "      <td>-4.590044e-01</td>\n",
       "      <td>-4.355340e-01</td>\n",
       "      <td>-9.826003e-02</td>\n",
       "      <td>-5.943095e-02</td>\n",
       "      <td>-1.911480e-02</td>\n",
       "      <td>-1.360091e-01</td>\n",
       "      <td>-2.924586e-01</td>\n",
       "      <td>-8.196836e-02</td>\n",
       "      <td>-2.323726e+00</td>\n",
       "      <td>-2.019362e-01</td>\n",
       "      <td>-3.799913e-01</td>\n",
       "      <td>-1.091605e+00</td>\n",
       "      <td>-5.631749e-01</td>\n",
       "      <td>-2.825079e-01</td>\n",
       "      <td>-1.250906e-01</td>\n",
       "      <td>-1.106077e-01</td>\n",
       "      <td>-1.139433e-01</td>\n",
       "      <td>-1.124388e-01</td>\n",
       "      <td>-4.742527e-01</td>\n",
       "      <td>-6.403765e-02</td>\n",
       "      <td>-2.009546e-01</td>\n",
       "      <td>-3.855785e-01</td>\n",
       "      <td>-6.705261e-01</td>\n",
       "      <td>-6.475656e-01</td>\n",
       "      <td>-3.261369e-02</td>\n",
       "      <td>-3.554349e-02</td>\n",
       "      <td>-9.460366e-01</td>\n",
       "      <td>-3.209125e-01</td>\n",
       "      <td>-8.149361e-03</td>\n",
       "      <td>-6.476172e-01</td>\n",
       "      <td>-1.217633e-01</td>\n",
       "      <td>-3.743630e-01</td>\n",
       "    </tr>\n",
       "    <tr>\n",
       "      <th>25%</th>\n",
       "      <td>-8.658006e-01</td>\n",
       "      <td>-3.072010e-01</td>\n",
       "      <td>-7.457571e-01</td>\n",
       "      <td>-4.391777e-02</td>\n",
       "      <td>-4.186307e-01</td>\n",
       "      <td>-3.193997e-01</td>\n",
       "      <td>-2.197204e-01</td>\n",
       "      <td>-3.206606e-01</td>\n",
       "      <td>-5.195211e-01</td>\n",
       "      <td>-4.368821e-01</td>\n",
       "      <td>-3.041413e-01</td>\n",
       "      <td>-2.469428e-01</td>\n",
       "      <td>-3.408038e-01</td>\n",
       "      <td>-2.476987e-01</td>\n",
       "      <td>-1.295346e-01</td>\n",
       "      <td>-2.435189e-01</td>\n",
       "      <td>-2.147760e-01</td>\n",
       "      <td>-3.003467e-01</td>\n",
       "      <td>-1.192105e-01</td>\n",
       "      <td>-3.002810e-01</td>\n",
       "      <td>-1.328086e-01</td>\n",
       "      <td>-1.535806e-01</td>\n",
       "      <td>-1.385201e-01</td>\n",
       "      <td>-3.615664e-01</td>\n",
       "      <td>-2.105113e-01</td>\n",
       "      <td>-1.657201e-01</td>\n",
       "      <td>-2.721631e-01</td>\n",
       "      <td>-2.183886e-01</td>\n",
       "      <td>-1.411121e-01</td>\n",
       "      <td>-1.715513e-01</td>\n",
       "      <td>-3.688656e-01</td>\n",
       "      <td>-1.788004e-01</td>\n",
       "      <td>-2.260401e-01</td>\n",
       "      <td>-2.046813e-01</td>\n",
       "      <td>-2.232276e-02</td>\n",
       "      <td>-4.949935e-01</td>\n",
       "      <td>-6.298358e-02</td>\n",
       "      <td>-4.547571e-01</td>\n",
       "      <td>-7.145717e-02</td>\n",
       "      <td>-4.355880e-01</td>\n",
       "      <td>...</td>\n",
       "      <td>-1.744019e-01</td>\n",
       "      <td>-1.047704e-01</td>\n",
       "      <td>3.874511e-01</td>\n",
       "      <td>-1.187800e-01</td>\n",
       "      <td>-2.499559e-01</td>\n",
       "      <td>-1.029420e+00</td>\n",
       "      <td>-2.533127e-01</td>\n",
       "      <td>-1.392652e-01</td>\n",
       "      <td>-4.590044e-01</td>\n",
       "      <td>-4.355340e-01</td>\n",
       "      <td>-9.826003e-02</td>\n",
       "      <td>-5.943095e-02</td>\n",
       "      <td>-1.911480e-02</td>\n",
       "      <td>-1.360091e-01</td>\n",
       "      <td>-2.924586e-01</td>\n",
       "      <td>-8.196836e-02</td>\n",
       "      <td>4.303433e-01</td>\n",
       "      <td>-2.019362e-01</td>\n",
       "      <td>-3.799913e-01</td>\n",
       "      <td>-1.091605e+00</td>\n",
       "      <td>-5.631749e-01</td>\n",
       "      <td>-2.825079e-01</td>\n",
       "      <td>-1.250906e-01</td>\n",
       "      <td>-1.106077e-01</td>\n",
       "      <td>-1.139433e-01</td>\n",
       "      <td>-1.124388e-01</td>\n",
       "      <td>-4.742527e-01</td>\n",
       "      <td>-6.403765e-02</td>\n",
       "      <td>-2.009546e-01</td>\n",
       "      <td>-3.855785e-01</td>\n",
       "      <td>-6.705261e-01</td>\n",
       "      <td>-6.475656e-01</td>\n",
       "      <td>-3.261369e-02</td>\n",
       "      <td>-3.554349e-02</td>\n",
       "      <td>-9.460366e-01</td>\n",
       "      <td>-3.209125e-01</td>\n",
       "      <td>-8.149361e-03</td>\n",
       "      <td>-6.476172e-01</td>\n",
       "      <td>-1.217633e-01</td>\n",
       "      <td>-3.743630e-01</td>\n",
       "    </tr>\n",
       "    <tr>\n",
       "      <th>50%</th>\n",
       "      <td>-6.331010e-03</td>\n",
       "      <td>-3.072010e-01</td>\n",
       "      <td>-7.457571e-01</td>\n",
       "      <td>-4.391777e-02</td>\n",
       "      <td>-4.186307e-01</td>\n",
       "      <td>-3.193997e-01</td>\n",
       "      <td>-2.197204e-01</td>\n",
       "      <td>-3.206606e-01</td>\n",
       "      <td>-5.195211e-01</td>\n",
       "      <td>-4.368821e-01</td>\n",
       "      <td>-3.041413e-01</td>\n",
       "      <td>-2.469428e-01</td>\n",
       "      <td>-3.408038e-01</td>\n",
       "      <td>-2.476987e-01</td>\n",
       "      <td>-1.295346e-01</td>\n",
       "      <td>-2.435189e-01</td>\n",
       "      <td>-2.147760e-01</td>\n",
       "      <td>-3.003467e-01</td>\n",
       "      <td>-1.192105e-01</td>\n",
       "      <td>-3.002810e-01</td>\n",
       "      <td>-1.328086e-01</td>\n",
       "      <td>-1.535806e-01</td>\n",
       "      <td>-1.385201e-01</td>\n",
       "      <td>-3.615664e-01</td>\n",
       "      <td>-2.105113e-01</td>\n",
       "      <td>-1.657201e-01</td>\n",
       "      <td>-2.721631e-01</td>\n",
       "      <td>-2.183886e-01</td>\n",
       "      <td>-1.411121e-01</td>\n",
       "      <td>-1.715513e-01</td>\n",
       "      <td>-3.688656e-01</td>\n",
       "      <td>-1.788004e-01</td>\n",
       "      <td>-2.260401e-01</td>\n",
       "      <td>-2.046813e-01</td>\n",
       "      <td>-2.232276e-02</td>\n",
       "      <td>-4.949935e-01</td>\n",
       "      <td>-6.298358e-02</td>\n",
       "      <td>-4.547571e-01</td>\n",
       "      <td>-7.145717e-02</td>\n",
       "      <td>-4.355880e-01</td>\n",
       "      <td>...</td>\n",
       "      <td>-1.744019e-01</td>\n",
       "      <td>-1.047704e-01</td>\n",
       "      <td>3.874511e-01</td>\n",
       "      <td>-1.187800e-01</td>\n",
       "      <td>-2.499559e-01</td>\n",
       "      <td>9.714212e-01</td>\n",
       "      <td>-2.533127e-01</td>\n",
       "      <td>-1.392652e-01</td>\n",
       "      <td>-4.590044e-01</td>\n",
       "      <td>-4.355340e-01</td>\n",
       "      <td>-9.826003e-02</td>\n",
       "      <td>-5.943095e-02</td>\n",
       "      <td>-1.911480e-02</td>\n",
       "      <td>-1.360091e-01</td>\n",
       "      <td>-2.924586e-01</td>\n",
       "      <td>-8.196836e-02</td>\n",
       "      <td>4.303433e-01</td>\n",
       "      <td>-2.019362e-01</td>\n",
       "      <td>-3.799913e-01</td>\n",
       "      <td>9.160819e-01</td>\n",
       "      <td>-5.631749e-01</td>\n",
       "      <td>-2.825079e-01</td>\n",
       "      <td>-1.250906e-01</td>\n",
       "      <td>-1.106077e-01</td>\n",
       "      <td>-1.139433e-01</td>\n",
       "      <td>-1.124388e-01</td>\n",
       "      <td>-4.742527e-01</td>\n",
       "      <td>-6.403765e-02</td>\n",
       "      <td>-2.009546e-01</td>\n",
       "      <td>-3.855785e-01</td>\n",
       "      <td>-6.705261e-01</td>\n",
       "      <td>-6.475656e-01</td>\n",
       "      <td>-3.261369e-02</td>\n",
       "      <td>-3.554349e-02</td>\n",
       "      <td>-9.460366e-01</td>\n",
       "      <td>-3.209125e-01</td>\n",
       "      <td>-8.149361e-03</td>\n",
       "      <td>-6.476172e-01</td>\n",
       "      <td>-1.217633e-01</td>\n",
       "      <td>-3.743630e-01</td>\n",
       "    </tr>\n",
       "    <tr>\n",
       "      <th>75%</th>\n",
       "      <td>8.622357e-01</td>\n",
       "      <td>-3.072010e-01</td>\n",
       "      <td>9.775075e-01</td>\n",
       "      <td>-4.391777e-02</td>\n",
       "      <td>-4.186307e-01</td>\n",
       "      <td>-3.193997e-01</td>\n",
       "      <td>-2.197204e-01</td>\n",
       "      <td>-3.206606e-01</td>\n",
       "      <td>-5.195211e-01</td>\n",
       "      <td>-4.368821e-01</td>\n",
       "      <td>-3.041413e-01</td>\n",
       "      <td>-2.469428e-01</td>\n",
       "      <td>-3.408038e-01</td>\n",
       "      <td>-2.476987e-01</td>\n",
       "      <td>-1.295346e-01</td>\n",
       "      <td>-2.435189e-01</td>\n",
       "      <td>-2.147760e-01</td>\n",
       "      <td>-3.003467e-01</td>\n",
       "      <td>-1.192105e-01</td>\n",
       "      <td>-3.002810e-01</td>\n",
       "      <td>-1.328086e-01</td>\n",
       "      <td>-1.535806e-01</td>\n",
       "      <td>-1.385201e-01</td>\n",
       "      <td>-3.615664e-01</td>\n",
       "      <td>-2.105113e-01</td>\n",
       "      <td>-1.657201e-01</td>\n",
       "      <td>-2.721631e-01</td>\n",
       "      <td>-2.183886e-01</td>\n",
       "      <td>-1.411121e-01</td>\n",
       "      <td>-1.715513e-01</td>\n",
       "      <td>-3.688656e-01</td>\n",
       "      <td>-1.788004e-01</td>\n",
       "      <td>-2.260401e-01</td>\n",
       "      <td>-2.046813e-01</td>\n",
       "      <td>-2.232276e-02</td>\n",
       "      <td>-4.949935e-01</td>\n",
       "      <td>-6.298358e-02</td>\n",
       "      <td>-4.547571e-01</td>\n",
       "      <td>-7.145717e-02</td>\n",
       "      <td>-4.355880e-01</td>\n",
       "      <td>...</td>\n",
       "      <td>-1.744019e-01</td>\n",
       "      <td>-1.047704e-01</td>\n",
       "      <td>3.874511e-01</td>\n",
       "      <td>-1.187800e-01</td>\n",
       "      <td>-2.499559e-01</td>\n",
       "      <td>9.714212e-01</td>\n",
       "      <td>-2.533127e-01</td>\n",
       "      <td>-1.392652e-01</td>\n",
       "      <td>-4.590044e-01</td>\n",
       "      <td>-4.355340e-01</td>\n",
       "      <td>-9.826003e-02</td>\n",
       "      <td>-5.943095e-02</td>\n",
       "      <td>-1.911480e-02</td>\n",
       "      <td>-1.360091e-01</td>\n",
       "      <td>-2.924586e-01</td>\n",
       "      <td>-8.196836e-02</td>\n",
       "      <td>4.303433e-01</td>\n",
       "      <td>-2.019362e-01</td>\n",
       "      <td>-3.799913e-01</td>\n",
       "      <td>9.160819e-01</td>\n",
       "      <td>-5.631749e-01</td>\n",
       "      <td>-2.825079e-01</td>\n",
       "      <td>-1.250906e-01</td>\n",
       "      <td>-1.106077e-01</td>\n",
       "      <td>-1.139433e-01</td>\n",
       "      <td>-1.124388e-01</td>\n",
       "      <td>-4.742527e-01</td>\n",
       "      <td>-6.403765e-02</td>\n",
       "      <td>-2.009546e-01</td>\n",
       "      <td>-3.855785e-01</td>\n",
       "      <td>1.491366e+00</td>\n",
       "      <td>1.544245e+00</td>\n",
       "      <td>-3.261369e-02</td>\n",
       "      <td>-3.554349e-02</td>\n",
       "      <td>1.057042e+00</td>\n",
       "      <td>-3.209125e-01</td>\n",
       "      <td>-8.149361e-03</td>\n",
       "      <td>1.544122e+00</td>\n",
       "      <td>-1.217633e-01</td>\n",
       "      <td>-3.743630e-01</td>\n",
       "    </tr>\n",
       "    <tr>\n",
       "      <th>max</th>\n",
       "      <td>1.733415e+00</td>\n",
       "      <td>9.293304e+00</td>\n",
       "      <td>3.430483e+00</td>\n",
       "      <td>1.299151e+02</td>\n",
       "      <td>2.388740e+00</td>\n",
       "      <td>3.130873e+00</td>\n",
       "      <td>4.551238e+00</td>\n",
       "      <td>3.118562e+00</td>\n",
       "      <td>1.924850e+00</td>\n",
       "      <td>2.288947e+00</td>\n",
       "      <td>3.287946e+00</td>\n",
       "      <td>4.049520e+00</td>\n",
       "      <td>2.934240e+00</td>\n",
       "      <td>4.037162e+00</td>\n",
       "      <td>7.719947e+00</td>\n",
       "      <td>4.106457e+00</td>\n",
       "      <td>4.656014e+00</td>\n",
       "      <td>3.329485e+00</td>\n",
       "      <td>8.388522e+00</td>\n",
       "      <td>3.330214e+00</td>\n",
       "      <td>7.529635e+00</td>\n",
       "      <td>6.511241e+00</td>\n",
       "      <td>7.219169e+00</td>\n",
       "      <td>2.765744e+00</td>\n",
       "      <td>4.750340e+00</td>\n",
       "      <td>6.034271e+00</td>\n",
       "      <td>3.674267e+00</td>\n",
       "      <td>4.578993e+00</td>\n",
       "      <td>7.086564e+00</td>\n",
       "      <td>5.829159e+00</td>\n",
       "      <td>2.711014e+00</td>\n",
       "      <td>5.592830e+00</td>\n",
       "      <td>4.423994e+00</td>\n",
       "      <td>4.885645e+00</td>\n",
       "      <td>4.479732e+01</td>\n",
       "      <td>2.020228e+00</td>\n",
       "      <td>1.587715e+01</td>\n",
       "      <td>2.198976e+00</td>\n",
       "      <td>1.399440e+01</td>\n",
       "      <td>2.295747e+00</td>\n",
       "      <td>...</td>\n",
       "      <td>5.733881e+00</td>\n",
       "      <td>9.544680e+00</td>\n",
       "      <td>3.874511e-01</td>\n",
       "      <td>8.418924e+00</td>\n",
       "      <td>4.000706e+00</td>\n",
       "      <td>9.714212e-01</td>\n",
       "      <td>3.947689e+00</td>\n",
       "      <td>7.180544e+00</td>\n",
       "      <td>2.178629e+00</td>\n",
       "      <td>2.296032e+00</td>\n",
       "      <td>1.017708e+01</td>\n",
       "      <td>1.682625e+01</td>\n",
       "      <td>5.231548e+01</td>\n",
       "      <td>7.352449e+00</td>\n",
       "      <td>3.419288e+00</td>\n",
       "      <td>1.219983e+01</td>\n",
       "      <td>4.303433e-01</td>\n",
       "      <td>4.952058e+00</td>\n",
       "      <td>2.631639e+00</td>\n",
       "      <td>9.160819e-01</td>\n",
       "      <td>1.775647e+00</td>\n",
       "      <td>3.539725e+00</td>\n",
       "      <td>7.994206e+00</td>\n",
       "      <td>9.040963e+00</td>\n",
       "      <td>8.776293e+00</td>\n",
       "      <td>8.893728e+00</td>\n",
       "      <td>2.108581e+00</td>\n",
       "      <td>1.561581e+01</td>\n",
       "      <td>4.976248e+00</td>\n",
       "      <td>2.593505e+00</td>\n",
       "      <td>1.491366e+00</td>\n",
       "      <td>1.544245e+00</td>\n",
       "      <td>3.066197e+01</td>\n",
       "      <td>2.813455e+01</td>\n",
       "      <td>1.057042e+00</td>\n",
       "      <td>3.116115e+00</td>\n",
       "      <td>1.227090e+02</td>\n",
       "      <td>1.544122e+00</td>\n",
       "      <td>8.212657e+00</td>\n",
       "      <td>2.671204e+00</td>\n",
       "    </tr>\n",
       "  </tbody>\n",
       "</table>\n",
       "<p>8 rows × 124 columns</p>\n",
       "</div>"
      ],
      "text/plain": [
       "                 id  ...  waterpoint_type_other\n",
       "count  3.011700e+04  ...           3.011700e+04\n",
       "mean   1.366352e-16  ...           2.110371e-15\n",
       "std    1.000017e+00  ...           1.000017e+00\n",
       "min   -1.730309e+00  ...          -3.743630e-01\n",
       "25%   -8.658006e-01  ...          -3.743630e-01\n",
       "50%   -6.331010e-03  ...          -3.743630e-01\n",
       "75%    8.622357e-01  ...          -3.743630e-01\n",
       "max    1.733415e+00  ...           2.671204e+00\n",
       "\n",
       "[8 rows x 124 columns]"
      ]
     },
     "execution_count": 141,
     "metadata": {
      "tags": []
     },
     "output_type": "execute_result"
    }
   ],
   "source": [
    "from sklearn.preprocessing import StandardScaler\n",
    "\n",
    "scaler = StandardScaler()\n",
    "\n",
    "# Fitting and transforming the data for the logistic regression dataset\n",
    "X_train_logreg = pd.DataFrame(scaler.fit_transform(X_train_logreg), columns = X_train_logreg.columns)\n",
    "X_test_logreg = pd.DataFrame(scaler.transform(X_test_logreg), columns = X_test_logreg.columns)\n",
    "\n",
    "# Fitting and transforming the data for the main dataset\n",
    "X_train = pd.DataFrame(scaler.fit_transform(X_train), columns = X_train.columns)\n",
    "X_test = pd.DataFrame(scaler.transform(X_test), columns = X_test.columns)\n",
    "\n",
    "X_train.describe()"
   ]
  },
  {
   "cell_type": "markdown",
   "metadata": {
    "id": "PPPph0nBJhH1"
   },
   "source": [
    "Now that the data is normalize we can now use the KNN Imputer."
   ]
  },
  {
   "cell_type": "code",
   "execution_count": null,
   "metadata": {
    "id": "fwGh0jSBQWTq"
   },
   "outputs": [],
   "source": [
    "from sklearn.impute import KNNImputer\n",
    "# I will use the nearest 5 neighbors to impute\n",
    "imputer = KNNImputer(n_neighbors=5)"
   ]
  },
  {
   "cell_type": "code",
   "execution_count": null,
   "metadata": {
    "id": "dqb9goLuQZQV"
   },
   "outputs": [],
   "source": [
    "X_train_logreg_impute = pd.DataFrame(imputer.fit_transform(X_train_logreg),columns = X_train_logreg.columns)\n",
    "X_test_logreg_impute = pd.DataFrame(imputer.transform(X_test_logreg),columns = X_test_logreg.columns)\n"
   ]
  },
  {
   "cell_type": "code",
   "execution_count": null,
   "metadata": {
    "id": "x3H9oalfJhH1"
   },
   "outputs": [],
   "source": [
    "X_train = pd.DataFrame(imputer.fit_transform(X_train),columns = X_train.columns)\n",
    "X_test = pd.DataFrame(imputer.transform(X_test),columns = X_test.columns)\n"
   ]
  },
  {
   "cell_type": "code",
   "execution_count": null,
   "metadata": {
    "colab": {
     "base_uri": "https://localhost:8080/",
     "height": 282
    },
    "id": "nIoDEUd4fpwr",
    "outputId": "f617e2bb-eae8-4e2a-a032-90f719f9d2cc"
   },
   "outputs": [
    {
     "data": {
      "text/html": [
       "<div>\n",
       "<style scoped>\n",
       "    .dataframe tbody tr th:only-of-type {\n",
       "        vertical-align: middle;\n",
       "    }\n",
       "\n",
       "    .dataframe tbody tr th {\n",
       "        vertical-align: top;\n",
       "    }\n",
       "\n",
       "    .dataframe thead th {\n",
       "        text-align: right;\n",
       "    }\n",
       "</style>\n",
       "<table border=\"1\" class=\"dataframe\">\n",
       "  <thead>\n",
       "    <tr style=\"text-align: right;\">\n",
       "      <th></th>\n",
       "      <th>id</th>\n",
       "      <th>amount_tsh</th>\n",
       "      <th>gps_height</th>\n",
       "      <th>num_private</th>\n",
       "      <th>basin_Internal</th>\n",
       "      <th>basin_Lake Nyasa</th>\n",
       "      <th>basin_Lake Rukwa</th>\n",
       "      <th>basin_Lake Tanganyika</th>\n",
       "      <th>basin_Lake Victoria</th>\n",
       "      <th>basin_Pangani</th>\n",
       "      <th>basin_Rufiji</th>\n",
       "      <th>basin_Ruvuma / Southern Coast</th>\n",
       "      <th>basin_Wami / Ruvu</th>\n",
       "      <th>region_Arusha</th>\n",
       "      <th>region_Dar es Salaam</th>\n",
       "      <th>region_Dodoma</th>\n",
       "      <th>region_Iringa</th>\n",
       "      <th>region_Kagera</th>\n",
       "      <th>region_Kigoma</th>\n",
       "      <th>region_Kilimanjaro</th>\n",
       "      <th>region_Lindi</th>\n",
       "      <th>region_Manyara</th>\n",
       "      <th>region_Mara</th>\n",
       "      <th>region_Mbeya</th>\n",
       "      <th>region_Morogoro</th>\n",
       "      <th>region_Mtwara</th>\n",
       "      <th>region_Mwanza</th>\n",
       "      <th>region_Pwani</th>\n",
       "      <th>region_Rukwa</th>\n",
       "      <th>region_Ruvuma</th>\n",
       "      <th>region_Shinyanga</th>\n",
       "      <th>region_Singida</th>\n",
       "      <th>region_Tabora</th>\n",
       "      <th>region_Tanga</th>\n",
       "      <th>district_code_0</th>\n",
       "      <th>district_code_1</th>\n",
       "      <th>district_code_13</th>\n",
       "      <th>district_code_2</th>\n",
       "      <th>district_code_23</th>\n",
       "      <th>district_code_3</th>\n",
       "      <th>...</th>\n",
       "      <th>management_group_parastatal</th>\n",
       "      <th>management_group_unknown</th>\n",
       "      <th>management_group_user-group</th>\n",
       "      <th>payment_type_annually</th>\n",
       "      <th>payment_type_monthly</th>\n",
       "      <th>payment_type_never pay</th>\n",
       "      <th>payment_type_on failure</th>\n",
       "      <th>payment_type_other</th>\n",
       "      <th>payment_type_per bucket</th>\n",
       "      <th>payment_type_unknown</th>\n",
       "      <th>water_quality_coloured</th>\n",
       "      <th>water_quality_fluoride</th>\n",
       "      <th>water_quality_fluoride abandoned</th>\n",
       "      <th>water_quality_milky</th>\n",
       "      <th>water_quality_salty</th>\n",
       "      <th>water_quality_salty abandoned</th>\n",
       "      <th>water_quality_soft</th>\n",
       "      <th>water_quality_unknown</th>\n",
       "      <th>quantity_dry</th>\n",
       "      <th>quantity_enough</th>\n",
       "      <th>quantity_insufficient</th>\n",
       "      <th>quantity_seasonal</th>\n",
       "      <th>quantity_unknown</th>\n",
       "      <th>source_dam</th>\n",
       "      <th>source_hand dtw</th>\n",
       "      <th>source_lake</th>\n",
       "      <th>source_machine dbh</th>\n",
       "      <th>source_other</th>\n",
       "      <th>source_rainwater harvesting</th>\n",
       "      <th>source_river</th>\n",
       "      <th>source_shallow well</th>\n",
       "      <th>source_spring</th>\n",
       "      <th>source_unknown</th>\n",
       "      <th>waterpoint_type_cattle trough</th>\n",
       "      <th>waterpoint_type_communal standpipe</th>\n",
       "      <th>waterpoint_type_communal standpipe multiple</th>\n",
       "      <th>waterpoint_type_dam</th>\n",
       "      <th>waterpoint_type_hand pump</th>\n",
       "      <th>waterpoint_type_improved spring</th>\n",
       "      <th>waterpoint_type_other</th>\n",
       "    </tr>\n",
       "  </thead>\n",
       "  <tbody>\n",
       "    <tr>\n",
       "      <th>0</th>\n",
       "      <td>0.216759</td>\n",
       "      <td>-0.307201</td>\n",
       "      <td>1.128274</td>\n",
       "      <td>-0.043918</td>\n",
       "      <td>-0.418631</td>\n",
       "      <td>-0.319400</td>\n",
       "      <td>-0.21972</td>\n",
       "      <td>-0.320661</td>\n",
       "      <td>-0.519521</td>\n",
       "      <td>2.288947</td>\n",
       "      <td>-0.304141</td>\n",
       "      <td>-0.246943</td>\n",
       "      <td>-0.340804</td>\n",
       "      <td>-0.247699</td>\n",
       "      <td>-0.129535</td>\n",
       "      <td>-0.243519</td>\n",
       "      <td>-0.214776</td>\n",
       "      <td>-0.300347</td>\n",
       "      <td>-0.119211</td>\n",
       "      <td>3.330214</td>\n",
       "      <td>-0.132809</td>\n",
       "      <td>-0.153581</td>\n",
       "      <td>-0.13852</td>\n",
       "      <td>-0.361566</td>\n",
       "      <td>-0.210511</td>\n",
       "      <td>-0.165720</td>\n",
       "      <td>-0.272163</td>\n",
       "      <td>-0.218389</td>\n",
       "      <td>-0.141112</td>\n",
       "      <td>-0.171551</td>\n",
       "      <td>-0.368866</td>\n",
       "      <td>-0.1788</td>\n",
       "      <td>-0.22604</td>\n",
       "      <td>-0.204681</td>\n",
       "      <td>-0.022323</td>\n",
       "      <td>-0.494994</td>\n",
       "      <td>-0.062984</td>\n",
       "      <td>-0.454757</td>\n",
       "      <td>-0.071457</td>\n",
       "      <td>-0.435588</td>\n",
       "      <td>...</td>\n",
       "      <td>-0.174402</td>\n",
       "      <td>-0.10477</td>\n",
       "      <td>0.387451</td>\n",
       "      <td>-0.11878</td>\n",
       "      <td>-0.249956</td>\n",
       "      <td>0.971421</td>\n",
       "      <td>-0.253313</td>\n",
       "      <td>-0.139265</td>\n",
       "      <td>-0.459004</td>\n",
       "      <td>-0.435534</td>\n",
       "      <td>-0.09826</td>\n",
       "      <td>-0.059431</td>\n",
       "      <td>-0.019115</td>\n",
       "      <td>-0.136009</td>\n",
       "      <td>-0.292459</td>\n",
       "      <td>-0.081968</td>\n",
       "      <td>0.430343</td>\n",
       "      <td>-0.201936</td>\n",
       "      <td>-0.379991</td>\n",
       "      <td>0.916082</td>\n",
       "      <td>-0.563175</td>\n",
       "      <td>-0.282508</td>\n",
       "      <td>-0.125091</td>\n",
       "      <td>-0.110608</td>\n",
       "      <td>-0.113943</td>\n",
       "      <td>-0.112439</td>\n",
       "      <td>-0.474253</td>\n",
       "      <td>-0.064038</td>\n",
       "      <td>-0.200955</td>\n",
       "      <td>-0.385579</td>\n",
       "      <td>-0.670526</td>\n",
       "      <td>1.544245</td>\n",
       "      <td>-0.032614</td>\n",
       "      <td>-0.035543</td>\n",
       "      <td>1.057042</td>\n",
       "      <td>-0.320912</td>\n",
       "      <td>-0.008149</td>\n",
       "      <td>-0.647617</td>\n",
       "      <td>-0.121763</td>\n",
       "      <td>-0.374363</td>\n",
       "    </tr>\n",
       "    <tr>\n",
       "      <th>1</th>\n",
       "      <td>1.042219</td>\n",
       "      <td>-0.307201</td>\n",
       "      <td>-0.745757</td>\n",
       "      <td>-0.043918</td>\n",
       "      <td>-0.418631</td>\n",
       "      <td>-0.319400</td>\n",
       "      <td>-0.21972</td>\n",
       "      <td>-0.320661</td>\n",
       "      <td>1.924850</td>\n",
       "      <td>-0.436882</td>\n",
       "      <td>-0.304141</td>\n",
       "      <td>-0.246943</td>\n",
       "      <td>-0.340804</td>\n",
       "      <td>-0.247699</td>\n",
       "      <td>-0.129535</td>\n",
       "      <td>-0.243519</td>\n",
       "      <td>-0.214776</td>\n",
       "      <td>3.329485</td>\n",
       "      <td>-0.119211</td>\n",
       "      <td>-0.300281</td>\n",
       "      <td>-0.132809</td>\n",
       "      <td>-0.153581</td>\n",
       "      <td>-0.13852</td>\n",
       "      <td>-0.361566</td>\n",
       "      <td>-0.210511</td>\n",
       "      <td>-0.165720</td>\n",
       "      <td>-0.272163</td>\n",
       "      <td>-0.218389</td>\n",
       "      <td>-0.141112</td>\n",
       "      <td>-0.171551</td>\n",
       "      <td>-0.368866</td>\n",
       "      <td>-0.1788</td>\n",
       "      <td>-0.22604</td>\n",
       "      <td>-0.204681</td>\n",
       "      <td>-0.022323</td>\n",
       "      <td>-0.494994</td>\n",
       "      <td>-0.062984</td>\n",
       "      <td>2.198976</td>\n",
       "      <td>-0.071457</td>\n",
       "      <td>-0.435588</td>\n",
       "      <td>...</td>\n",
       "      <td>-0.174402</td>\n",
       "      <td>-0.10477</td>\n",
       "      <td>0.387451</td>\n",
       "      <td>-0.11878</td>\n",
       "      <td>-0.249956</td>\n",
       "      <td>0.971421</td>\n",
       "      <td>-0.253313</td>\n",
       "      <td>-0.139265</td>\n",
       "      <td>-0.459004</td>\n",
       "      <td>-0.435534</td>\n",
       "      <td>-0.09826</td>\n",
       "      <td>-0.059431</td>\n",
       "      <td>-0.019115</td>\n",
       "      <td>-0.136009</td>\n",
       "      <td>-0.292459</td>\n",
       "      <td>-0.081968</td>\n",
       "      <td>0.430343</td>\n",
       "      <td>-0.201936</td>\n",
       "      <td>-0.379991</td>\n",
       "      <td>-1.091605</td>\n",
       "      <td>-0.563175</td>\n",
       "      <td>3.539725</td>\n",
       "      <td>-0.125091</td>\n",
       "      <td>-0.110608</td>\n",
       "      <td>-0.113943</td>\n",
       "      <td>-0.112439</td>\n",
       "      <td>-0.474253</td>\n",
       "      <td>-0.064038</td>\n",
       "      <td>-0.200955</td>\n",
       "      <td>-0.385579</td>\n",
       "      <td>-0.670526</td>\n",
       "      <td>1.544245</td>\n",
       "      <td>-0.032614</td>\n",
       "      <td>-0.035543</td>\n",
       "      <td>-0.946037</td>\n",
       "      <td>-0.320912</td>\n",
       "      <td>-0.008149</td>\n",
       "      <td>-0.647617</td>\n",
       "      <td>8.212657</td>\n",
       "      <td>-0.374363</td>\n",
       "    </tr>\n",
       "    <tr>\n",
       "      <th>2</th>\n",
       "      <td>0.008318</td>\n",
       "      <td>-0.307201</td>\n",
       "      <td>-0.745757</td>\n",
       "      <td>-0.043918</td>\n",
       "      <td>-0.418631</td>\n",
       "      <td>-0.319400</td>\n",
       "      <td>-0.21972</td>\n",
       "      <td>-0.320661</td>\n",
       "      <td>-0.519521</td>\n",
       "      <td>-0.436882</td>\n",
       "      <td>-0.304141</td>\n",
       "      <td>-0.246943</td>\n",
       "      <td>2.934240</td>\n",
       "      <td>-0.247699</td>\n",
       "      <td>-0.129535</td>\n",
       "      <td>4.106457</td>\n",
       "      <td>-0.214776</td>\n",
       "      <td>-0.300347</td>\n",
       "      <td>-0.119211</td>\n",
       "      <td>-0.300281</td>\n",
       "      <td>-0.132809</td>\n",
       "      <td>-0.153581</td>\n",
       "      <td>-0.13852</td>\n",
       "      <td>-0.361566</td>\n",
       "      <td>-0.210511</td>\n",
       "      <td>-0.165720</td>\n",
       "      <td>-0.272163</td>\n",
       "      <td>-0.218389</td>\n",
       "      <td>-0.141112</td>\n",
       "      <td>-0.171551</td>\n",
       "      <td>-0.368866</td>\n",
       "      <td>-0.1788</td>\n",
       "      <td>-0.22604</td>\n",
       "      <td>-0.204681</td>\n",
       "      <td>-0.022323</td>\n",
       "      <td>-0.494994</td>\n",
       "      <td>-0.062984</td>\n",
       "      <td>-0.454757</td>\n",
       "      <td>-0.071457</td>\n",
       "      <td>-0.435588</td>\n",
       "      <td>...</td>\n",
       "      <td>-0.174402</td>\n",
       "      <td>-0.10477</td>\n",
       "      <td>0.387451</td>\n",
       "      <td>-0.11878</td>\n",
       "      <td>-0.249956</td>\n",
       "      <td>-1.029420</td>\n",
       "      <td>-0.253313</td>\n",
       "      <td>-0.139265</td>\n",
       "      <td>2.178629</td>\n",
       "      <td>-0.435534</td>\n",
       "      <td>-0.09826</td>\n",
       "      <td>-0.059431</td>\n",
       "      <td>-0.019115</td>\n",
       "      <td>-0.136009</td>\n",
       "      <td>-0.292459</td>\n",
       "      <td>-0.081968</td>\n",
       "      <td>0.430343</td>\n",
       "      <td>-0.201936</td>\n",
       "      <td>-0.379991</td>\n",
       "      <td>-1.091605</td>\n",
       "      <td>1.775647</td>\n",
       "      <td>-0.282508</td>\n",
       "      <td>-0.125091</td>\n",
       "      <td>-0.110608</td>\n",
       "      <td>-0.113943</td>\n",
       "      <td>-0.112439</td>\n",
       "      <td>2.108581</td>\n",
       "      <td>-0.064038</td>\n",
       "      <td>-0.200955</td>\n",
       "      <td>-0.385579</td>\n",
       "      <td>-0.670526</td>\n",
       "      <td>-0.647566</td>\n",
       "      <td>-0.032614</td>\n",
       "      <td>-0.035543</td>\n",
       "      <td>-0.946037</td>\n",
       "      <td>3.116115</td>\n",
       "      <td>-0.008149</td>\n",
       "      <td>-0.647617</td>\n",
       "      <td>-0.121763</td>\n",
       "      <td>-0.374363</td>\n",
       "    </tr>\n",
       "    <tr>\n",
       "      <th>3</th>\n",
       "      <td>1.168413</td>\n",
       "      <td>-0.307201</td>\n",
       "      <td>-0.745757</td>\n",
       "      <td>-0.043918</td>\n",
       "      <td>-0.418631</td>\n",
       "      <td>3.130873</td>\n",
       "      <td>-0.21972</td>\n",
       "      <td>-0.320661</td>\n",
       "      <td>-0.519521</td>\n",
       "      <td>-0.436882</td>\n",
       "      <td>-0.304141</td>\n",
       "      <td>-0.246943</td>\n",
       "      <td>-0.340804</td>\n",
       "      <td>-0.247699</td>\n",
       "      <td>-0.129535</td>\n",
       "      <td>-0.243519</td>\n",
       "      <td>-0.214776</td>\n",
       "      <td>-0.300347</td>\n",
       "      <td>-0.119211</td>\n",
       "      <td>-0.300281</td>\n",
       "      <td>-0.132809</td>\n",
       "      <td>-0.153581</td>\n",
       "      <td>-0.13852</td>\n",
       "      <td>2.765744</td>\n",
       "      <td>-0.210511</td>\n",
       "      <td>-0.165720</td>\n",
       "      <td>-0.272163</td>\n",
       "      <td>-0.218389</td>\n",
       "      <td>-0.141112</td>\n",
       "      <td>-0.171551</td>\n",
       "      <td>-0.368866</td>\n",
       "      <td>-0.1788</td>\n",
       "      <td>-0.22604</td>\n",
       "      <td>-0.204681</td>\n",
       "      <td>-0.022323</td>\n",
       "      <td>-0.494994</td>\n",
       "      <td>-0.062984</td>\n",
       "      <td>-0.454757</td>\n",
       "      <td>-0.071457</td>\n",
       "      <td>2.295747</td>\n",
       "      <td>...</td>\n",
       "      <td>-0.174402</td>\n",
       "      <td>-0.10477</td>\n",
       "      <td>0.387451</td>\n",
       "      <td>-0.11878</td>\n",
       "      <td>-0.249956</td>\n",
       "      <td>0.971421</td>\n",
       "      <td>-0.253313</td>\n",
       "      <td>-0.139265</td>\n",
       "      <td>-0.459004</td>\n",
       "      <td>-0.435534</td>\n",
       "      <td>-0.09826</td>\n",
       "      <td>-0.059431</td>\n",
       "      <td>-0.019115</td>\n",
       "      <td>-0.136009</td>\n",
       "      <td>-0.292459</td>\n",
       "      <td>-0.081968</td>\n",
       "      <td>0.430343</td>\n",
       "      <td>-0.201936</td>\n",
       "      <td>2.631639</td>\n",
       "      <td>-1.091605</td>\n",
       "      <td>-0.563175</td>\n",
       "      <td>-0.282508</td>\n",
       "      <td>-0.125091</td>\n",
       "      <td>-0.110608</td>\n",
       "      <td>-0.113943</td>\n",
       "      <td>-0.112439</td>\n",
       "      <td>-0.474253</td>\n",
       "      <td>-0.064038</td>\n",
       "      <td>-0.200955</td>\n",
       "      <td>-0.385579</td>\n",
       "      <td>-0.670526</td>\n",
       "      <td>1.544245</td>\n",
       "      <td>-0.032614</td>\n",
       "      <td>-0.035543</td>\n",
       "      <td>1.057042</td>\n",
       "      <td>-0.320912</td>\n",
       "      <td>-0.008149</td>\n",
       "      <td>-0.647617</td>\n",
       "      <td>-0.121763</td>\n",
       "      <td>-0.374363</td>\n",
       "    </tr>\n",
       "    <tr>\n",
       "      <th>4</th>\n",
       "      <td>-0.483208</td>\n",
       "      <td>1.612900</td>\n",
       "      <td>-0.768372</td>\n",
       "      <td>-0.043918</td>\n",
       "      <td>-0.418631</td>\n",
       "      <td>-0.319400</td>\n",
       "      <td>-0.21972</td>\n",
       "      <td>-0.320661</td>\n",
       "      <td>-0.519521</td>\n",
       "      <td>-0.436882</td>\n",
       "      <td>-0.304141</td>\n",
       "      <td>4.049520</td>\n",
       "      <td>-0.340804</td>\n",
       "      <td>-0.247699</td>\n",
       "      <td>-0.129535</td>\n",
       "      <td>-0.243519</td>\n",
       "      <td>-0.214776</td>\n",
       "      <td>-0.300347</td>\n",
       "      <td>-0.119211</td>\n",
       "      <td>-0.300281</td>\n",
       "      <td>-0.132809</td>\n",
       "      <td>-0.153581</td>\n",
       "      <td>-0.13852</td>\n",
       "      <td>-0.361566</td>\n",
       "      <td>-0.210511</td>\n",
       "      <td>6.034271</td>\n",
       "      <td>-0.272163</td>\n",
       "      <td>-0.218389</td>\n",
       "      <td>-0.141112</td>\n",
       "      <td>-0.171551</td>\n",
       "      <td>-0.368866</td>\n",
       "      <td>-0.1788</td>\n",
       "      <td>-0.22604</td>\n",
       "      <td>-0.204681</td>\n",
       "      <td>-0.022323</td>\n",
       "      <td>2.020228</td>\n",
       "      <td>-0.062984</td>\n",
       "      <td>-0.454757</td>\n",
       "      <td>-0.071457</td>\n",
       "      <td>-0.435588</td>\n",
       "      <td>...</td>\n",
       "      <td>-0.174402</td>\n",
       "      <td>-0.10477</td>\n",
       "      <td>0.387451</td>\n",
       "      <td>-0.11878</td>\n",
       "      <td>-0.249956</td>\n",
       "      <td>-1.029420</td>\n",
       "      <td>-0.253313</td>\n",
       "      <td>-0.139265</td>\n",
       "      <td>2.178629</td>\n",
       "      <td>-0.435534</td>\n",
       "      <td>-0.09826</td>\n",
       "      <td>-0.059431</td>\n",
       "      <td>-0.019115</td>\n",
       "      <td>-0.136009</td>\n",
       "      <td>-0.292459</td>\n",
       "      <td>-0.081968</td>\n",
       "      <td>0.430343</td>\n",
       "      <td>-0.201936</td>\n",
       "      <td>-0.379991</td>\n",
       "      <td>0.916082</td>\n",
       "      <td>-0.563175</td>\n",
       "      <td>-0.282508</td>\n",
       "      <td>-0.125091</td>\n",
       "      <td>-0.110608</td>\n",
       "      <td>-0.113943</td>\n",
       "      <td>-0.112439</td>\n",
       "      <td>2.108581</td>\n",
       "      <td>-0.064038</td>\n",
       "      <td>-0.200955</td>\n",
       "      <td>-0.385579</td>\n",
       "      <td>-0.670526</td>\n",
       "      <td>-0.647566</td>\n",
       "      <td>-0.032614</td>\n",
       "      <td>-0.035543</td>\n",
       "      <td>-0.946037</td>\n",
       "      <td>3.116115</td>\n",
       "      <td>-0.008149</td>\n",
       "      <td>-0.647617</td>\n",
       "      <td>-0.121763</td>\n",
       "      <td>-0.374363</td>\n",
       "    </tr>\n",
       "  </tbody>\n",
       "</table>\n",
       "<p>5 rows × 124 columns</p>\n",
       "</div>"
      ],
      "text/plain": [
       "         id  amount_tsh  ...  waterpoint_type_improved spring  waterpoint_type_other\n",
       "0  0.216759   -0.307201  ...                        -0.121763              -0.374363\n",
       "1  1.042219   -0.307201  ...                         8.212657              -0.374363\n",
       "2  0.008318   -0.307201  ...                        -0.121763              -0.374363\n",
       "3  1.168413   -0.307201  ...                        -0.121763              -0.374363\n",
       "4 -0.483208    1.612900  ...                        -0.121763              -0.374363\n",
       "\n",
       "[5 rows x 124 columns]"
      ]
     },
     "execution_count": 145,
     "metadata": {
      "tags": []
     },
     "output_type": "execute_result"
    }
   ],
   "source": [
    "X_train.head()"
   ]
  },
  {
   "cell_type": "markdown",
   "metadata": {
    "id": "e-ArSRQi3mH4"
   },
   "source": [
    "# Checking For Class Imbalance\n",
    "\n",
    "Now I will test for class imbalance since if there is one, the performance measurements will be unreliable."
   ]
  },
  {
   "cell_type": "code",
   "execution_count": null,
   "metadata": {
    "colab": {
     "base_uri": "https://localhost:8080/"
    },
    "id": "aOCteJtY4A6H",
    "outputId": "d65e8e74-e73f-4ea7-f9fe-8a8acc739e59"
   },
   "outputs": [
    {
     "name": "stdout",
     "output_type": "stream",
     "text": [
      "functional                 0.514593\n",
      "non functional             0.416111\n",
      "functional needs repair    0.069296\n",
      "Name: status_group, dtype: float64\n",
      "\n",
      "\n",
      "functional                 0.514593\n",
      "non functional             0.416111\n",
      "functional needs repair    0.069296\n",
      "Name: status_group, dtype: float64\n"
     ]
    }
   ],
   "source": [
    "print(y_train_logreg.value_counts(normalize=True))\n",
    "print('\\n')\n",
    "print(y_train.value_counts(normalize=True))\n",
    "\n"
   ]
  },
  {
   "cell_type": "markdown",
   "metadata": {
    "id": "DzCM0dQx4qpc"
   },
   "source": [
    "The fuctional category makes up 51% and the non functional category makes up 41% of the training dataset. The problem lies with the functional needs repair category which make up only 7% of the dataset. Since it is important for the authorities to know which water points need repairs, I will fix this imbalance by using the SMOTE(Synthetic Minority Oversampling) tool."
   ]
  },
  {
   "cell_type": "code",
   "execution_count": null,
   "metadata": {
    "colab": {
     "base_uri": "https://localhost:8080/"
    },
    "id": "z1ZTt5u45mTC",
    "outputId": "d808129d-16df-46fb-dd63-034e16a1fafa"
   },
   "outputs": [
    {
     "name": "stderr",
     "output_type": "stream",
     "text": [
      "/usr/local/lib/python3.6/dist-packages/sklearn/utils/deprecation.py:87: FutureWarning: Function safe_indexing is deprecated; safe_indexing is deprecated in version 0.22 and will be removed in version 0.24.\n",
      "  warnings.warn(msg, category=FutureWarning)\n",
      "/usr/local/lib/python3.6/dist-packages/sklearn/utils/deprecation.py:87: FutureWarning: Function safe_indexing is deprecated; safe_indexing is deprecated in version 0.22 and will be removed in version 0.24.\n",
      "  warnings.warn(msg, category=FutureWarning)\n",
      "/usr/local/lib/python3.6/dist-packages/sklearn/utils/deprecation.py:87: FutureWarning: Function safe_indexing is deprecated; safe_indexing is deprecated in version 0.22 and will be removed in version 0.24.\n",
      "  warnings.warn(msg, category=FutureWarning)\n",
      "/usr/local/lib/python3.6/dist-packages/sklearn/utils/deprecation.py:87: FutureWarning: Function safe_indexing is deprecated; safe_indexing is deprecated in version 0.22 and will be removed in version 0.24.\n",
      "  warnings.warn(msg, category=FutureWarning)\n"
     ]
    }
   ],
   "source": [
    "from imblearn.over_sampling import SMOTE\n",
    "\n",
    "smote = SMOTE()\n",
    "X_train_resampled, y_train_resampled = smote.fit_resample(X_train, y_train)\n",
    "X_train_logreg_impute_resampled, y_train_logreg_resampled = smote.fit_resample(X_train_logreg_impute, y_train_logreg)\n"
   ]
  },
  {
   "cell_type": "markdown",
   "metadata": {
    "id": "eQieedVD6HWQ"
   },
   "source": [
    "Now I will check again to see if the class imbalance is fixed."
   ]
  },
  {
   "cell_type": "code",
   "execution_count": null,
   "metadata": {
    "id": "S4yAYJKk9Gtr"
   },
   "outputs": [],
   "source": [
    "X_train_resampled = pd.DataFrame(X_train_resampled, columns=X_train.columns )\n",
    "y_train_resampled = pd.Series(y_train_resampled, name='status_group')\n",
    "X_train_logreg_impute_resampled = pd.DataFrame(X_train_logreg_impute_resampled, columns=X_train_logreg_impute.columns)\n",
    "y_train_logreg_resampled = pd.Series(y_train_resampled, name='status_group')\n"
   ]
  },
  {
   "cell_type": "code",
   "execution_count": null,
   "metadata": {
    "colab": {
     "base_uri": "https://localhost:8080/"
    },
    "id": "J7lESE5i6NP5",
    "outputId": "aab7d3df-1fd2-460b-87f7-1440afa0002c"
   },
   "outputs": [
    {
     "name": "stdout",
     "output_type": "stream",
     "text": [
      "non functional             0.333333\n",
      "functional needs repair    0.333333\n",
      "functional                 0.333333\n",
      "Name: status_group, dtype: float64\n",
      "\n",
      "\n",
      "non functional             0.333333\n",
      "functional needs repair    0.333333\n",
      "functional                 0.333333\n",
      "Name: status_group, dtype: float64\n"
     ]
    }
   ],
   "source": [
    "print(y_train_resampled.value_counts(normalize=True))\n",
    "print('\\n')\n",
    "print(y_train_logreg_resampled.value_counts(normalize=True))\n",
    "\n"
   ]
  },
  {
   "cell_type": "markdown",
   "metadata": {
    "id": "tBvqxYzBB30V"
   },
   "source": [
    "The categories are now all equal at 33.33% each. Solving the class imbalance problem. I will now combine the data into a dataframe again to make things simpler."
   ]
  },
  {
   "cell_type": "code",
   "execution_count": null,
   "metadata": {
    "id": "gQkUzz-QB9g3"
   },
   "outputs": [],
   "source": [
    "# Combining the training data to make easy to keep track\n",
    "processed_df = pd.concat([X_train_resampled, y_train_resampled], axis=1)\n",
    "processed_df_logreg = pd.concat([X_train_logreg_impute_resampled, y_train_logreg_resampled], axis=1)\n",
    "\n",
    "processed_df = processed_df.drop(columns='id')\n",
    "processed_df_logreg = processed_df_logreg.drop(columns='id')\n",
    "\n"
   ]
  },
  {
   "cell_type": "code",
   "execution_count": null,
   "metadata": {
    "id": "yLgNxB4FLwfZ"
   },
   "outputs": [],
   "source": [
    "# Resetting index so it could be combine with the features\n",
    "y_test.reset_index(drop=True, inplace=True)\n",
    "y_test_logreg.reset_index(drop=True, inplace=True)\n"
   ]
  },
  {
   "cell_type": "code",
   "execution_count": null,
   "metadata": {
    "id": "Z2yrmMSUG6KA"
   },
   "outputs": [],
   "source": [
    "# Combining test data into a dataframe\n",
    "\n",
    "processed_test_df= pd.concat([X_test, y_test], axis=1)\n",
    "processed_test_df_logreg = pd.concat([X_test_logreg_impute, y_test_logreg], axis=1)\n",
    "\n",
    "processed_test_df = processed_test_df.drop(columns='id')\n",
    "processed_test_df_logreg = processed_test_df_logreg.drop(columns='id')\n"
   ]
  },
  {
   "cell_type": "code",
   "execution_count": null,
   "metadata": {
    "colab": {
     "base_uri": "https://localhost:8080/",
     "height": 299
    },
    "id": "ByeDXVpoMH9d",
    "outputId": "d874d2d3-2c00-4a5e-e5d0-4292b6a24860"
   },
   "outputs": [
    {
     "data": {
      "text/html": [
       "<div>\n",
       "<style scoped>\n",
       "    .dataframe tbody tr th:only-of-type {\n",
       "        vertical-align: middle;\n",
       "    }\n",
       "\n",
       "    .dataframe tbody tr th {\n",
       "        vertical-align: top;\n",
       "    }\n",
       "\n",
       "    .dataframe thead th {\n",
       "        text-align: right;\n",
       "    }\n",
       "</style>\n",
       "<table border=\"1\" class=\"dataframe\">\n",
       "  <thead>\n",
       "    <tr style=\"text-align: right;\">\n",
       "      <th></th>\n",
       "      <th>amount_tsh</th>\n",
       "      <th>gps_height</th>\n",
       "      <th>num_private</th>\n",
       "      <th>basin_Internal</th>\n",
       "      <th>basin_Lake Nyasa</th>\n",
       "      <th>basin_Lake Rukwa</th>\n",
       "      <th>basin_Lake Tanganyika</th>\n",
       "      <th>basin_Lake Victoria</th>\n",
       "      <th>basin_Pangani</th>\n",
       "      <th>basin_Rufiji</th>\n",
       "      <th>basin_Ruvuma / Southern Coast</th>\n",
       "      <th>basin_Wami / Ruvu</th>\n",
       "      <th>region_Arusha</th>\n",
       "      <th>region_Dar es Salaam</th>\n",
       "      <th>region_Dodoma</th>\n",
       "      <th>region_Iringa</th>\n",
       "      <th>region_Kagera</th>\n",
       "      <th>region_Kigoma</th>\n",
       "      <th>region_Kilimanjaro</th>\n",
       "      <th>region_Lindi</th>\n",
       "      <th>region_Manyara</th>\n",
       "      <th>region_Mara</th>\n",
       "      <th>region_Mbeya</th>\n",
       "      <th>region_Morogoro</th>\n",
       "      <th>region_Mtwara</th>\n",
       "      <th>region_Mwanza</th>\n",
       "      <th>region_Pwani</th>\n",
       "      <th>region_Rukwa</th>\n",
       "      <th>region_Ruvuma</th>\n",
       "      <th>region_Shinyanga</th>\n",
       "      <th>region_Singida</th>\n",
       "      <th>region_Tabora</th>\n",
       "      <th>region_Tanga</th>\n",
       "      <th>district_code_0</th>\n",
       "      <th>district_code_1</th>\n",
       "      <th>district_code_13</th>\n",
       "      <th>district_code_2</th>\n",
       "      <th>district_code_23</th>\n",
       "      <th>district_code_3</th>\n",
       "      <th>district_code_30</th>\n",
       "      <th>...</th>\n",
       "      <th>management_group_unknown</th>\n",
       "      <th>management_group_user-group</th>\n",
       "      <th>payment_type_annually</th>\n",
       "      <th>payment_type_monthly</th>\n",
       "      <th>payment_type_never pay</th>\n",
       "      <th>payment_type_on failure</th>\n",
       "      <th>payment_type_other</th>\n",
       "      <th>payment_type_per bucket</th>\n",
       "      <th>payment_type_unknown</th>\n",
       "      <th>water_quality_coloured</th>\n",
       "      <th>water_quality_fluoride</th>\n",
       "      <th>water_quality_fluoride abandoned</th>\n",
       "      <th>water_quality_milky</th>\n",
       "      <th>water_quality_salty</th>\n",
       "      <th>water_quality_salty abandoned</th>\n",
       "      <th>water_quality_soft</th>\n",
       "      <th>water_quality_unknown</th>\n",
       "      <th>quantity_dry</th>\n",
       "      <th>quantity_enough</th>\n",
       "      <th>quantity_insufficient</th>\n",
       "      <th>quantity_seasonal</th>\n",
       "      <th>quantity_unknown</th>\n",
       "      <th>source_dam</th>\n",
       "      <th>source_hand dtw</th>\n",
       "      <th>source_lake</th>\n",
       "      <th>source_machine dbh</th>\n",
       "      <th>source_other</th>\n",
       "      <th>source_rainwater harvesting</th>\n",
       "      <th>source_river</th>\n",
       "      <th>source_shallow well</th>\n",
       "      <th>source_spring</th>\n",
       "      <th>source_unknown</th>\n",
       "      <th>waterpoint_type_cattle trough</th>\n",
       "      <th>waterpoint_type_communal standpipe</th>\n",
       "      <th>waterpoint_type_communal standpipe multiple</th>\n",
       "      <th>waterpoint_type_dam</th>\n",
       "      <th>waterpoint_type_hand pump</th>\n",
       "      <th>waterpoint_type_improved spring</th>\n",
       "      <th>waterpoint_type_other</th>\n",
       "      <th>status_group</th>\n",
       "    </tr>\n",
       "  </thead>\n",
       "  <tbody>\n",
       "    <tr>\n",
       "      <th>0</th>\n",
       "      <td>-0.307201</td>\n",
       "      <td>-0.768372</td>\n",
       "      <td>-0.043918</td>\n",
       "      <td>-0.418631</td>\n",
       "      <td>-0.3194</td>\n",
       "      <td>-0.21972</td>\n",
       "      <td>-0.320661</td>\n",
       "      <td>-0.519521</td>\n",
       "      <td>2.288947</td>\n",
       "      <td>-0.304141</td>\n",
       "      <td>-0.246943</td>\n",
       "      <td>-0.340804</td>\n",
       "      <td>-0.247699</td>\n",
       "      <td>-0.129535</td>\n",
       "      <td>-0.243519</td>\n",
       "      <td>-0.214776</td>\n",
       "      <td>-0.300347</td>\n",
       "      <td>-0.119211</td>\n",
       "      <td>-0.300281</td>\n",
       "      <td>-0.132809</td>\n",
       "      <td>-0.153581</td>\n",
       "      <td>-0.13852</td>\n",
       "      <td>-0.361566</td>\n",
       "      <td>-0.210511</td>\n",
       "      <td>-0.16572</td>\n",
       "      <td>-0.272163</td>\n",
       "      <td>-0.218389</td>\n",
       "      <td>-0.141112</td>\n",
       "      <td>-0.171551</td>\n",
       "      <td>-0.368866</td>\n",
       "      <td>-0.1788</td>\n",
       "      <td>-0.22604</td>\n",
       "      <td>4.885645</td>\n",
       "      <td>-0.022323</td>\n",
       "      <td>-0.494994</td>\n",
       "      <td>-0.062984</td>\n",
       "      <td>-0.454757</td>\n",
       "      <td>-0.071457</td>\n",
       "      <td>-0.435588</td>\n",
       "      <td>-0.147936</td>\n",
       "      <td>...</td>\n",
       "      <td>-0.10477</td>\n",
       "      <td>0.387451</td>\n",
       "      <td>-0.11878</td>\n",
       "      <td>-0.249956</td>\n",
       "      <td>0.971421</td>\n",
       "      <td>-0.253313</td>\n",
       "      <td>-0.139265</td>\n",
       "      <td>-0.459004</td>\n",
       "      <td>-0.435534</td>\n",
       "      <td>-0.09826</td>\n",
       "      <td>-0.059431</td>\n",
       "      <td>-0.019115</td>\n",
       "      <td>-0.136009</td>\n",
       "      <td>-0.292459</td>\n",
       "      <td>-0.081968</td>\n",
       "      <td>0.430343</td>\n",
       "      <td>-0.201936</td>\n",
       "      <td>-0.379991</td>\n",
       "      <td>-1.091605</td>\n",
       "      <td>1.775647</td>\n",
       "      <td>-0.282508</td>\n",
       "      <td>-0.125091</td>\n",
       "      <td>-0.110608</td>\n",
       "      <td>-0.113943</td>\n",
       "      <td>-0.112439</td>\n",
       "      <td>2.108581</td>\n",
       "      <td>-0.064038</td>\n",
       "      <td>-0.200955</td>\n",
       "      <td>-0.385579</td>\n",
       "      <td>-0.670526</td>\n",
       "      <td>-0.647566</td>\n",
       "      <td>-0.032614</td>\n",
       "      <td>-0.035543</td>\n",
       "      <td>-0.946037</td>\n",
       "      <td>-0.320912</td>\n",
       "      <td>-0.008149</td>\n",
       "      <td>-0.647617</td>\n",
       "      <td>-0.121763</td>\n",
       "      <td>2.671204</td>\n",
       "      <td>non functional</td>\n",
       "    </tr>\n",
       "    <tr>\n",
       "      <th>1</th>\n",
       "      <td>-0.307201</td>\n",
       "      <td>-0.745757</td>\n",
       "      <td>-0.043918</td>\n",
       "      <td>-0.418631</td>\n",
       "      <td>-0.3194</td>\n",
       "      <td>-0.21972</td>\n",
       "      <td>-0.320661</td>\n",
       "      <td>1.924850</td>\n",
       "      <td>-0.436882</td>\n",
       "      <td>-0.304141</td>\n",
       "      <td>-0.246943</td>\n",
       "      <td>-0.340804</td>\n",
       "      <td>-0.247699</td>\n",
       "      <td>-0.129535</td>\n",
       "      <td>-0.243519</td>\n",
       "      <td>-0.214776</td>\n",
       "      <td>-0.300347</td>\n",
       "      <td>-0.119211</td>\n",
       "      <td>-0.300281</td>\n",
       "      <td>-0.132809</td>\n",
       "      <td>-0.153581</td>\n",
       "      <td>-0.13852</td>\n",
       "      <td>-0.361566</td>\n",
       "      <td>-0.210511</td>\n",
       "      <td>-0.16572</td>\n",
       "      <td>-0.272163</td>\n",
       "      <td>-0.218389</td>\n",
       "      <td>-0.141112</td>\n",
       "      <td>-0.171551</td>\n",
       "      <td>2.711014</td>\n",
       "      <td>-0.1788</td>\n",
       "      <td>-0.22604</td>\n",
       "      <td>-0.204681</td>\n",
       "      <td>-0.022323</td>\n",
       "      <td>2.020228</td>\n",
       "      <td>-0.062984</td>\n",
       "      <td>-0.454757</td>\n",
       "      <td>-0.071457</td>\n",
       "      <td>-0.435588</td>\n",
       "      <td>-0.147936</td>\n",
       "      <td>...</td>\n",
       "      <td>-0.10477</td>\n",
       "      <td>0.387451</td>\n",
       "      <td>-0.11878</td>\n",
       "      <td>-0.249956</td>\n",
       "      <td>0.971421</td>\n",
       "      <td>-0.253313</td>\n",
       "      <td>-0.139265</td>\n",
       "      <td>-0.459004</td>\n",
       "      <td>-0.435534</td>\n",
       "      <td>-0.09826</td>\n",
       "      <td>-0.059431</td>\n",
       "      <td>-0.019115</td>\n",
       "      <td>-0.136009</td>\n",
       "      <td>-0.292459</td>\n",
       "      <td>-0.081968</td>\n",
       "      <td>0.430343</td>\n",
       "      <td>-0.201936</td>\n",
       "      <td>-0.379991</td>\n",
       "      <td>0.916082</td>\n",
       "      <td>-0.563175</td>\n",
       "      <td>-0.282508</td>\n",
       "      <td>-0.125091</td>\n",
       "      <td>-0.110608</td>\n",
       "      <td>-0.113943</td>\n",
       "      <td>-0.112439</td>\n",
       "      <td>-0.474253</td>\n",
       "      <td>-0.064038</td>\n",
       "      <td>-0.200955</td>\n",
       "      <td>-0.385579</td>\n",
       "      <td>1.491366</td>\n",
       "      <td>-0.647566</td>\n",
       "      <td>-0.032614</td>\n",
       "      <td>-0.035543</td>\n",
       "      <td>-0.946037</td>\n",
       "      <td>-0.320912</td>\n",
       "      <td>-0.008149</td>\n",
       "      <td>1.544122</td>\n",
       "      <td>-0.121763</td>\n",
       "      <td>-0.374363</td>\n",
       "      <td>functional needs repair</td>\n",
       "    </tr>\n",
       "    <tr>\n",
       "      <th>2</th>\n",
       "      <td>-0.307201</td>\n",
       "      <td>0.478469</td>\n",
       "      <td>-0.043918</td>\n",
       "      <td>-0.418631</td>\n",
       "      <td>-0.3194</td>\n",
       "      <td>-0.21972</td>\n",
       "      <td>-0.320661</td>\n",
       "      <td>-0.519521</td>\n",
       "      <td>-0.436882</td>\n",
       "      <td>-0.304141</td>\n",
       "      <td>4.049520</td>\n",
       "      <td>-0.340804</td>\n",
       "      <td>-0.247699</td>\n",
       "      <td>-0.129535</td>\n",
       "      <td>-0.243519</td>\n",
       "      <td>-0.214776</td>\n",
       "      <td>-0.300347</td>\n",
       "      <td>-0.119211</td>\n",
       "      <td>-0.300281</td>\n",
       "      <td>-0.132809</td>\n",
       "      <td>-0.153581</td>\n",
       "      <td>-0.13852</td>\n",
       "      <td>-0.361566</td>\n",
       "      <td>-0.210511</td>\n",
       "      <td>-0.16572</td>\n",
       "      <td>-0.272163</td>\n",
       "      <td>-0.218389</td>\n",
       "      <td>-0.141112</td>\n",
       "      <td>5.829159</td>\n",
       "      <td>-0.368866</td>\n",
       "      <td>-0.1788</td>\n",
       "      <td>-0.22604</td>\n",
       "      <td>-0.204681</td>\n",
       "      <td>-0.022323</td>\n",
       "      <td>-0.494994</td>\n",
       "      <td>-0.062984</td>\n",
       "      <td>-0.454757</td>\n",
       "      <td>-0.071457</td>\n",
       "      <td>-0.435588</td>\n",
       "      <td>-0.147936</td>\n",
       "      <td>...</td>\n",
       "      <td>-0.10477</td>\n",
       "      <td>-2.580971</td>\n",
       "      <td>-0.11878</td>\n",
       "      <td>-0.249956</td>\n",
       "      <td>-1.029420</td>\n",
       "      <td>3.947689</td>\n",
       "      <td>-0.139265</td>\n",
       "      <td>-0.459004</td>\n",
       "      <td>-0.435534</td>\n",
       "      <td>-0.09826</td>\n",
       "      <td>-0.059431</td>\n",
       "      <td>-0.019115</td>\n",
       "      <td>-0.136009</td>\n",
       "      <td>-0.292459</td>\n",
       "      <td>-0.081968</td>\n",
       "      <td>0.430343</td>\n",
       "      <td>-0.201936</td>\n",
       "      <td>-0.379991</td>\n",
       "      <td>-1.091605</td>\n",
       "      <td>1.775647</td>\n",
       "      <td>-0.282508</td>\n",
       "      <td>-0.125091</td>\n",
       "      <td>-0.110608</td>\n",
       "      <td>-0.113943</td>\n",
       "      <td>-0.112439</td>\n",
       "      <td>-0.474253</td>\n",
       "      <td>-0.064038</td>\n",
       "      <td>-0.200955</td>\n",
       "      <td>-0.385579</td>\n",
       "      <td>1.491366</td>\n",
       "      <td>-0.647566</td>\n",
       "      <td>-0.032614</td>\n",
       "      <td>-0.035543</td>\n",
       "      <td>-0.946037</td>\n",
       "      <td>-0.320912</td>\n",
       "      <td>-0.008149</td>\n",
       "      <td>1.544122</td>\n",
       "      <td>-0.121763</td>\n",
       "      <td>-0.374363</td>\n",
       "      <td>non functional</td>\n",
       "    </tr>\n",
       "    <tr>\n",
       "      <th>3</th>\n",
       "      <td>-0.307201</td>\n",
       "      <td>-0.745757</td>\n",
       "      <td>-0.043918</td>\n",
       "      <td>-0.418631</td>\n",
       "      <td>-0.3194</td>\n",
       "      <td>-0.21972</td>\n",
       "      <td>-0.320661</td>\n",
       "      <td>1.924850</td>\n",
       "      <td>-0.436882</td>\n",
       "      <td>-0.304141</td>\n",
       "      <td>-0.246943</td>\n",
       "      <td>-0.340804</td>\n",
       "      <td>-0.247699</td>\n",
       "      <td>-0.129535</td>\n",
       "      <td>-0.243519</td>\n",
       "      <td>-0.214776</td>\n",
       "      <td>-0.300347</td>\n",
       "      <td>-0.119211</td>\n",
       "      <td>-0.300281</td>\n",
       "      <td>-0.132809</td>\n",
       "      <td>-0.153581</td>\n",
       "      <td>-0.13852</td>\n",
       "      <td>-0.361566</td>\n",
       "      <td>-0.210511</td>\n",
       "      <td>-0.16572</td>\n",
       "      <td>3.674267</td>\n",
       "      <td>-0.218389</td>\n",
       "      <td>-0.141112</td>\n",
       "      <td>-0.171551</td>\n",
       "      <td>-0.368866</td>\n",
       "      <td>-0.1788</td>\n",
       "      <td>-0.22604</td>\n",
       "      <td>-0.204681</td>\n",
       "      <td>-0.022323</td>\n",
       "      <td>-0.494994</td>\n",
       "      <td>-0.062984</td>\n",
       "      <td>-0.454757</td>\n",
       "      <td>-0.071457</td>\n",
       "      <td>-0.435588</td>\n",
       "      <td>-0.147936</td>\n",
       "      <td>...</td>\n",
       "      <td>-0.10477</td>\n",
       "      <td>0.387451</td>\n",
       "      <td>-0.11878</td>\n",
       "      <td>-0.249956</td>\n",
       "      <td>0.971421</td>\n",
       "      <td>-0.253313</td>\n",
       "      <td>-0.139265</td>\n",
       "      <td>-0.459004</td>\n",
       "      <td>-0.435534</td>\n",
       "      <td>-0.09826</td>\n",
       "      <td>-0.059431</td>\n",
       "      <td>-0.019115</td>\n",
       "      <td>-0.136009</td>\n",
       "      <td>-0.292459</td>\n",
       "      <td>-0.081968</td>\n",
       "      <td>0.430343</td>\n",
       "      <td>-0.201936</td>\n",
       "      <td>-0.379991</td>\n",
       "      <td>0.916082</td>\n",
       "      <td>-0.563175</td>\n",
       "      <td>-0.282508</td>\n",
       "      <td>-0.125091</td>\n",
       "      <td>-0.110608</td>\n",
       "      <td>-0.113943</td>\n",
       "      <td>-0.112439</td>\n",
       "      <td>-0.474253</td>\n",
       "      <td>-0.064038</td>\n",
       "      <td>-0.200955</td>\n",
       "      <td>-0.385579</td>\n",
       "      <td>1.491366</td>\n",
       "      <td>-0.647566</td>\n",
       "      <td>-0.032614</td>\n",
       "      <td>-0.035543</td>\n",
       "      <td>-0.946037</td>\n",
       "      <td>-0.320912</td>\n",
       "      <td>-0.008149</td>\n",
       "      <td>1.544122</td>\n",
       "      <td>-0.121763</td>\n",
       "      <td>-0.374363</td>\n",
       "      <td>functional</td>\n",
       "    </tr>\n",
       "    <tr>\n",
       "      <th>4</th>\n",
       "      <td>-0.307201</td>\n",
       "      <td>-0.745757</td>\n",
       "      <td>-0.043918</td>\n",
       "      <td>-0.418631</td>\n",
       "      <td>-0.3194</td>\n",
       "      <td>-0.21972</td>\n",
       "      <td>3.118562</td>\n",
       "      <td>-0.519521</td>\n",
       "      <td>-0.436882</td>\n",
       "      <td>-0.304141</td>\n",
       "      <td>-0.246943</td>\n",
       "      <td>-0.340804</td>\n",
       "      <td>-0.247699</td>\n",
       "      <td>-0.129535</td>\n",
       "      <td>-0.243519</td>\n",
       "      <td>-0.214776</td>\n",
       "      <td>3.329485</td>\n",
       "      <td>-0.119211</td>\n",
       "      <td>-0.300281</td>\n",
       "      <td>-0.132809</td>\n",
       "      <td>-0.153581</td>\n",
       "      <td>-0.13852</td>\n",
       "      <td>-0.361566</td>\n",
       "      <td>-0.210511</td>\n",
       "      <td>-0.16572</td>\n",
       "      <td>-0.272163</td>\n",
       "      <td>-0.218389</td>\n",
       "      <td>-0.141112</td>\n",
       "      <td>-0.171551</td>\n",
       "      <td>-0.368866</td>\n",
       "      <td>-0.1788</td>\n",
       "      <td>-0.22604</td>\n",
       "      <td>-0.204681</td>\n",
       "      <td>-0.022323</td>\n",
       "      <td>-0.494994</td>\n",
       "      <td>-0.062984</td>\n",
       "      <td>-0.454757</td>\n",
       "      <td>-0.071457</td>\n",
       "      <td>-0.435588</td>\n",
       "      <td>-0.147936</td>\n",
       "      <td>...</td>\n",
       "      <td>-0.10477</td>\n",
       "      <td>0.387451</td>\n",
       "      <td>-0.11878</td>\n",
       "      <td>-0.249956</td>\n",
       "      <td>0.971421</td>\n",
       "      <td>-0.253313</td>\n",
       "      <td>-0.139265</td>\n",
       "      <td>-0.459004</td>\n",
       "      <td>-0.435534</td>\n",
       "      <td>-0.09826</td>\n",
       "      <td>-0.059431</td>\n",
       "      <td>-0.019115</td>\n",
       "      <td>-0.136009</td>\n",
       "      <td>-0.292459</td>\n",
       "      <td>-0.081968</td>\n",
       "      <td>0.430343</td>\n",
       "      <td>-0.201936</td>\n",
       "      <td>-0.379991</td>\n",
       "      <td>0.916082</td>\n",
       "      <td>-0.563175</td>\n",
       "      <td>-0.282508</td>\n",
       "      <td>-0.125091</td>\n",
       "      <td>-0.110608</td>\n",
       "      <td>-0.113943</td>\n",
       "      <td>-0.112439</td>\n",
       "      <td>-0.474253</td>\n",
       "      <td>-0.064038</td>\n",
       "      <td>-0.200955</td>\n",
       "      <td>-0.385579</td>\n",
       "      <td>1.491366</td>\n",
       "      <td>-0.647566</td>\n",
       "      <td>-0.032614</td>\n",
       "      <td>-0.035543</td>\n",
       "      <td>-0.946037</td>\n",
       "      <td>-0.320912</td>\n",
       "      <td>-0.008149</td>\n",
       "      <td>1.544122</td>\n",
       "      <td>-0.121763</td>\n",
       "      <td>-0.374363</td>\n",
       "      <td>functional</td>\n",
       "    </tr>\n",
       "  </tbody>\n",
       "</table>\n",
       "<p>5 rows × 124 columns</p>\n",
       "</div>"
      ],
      "text/plain": [
       "   amount_tsh  gps_height  ...  waterpoint_type_other             status_group\n",
       "0   -0.307201   -0.768372  ...               2.671204           non functional\n",
       "1   -0.307201   -0.745757  ...              -0.374363  functional needs repair\n",
       "2   -0.307201    0.478469  ...              -0.374363           non functional\n",
       "3   -0.307201   -0.745757  ...              -0.374363               functional\n",
       "4   -0.307201   -0.745757  ...              -0.374363               functional\n",
       "\n",
       "[5 rows x 124 columns]"
      ]
     },
     "execution_count": 153,
     "metadata": {
      "tags": []
     },
     "output_type": "execute_result"
    }
   ],
   "source": [
    "processed_test_df.head()"
   ]
  },
  {
   "cell_type": "markdown",
   "metadata": {
    "id": "8i_lVN1uYWVU"
   },
   "source": [
    "Now that I am done with scrubbing and exploring the data, I will start to build the models.\n",
    "\n",
    "# Building the Models\n",
    "\n",
    "For this project I will be building several models using diffrent classifiers and then compare the performance metrics to choose one classifier. I will be using CVsearch and param grids to make sure the model the parameters are well chosen.\n",
    "\n",
    "The classifiers I will be trying out are\n",
    "\n",
    "- Logistic Regression\n",
    "- K-Nearest Neighbour\n",
    "- Decision Tree Classifier\n",
    "- Randomn Forest Classifier\n",
    "- eXtreme Gradient Boosting (XGBoost)\n",
    "- Support Vector Machines (SVM)\n",
    "\n",
    "The performance metrics I will be using are Precision, Recall, Accuracy, and F1 Score. I will also be investigating the confusion matrix."
   ]
  },
  {
   "cell_type": "markdown",
   "metadata": {
    "id": "JRCrK9Wee6XZ"
   },
   "source": [
    "Before we build the models, I will create a fuction that takes in the model, the true data and the predictions and then append the performance metrics to a dataframe. After having create all the models, we can compare the scores at the end."
   ]
  },
  {
   "cell_type": "code",
   "execution_count": null,
   "metadata": {
    "id": "j3Z5vTkefORc"
   },
   "outputs": [],
   "source": [
    "from sklearn.metrics import precision_score, recall_score, accuracy_score, f1_score\n",
    "from sklearn.metrics import roc_curve, auc\n",
    "\n",
    "\n",
    "scores_df = pd.DataFrame(columns = ['Model', 'Precision', 'Recall', 'Accuracy', 'F1'])\n",
    "\n",
    "# Creating the function\n",
    "def find_scores(model, y_test, y_test_hat):\n",
    "  global scores_df\n",
    "\n",
    "  # Calculating test scores\n",
    "  precision = precision_score(y_test, y_test_hat, average='weighted')\n",
    "  recall = recall_score(y_test, y_test_hat, average='weighted')\n",
    "  accuracy = accuracy_score(y_test, y_test_hat)\n",
    "  f1 = f1_score(y_test, y_test_hat, average='weighted')\n",
    "\n",
    "  # Adding the scores into the dataframe\n",
    "  scores_df = scores_df.append({'Model':model, 'Precision':precision, 'Recall':recall, 'Accuracy':accuracy, 'F1':f1}, ignore_index=True)"
   ]
  },
  {
   "cell_type": "markdown",
   "metadata": {
    "id": "0_iz74Keg3Dq"
   },
   "source": [
    "## Logistic Regression\n",
    "The first model I will be creating is Logistic Regression. We will first create a base model with the default hyperparameters, before using GridSearchCV to find optimal parameters."
   ]
  },
  {
   "cell_type": "code",
   "execution_count": null,
   "metadata": {
    "colab": {
     "base_uri": "https://localhost:8080/",
     "height": 192
    },
    "id": "nmiQIxqnUBKc",
    "outputId": "6211e0f9-ea0d-43ad-be38-041133a83752"
   },
   "outputs": [
    {
     "data": {
      "text/html": [
       "<div>\n",
       "<style scoped>\n",
       "    .dataframe tbody tr th:only-of-type {\n",
       "        vertical-align: middle;\n",
       "    }\n",
       "\n",
       "    .dataframe tbody tr th {\n",
       "        vertical-align: top;\n",
       "    }\n",
       "\n",
       "    .dataframe thead th {\n",
       "        text-align: right;\n",
       "    }\n",
       "</style>\n",
       "<table border=\"1\" class=\"dataframe\">\n",
       "  <thead>\n",
       "    <tr style=\"text-align: right;\">\n",
       "      <th></th>\n",
       "      <th>amount_tsh</th>\n",
       "      <th>gps_height</th>\n",
       "      <th>num_private</th>\n",
       "      <th>basin_Lake Nyasa</th>\n",
       "      <th>basin_Lake Rukwa</th>\n",
       "      <th>basin_Lake Tanganyika</th>\n",
       "      <th>basin_Lake Victoria</th>\n",
       "      <th>basin_Pangani</th>\n",
       "      <th>basin_Rufiji</th>\n",
       "      <th>basin_Ruvuma / Southern Coast</th>\n",
       "      <th>basin_Wami / Ruvu</th>\n",
       "      <th>region_Dar es Salaam</th>\n",
       "      <th>region_Dodoma</th>\n",
       "      <th>region_Iringa</th>\n",
       "      <th>region_Kagera</th>\n",
       "      <th>region_Kigoma</th>\n",
       "      <th>region_Kilimanjaro</th>\n",
       "      <th>region_Lindi</th>\n",
       "      <th>region_Manyara</th>\n",
       "      <th>region_Mara</th>\n",
       "      <th>region_Mbeya</th>\n",
       "      <th>region_Morogoro</th>\n",
       "      <th>region_Mtwara</th>\n",
       "      <th>region_Mwanza</th>\n",
       "      <th>region_Pwani</th>\n",
       "      <th>region_Rukwa</th>\n",
       "      <th>region_Ruvuma</th>\n",
       "      <th>region_Shinyanga</th>\n",
       "      <th>region_Singida</th>\n",
       "      <th>region_Tabora</th>\n",
       "      <th>region_Tanga</th>\n",
       "      <th>district_code_1</th>\n",
       "      <th>district_code_13</th>\n",
       "      <th>district_code_2</th>\n",
       "      <th>district_code_23</th>\n",
       "      <th>district_code_3</th>\n",
       "      <th>district_code_30</th>\n",
       "      <th>district_code_33</th>\n",
       "      <th>district_code_4</th>\n",
       "      <th>district_code_43</th>\n",
       "      <th>...</th>\n",
       "      <th>extraction_type_group_submersible</th>\n",
       "      <th>extraction_type_group_swn 80</th>\n",
       "      <th>extraction_type_group_wind-powered</th>\n",
       "      <th>management_group_other</th>\n",
       "      <th>management_group_parastatal</th>\n",
       "      <th>management_group_unknown</th>\n",
       "      <th>management_group_user-group</th>\n",
       "      <th>payment_type_monthly</th>\n",
       "      <th>payment_type_never pay</th>\n",
       "      <th>payment_type_on failure</th>\n",
       "      <th>payment_type_other</th>\n",
       "      <th>payment_type_per bucket</th>\n",
       "      <th>payment_type_unknown</th>\n",
       "      <th>water_quality_fluoride</th>\n",
       "      <th>water_quality_fluoride abandoned</th>\n",
       "      <th>water_quality_milky</th>\n",
       "      <th>water_quality_salty</th>\n",
       "      <th>water_quality_salty abandoned</th>\n",
       "      <th>water_quality_soft</th>\n",
       "      <th>water_quality_unknown</th>\n",
       "      <th>quantity_enough</th>\n",
       "      <th>quantity_insufficient</th>\n",
       "      <th>quantity_seasonal</th>\n",
       "      <th>quantity_unknown</th>\n",
       "      <th>source_hand dtw</th>\n",
       "      <th>source_lake</th>\n",
       "      <th>source_machine dbh</th>\n",
       "      <th>source_other</th>\n",
       "      <th>source_rainwater harvesting</th>\n",
       "      <th>source_river</th>\n",
       "      <th>source_shallow well</th>\n",
       "      <th>source_spring</th>\n",
       "      <th>source_unknown</th>\n",
       "      <th>waterpoint_type_communal standpipe</th>\n",
       "      <th>waterpoint_type_communal standpipe multiple</th>\n",
       "      <th>waterpoint_type_dam</th>\n",
       "      <th>waterpoint_type_hand pump</th>\n",
       "      <th>waterpoint_type_improved spring</th>\n",
       "      <th>waterpoint_type_other</th>\n",
       "      <th>status_group</th>\n",
       "    </tr>\n",
       "  </thead>\n",
       "  <tbody>\n",
       "    <tr>\n",
       "      <th>0</th>\n",
       "      <td>-0.307201</td>\n",
       "      <td>1.128274</td>\n",
       "      <td>-0.043918</td>\n",
       "      <td>-0.3194</td>\n",
       "      <td>-0.21972</td>\n",
       "      <td>-0.320661</td>\n",
       "      <td>-0.519521</td>\n",
       "      <td>2.288947</td>\n",
       "      <td>-0.304141</td>\n",
       "      <td>-0.246943</td>\n",
       "      <td>-0.340804</td>\n",
       "      <td>-0.129535</td>\n",
       "      <td>-0.243519</td>\n",
       "      <td>-0.214776</td>\n",
       "      <td>-0.300347</td>\n",
       "      <td>-0.119211</td>\n",
       "      <td>3.330214</td>\n",
       "      <td>-0.132809</td>\n",
       "      <td>-0.153581</td>\n",
       "      <td>-0.13852</td>\n",
       "      <td>-0.361566</td>\n",
       "      <td>-0.210511</td>\n",
       "      <td>-0.16572</td>\n",
       "      <td>-0.272163</td>\n",
       "      <td>-0.218389</td>\n",
       "      <td>-0.141112</td>\n",
       "      <td>-0.171551</td>\n",
       "      <td>-0.368866</td>\n",
       "      <td>-0.1788</td>\n",
       "      <td>-0.22604</td>\n",
       "      <td>-0.204681</td>\n",
       "      <td>-0.494994</td>\n",
       "      <td>-0.062984</td>\n",
       "      <td>-0.454757</td>\n",
       "      <td>-0.071457</td>\n",
       "      <td>-0.435588</td>\n",
       "      <td>-0.147936</td>\n",
       "      <td>-0.125637</td>\n",
       "      <td>2.372004</td>\n",
       "      <td>-0.070274</td>\n",
       "      <td>...</td>\n",
       "      <td>-0.34238</td>\n",
       "      <td>-0.232459</td>\n",
       "      <td>-0.04792</td>\n",
       "      <td>-0.122743</td>\n",
       "      <td>-0.174402</td>\n",
       "      <td>-0.10477</td>\n",
       "      <td>0.387451</td>\n",
       "      <td>-0.249956</td>\n",
       "      <td>0.971421</td>\n",
       "      <td>-0.253313</td>\n",
       "      <td>-0.139265</td>\n",
       "      <td>-0.459004</td>\n",
       "      <td>-0.435534</td>\n",
       "      <td>-0.059431</td>\n",
       "      <td>-0.019115</td>\n",
       "      <td>-0.136009</td>\n",
       "      <td>-0.292459</td>\n",
       "      <td>-0.081968</td>\n",
       "      <td>0.430343</td>\n",
       "      <td>-0.201936</td>\n",
       "      <td>0.916082</td>\n",
       "      <td>-0.563175</td>\n",
       "      <td>-0.282508</td>\n",
       "      <td>-0.125091</td>\n",
       "      <td>-0.113943</td>\n",
       "      <td>-0.112439</td>\n",
       "      <td>-0.474253</td>\n",
       "      <td>-0.064038</td>\n",
       "      <td>-0.200955</td>\n",
       "      <td>-0.385579</td>\n",
       "      <td>-0.670526</td>\n",
       "      <td>1.544245</td>\n",
       "      <td>-0.032614</td>\n",
       "      <td>1.057042</td>\n",
       "      <td>-0.320912</td>\n",
       "      <td>-0.008149</td>\n",
       "      <td>-0.647617</td>\n",
       "      <td>-0.121763</td>\n",
       "      <td>-0.374363</td>\n",
       "      <td>functional</td>\n",
       "    </tr>\n",
       "    <tr>\n",
       "      <th>1</th>\n",
       "      <td>-0.307201</td>\n",
       "      <td>-0.745757</td>\n",
       "      <td>-0.043918</td>\n",
       "      <td>-0.3194</td>\n",
       "      <td>-0.21972</td>\n",
       "      <td>-0.320661</td>\n",
       "      <td>1.924850</td>\n",
       "      <td>-0.436882</td>\n",
       "      <td>-0.304141</td>\n",
       "      <td>-0.246943</td>\n",
       "      <td>-0.340804</td>\n",
       "      <td>-0.129535</td>\n",
       "      <td>-0.243519</td>\n",
       "      <td>-0.214776</td>\n",
       "      <td>3.329485</td>\n",
       "      <td>-0.119211</td>\n",
       "      <td>-0.300281</td>\n",
       "      <td>-0.132809</td>\n",
       "      <td>-0.153581</td>\n",
       "      <td>-0.13852</td>\n",
       "      <td>-0.361566</td>\n",
       "      <td>-0.210511</td>\n",
       "      <td>-0.16572</td>\n",
       "      <td>-0.272163</td>\n",
       "      <td>-0.218389</td>\n",
       "      <td>-0.141112</td>\n",
       "      <td>-0.171551</td>\n",
       "      <td>-0.368866</td>\n",
       "      <td>-0.1788</td>\n",
       "      <td>-0.22604</td>\n",
       "      <td>-0.204681</td>\n",
       "      <td>-0.494994</td>\n",
       "      <td>-0.062984</td>\n",
       "      <td>2.198976</td>\n",
       "      <td>-0.071457</td>\n",
       "      <td>-0.435588</td>\n",
       "      <td>-0.147936</td>\n",
       "      <td>-0.125637</td>\n",
       "      <td>-0.421584</td>\n",
       "      <td>-0.070274</td>\n",
       "      <td>...</td>\n",
       "      <td>-0.34238</td>\n",
       "      <td>-0.232459</td>\n",
       "      <td>-0.04792</td>\n",
       "      <td>-0.122743</td>\n",
       "      <td>-0.174402</td>\n",
       "      <td>-0.10477</td>\n",
       "      <td>0.387451</td>\n",
       "      <td>-0.249956</td>\n",
       "      <td>0.971421</td>\n",
       "      <td>-0.253313</td>\n",
       "      <td>-0.139265</td>\n",
       "      <td>-0.459004</td>\n",
       "      <td>-0.435534</td>\n",
       "      <td>-0.059431</td>\n",
       "      <td>-0.019115</td>\n",
       "      <td>-0.136009</td>\n",
       "      <td>-0.292459</td>\n",
       "      <td>-0.081968</td>\n",
       "      <td>0.430343</td>\n",
       "      <td>-0.201936</td>\n",
       "      <td>-1.091605</td>\n",
       "      <td>-0.563175</td>\n",
       "      <td>3.539725</td>\n",
       "      <td>-0.125091</td>\n",
       "      <td>-0.113943</td>\n",
       "      <td>-0.112439</td>\n",
       "      <td>-0.474253</td>\n",
       "      <td>-0.064038</td>\n",
       "      <td>-0.200955</td>\n",
       "      <td>-0.385579</td>\n",
       "      <td>-0.670526</td>\n",
       "      <td>1.544245</td>\n",
       "      <td>-0.032614</td>\n",
       "      <td>-0.946037</td>\n",
       "      <td>-0.320912</td>\n",
       "      <td>-0.008149</td>\n",
       "      <td>-0.647617</td>\n",
       "      <td>8.212657</td>\n",
       "      <td>-0.374363</td>\n",
       "      <td>non functional</td>\n",
       "    </tr>\n",
       "  </tbody>\n",
       "</table>\n",
       "<p>2 rows × 111 columns</p>\n",
       "</div>"
      ],
      "text/plain": [
       "   amount_tsh  gps_height  ...  waterpoint_type_other    status_group\n",
       "0   -0.307201    1.128274  ...              -0.374363      functional\n",
       "1   -0.307201   -0.745757  ...              -0.374363  non functional\n",
       "\n",
       "[2 rows x 111 columns]"
      ]
     },
     "execution_count": 155,
     "metadata": {
      "tags": []
     },
     "output_type": "execute_result"
    }
   ],
   "source": [
    "processed_df_logreg.head(2)"
   ]
  },
  {
   "cell_type": "code",
   "execution_count": null,
   "metadata": {
    "colab": {
     "base_uri": "https://localhost:8080/",
     "height": 209
    },
    "id": "zW69FUijUVVn",
    "outputId": "cefef508-c751-4c17-e809-bd047953d81e"
   },
   "outputs": [
    {
     "data": {
      "text/html": [
       "<div>\n",
       "<style scoped>\n",
       "    .dataframe tbody tr th:only-of-type {\n",
       "        vertical-align: middle;\n",
       "    }\n",
       "\n",
       "    .dataframe tbody tr th {\n",
       "        vertical-align: top;\n",
       "    }\n",
       "\n",
       "    .dataframe thead th {\n",
       "        text-align: right;\n",
       "    }\n",
       "</style>\n",
       "<table border=\"1\" class=\"dataframe\">\n",
       "  <thead>\n",
       "    <tr style=\"text-align: right;\">\n",
       "      <th></th>\n",
       "      <th>amount_tsh</th>\n",
       "      <th>gps_height</th>\n",
       "      <th>num_private</th>\n",
       "      <th>basin_Lake Nyasa</th>\n",
       "      <th>basin_Lake Rukwa</th>\n",
       "      <th>basin_Lake Tanganyika</th>\n",
       "      <th>basin_Lake Victoria</th>\n",
       "      <th>basin_Pangani</th>\n",
       "      <th>basin_Rufiji</th>\n",
       "      <th>basin_Ruvuma / Southern Coast</th>\n",
       "      <th>basin_Wami / Ruvu</th>\n",
       "      <th>region_Dar es Salaam</th>\n",
       "      <th>region_Dodoma</th>\n",
       "      <th>region_Iringa</th>\n",
       "      <th>region_Kagera</th>\n",
       "      <th>region_Kigoma</th>\n",
       "      <th>region_Kilimanjaro</th>\n",
       "      <th>region_Lindi</th>\n",
       "      <th>region_Manyara</th>\n",
       "      <th>region_Mara</th>\n",
       "      <th>region_Mbeya</th>\n",
       "      <th>region_Morogoro</th>\n",
       "      <th>region_Mtwara</th>\n",
       "      <th>region_Mwanza</th>\n",
       "      <th>region_Pwani</th>\n",
       "      <th>region_Rukwa</th>\n",
       "      <th>region_Ruvuma</th>\n",
       "      <th>region_Shinyanga</th>\n",
       "      <th>region_Singida</th>\n",
       "      <th>region_Tabora</th>\n",
       "      <th>region_Tanga</th>\n",
       "      <th>district_code_1</th>\n",
       "      <th>district_code_13</th>\n",
       "      <th>district_code_2</th>\n",
       "      <th>district_code_23</th>\n",
       "      <th>district_code_3</th>\n",
       "      <th>district_code_30</th>\n",
       "      <th>district_code_33</th>\n",
       "      <th>district_code_4</th>\n",
       "      <th>district_code_43</th>\n",
       "      <th>...</th>\n",
       "      <th>extraction_type_group_submersible</th>\n",
       "      <th>extraction_type_group_swn 80</th>\n",
       "      <th>extraction_type_group_wind-powered</th>\n",
       "      <th>management_group_other</th>\n",
       "      <th>management_group_parastatal</th>\n",
       "      <th>management_group_unknown</th>\n",
       "      <th>management_group_user-group</th>\n",
       "      <th>payment_type_monthly</th>\n",
       "      <th>payment_type_never pay</th>\n",
       "      <th>payment_type_on failure</th>\n",
       "      <th>payment_type_other</th>\n",
       "      <th>payment_type_per bucket</th>\n",
       "      <th>payment_type_unknown</th>\n",
       "      <th>water_quality_fluoride</th>\n",
       "      <th>water_quality_fluoride abandoned</th>\n",
       "      <th>water_quality_milky</th>\n",
       "      <th>water_quality_salty</th>\n",
       "      <th>water_quality_salty abandoned</th>\n",
       "      <th>water_quality_soft</th>\n",
       "      <th>water_quality_unknown</th>\n",
       "      <th>quantity_enough</th>\n",
       "      <th>quantity_insufficient</th>\n",
       "      <th>quantity_seasonal</th>\n",
       "      <th>quantity_unknown</th>\n",
       "      <th>source_hand dtw</th>\n",
       "      <th>source_lake</th>\n",
       "      <th>source_machine dbh</th>\n",
       "      <th>source_other</th>\n",
       "      <th>source_rainwater harvesting</th>\n",
       "      <th>source_river</th>\n",
       "      <th>source_shallow well</th>\n",
       "      <th>source_spring</th>\n",
       "      <th>source_unknown</th>\n",
       "      <th>waterpoint_type_communal standpipe</th>\n",
       "      <th>waterpoint_type_communal standpipe multiple</th>\n",
       "      <th>waterpoint_type_dam</th>\n",
       "      <th>waterpoint_type_hand pump</th>\n",
       "      <th>waterpoint_type_improved spring</th>\n",
       "      <th>waterpoint_type_other</th>\n",
       "      <th>status_group</th>\n",
       "    </tr>\n",
       "  </thead>\n",
       "  <tbody>\n",
       "    <tr>\n",
       "      <th>0</th>\n",
       "      <td>-0.307201</td>\n",
       "      <td>-0.768372</td>\n",
       "      <td>-0.043918</td>\n",
       "      <td>-0.3194</td>\n",
       "      <td>-0.21972</td>\n",
       "      <td>-0.320661</td>\n",
       "      <td>-0.519521</td>\n",
       "      <td>2.288947</td>\n",
       "      <td>-0.304141</td>\n",
       "      <td>-0.246943</td>\n",
       "      <td>-0.340804</td>\n",
       "      <td>-0.129535</td>\n",
       "      <td>-0.243519</td>\n",
       "      <td>-0.214776</td>\n",
       "      <td>-0.300347</td>\n",
       "      <td>-0.119211</td>\n",
       "      <td>-0.300281</td>\n",
       "      <td>-0.132809</td>\n",
       "      <td>-0.153581</td>\n",
       "      <td>-0.13852</td>\n",
       "      <td>-0.361566</td>\n",
       "      <td>-0.210511</td>\n",
       "      <td>-0.16572</td>\n",
       "      <td>-0.272163</td>\n",
       "      <td>-0.218389</td>\n",
       "      <td>-0.141112</td>\n",
       "      <td>-0.171551</td>\n",
       "      <td>-0.368866</td>\n",
       "      <td>-0.1788</td>\n",
       "      <td>-0.22604</td>\n",
       "      <td>4.885645</td>\n",
       "      <td>-0.494994</td>\n",
       "      <td>-0.062984</td>\n",
       "      <td>-0.454757</td>\n",
       "      <td>-0.071457</td>\n",
       "      <td>-0.435588</td>\n",
       "      <td>-0.147936</td>\n",
       "      <td>-0.125637</td>\n",
       "      <td>-0.421584</td>\n",
       "      <td>-0.070274</td>\n",
       "      <td>...</td>\n",
       "      <td>2.920736</td>\n",
       "      <td>-0.232459</td>\n",
       "      <td>-0.04792</td>\n",
       "      <td>-0.122743</td>\n",
       "      <td>-0.174402</td>\n",
       "      <td>-0.10477</td>\n",
       "      <td>0.387451</td>\n",
       "      <td>-0.249956</td>\n",
       "      <td>0.971421</td>\n",
       "      <td>-0.253313</td>\n",
       "      <td>-0.139265</td>\n",
       "      <td>-0.459004</td>\n",
       "      <td>-0.435534</td>\n",
       "      <td>-0.059431</td>\n",
       "      <td>-0.019115</td>\n",
       "      <td>-0.136009</td>\n",
       "      <td>-0.292459</td>\n",
       "      <td>-0.081968</td>\n",
       "      <td>0.430343</td>\n",
       "      <td>-0.201936</td>\n",
       "      <td>-1.091605</td>\n",
       "      <td>1.775647</td>\n",
       "      <td>-0.282508</td>\n",
       "      <td>-0.125091</td>\n",
       "      <td>-0.113943</td>\n",
       "      <td>-0.112439</td>\n",
       "      <td>2.108581</td>\n",
       "      <td>-0.064038</td>\n",
       "      <td>-0.200955</td>\n",
       "      <td>-0.385579</td>\n",
       "      <td>-0.670526</td>\n",
       "      <td>-0.647566</td>\n",
       "      <td>-0.032614</td>\n",
       "      <td>-0.946037</td>\n",
       "      <td>-0.320912</td>\n",
       "      <td>-0.008149</td>\n",
       "      <td>-0.647617</td>\n",
       "      <td>-0.121763</td>\n",
       "      <td>2.671204</td>\n",
       "      <td>non functional</td>\n",
       "    </tr>\n",
       "    <tr>\n",
       "      <th>1</th>\n",
       "      <td>-0.307201</td>\n",
       "      <td>-0.745757</td>\n",
       "      <td>-0.043918</td>\n",
       "      <td>-0.3194</td>\n",
       "      <td>-0.21972</td>\n",
       "      <td>-0.320661</td>\n",
       "      <td>1.924850</td>\n",
       "      <td>-0.436882</td>\n",
       "      <td>-0.304141</td>\n",
       "      <td>-0.246943</td>\n",
       "      <td>-0.340804</td>\n",
       "      <td>-0.129535</td>\n",
       "      <td>-0.243519</td>\n",
       "      <td>-0.214776</td>\n",
       "      <td>-0.300347</td>\n",
       "      <td>-0.119211</td>\n",
       "      <td>-0.300281</td>\n",
       "      <td>-0.132809</td>\n",
       "      <td>-0.153581</td>\n",
       "      <td>-0.13852</td>\n",
       "      <td>-0.361566</td>\n",
       "      <td>-0.210511</td>\n",
       "      <td>-0.16572</td>\n",
       "      <td>-0.272163</td>\n",
       "      <td>-0.218389</td>\n",
       "      <td>-0.141112</td>\n",
       "      <td>-0.171551</td>\n",
       "      <td>2.711014</td>\n",
       "      <td>-0.1788</td>\n",
       "      <td>-0.22604</td>\n",
       "      <td>-0.204681</td>\n",
       "      <td>2.020228</td>\n",
       "      <td>-0.062984</td>\n",
       "      <td>-0.454757</td>\n",
       "      <td>-0.071457</td>\n",
       "      <td>-0.435588</td>\n",
       "      <td>-0.147936</td>\n",
       "      <td>-0.125637</td>\n",
       "      <td>-0.421584</td>\n",
       "      <td>-0.070274</td>\n",
       "      <td>...</td>\n",
       "      <td>-0.342380</td>\n",
       "      <td>-0.232459</td>\n",
       "      <td>-0.04792</td>\n",
       "      <td>-0.122743</td>\n",
       "      <td>-0.174402</td>\n",
       "      <td>-0.10477</td>\n",
       "      <td>0.387451</td>\n",
       "      <td>-0.249956</td>\n",
       "      <td>0.971421</td>\n",
       "      <td>-0.253313</td>\n",
       "      <td>-0.139265</td>\n",
       "      <td>-0.459004</td>\n",
       "      <td>-0.435534</td>\n",
       "      <td>-0.059431</td>\n",
       "      <td>-0.019115</td>\n",
       "      <td>-0.136009</td>\n",
       "      <td>-0.292459</td>\n",
       "      <td>-0.081968</td>\n",
       "      <td>0.430343</td>\n",
       "      <td>-0.201936</td>\n",
       "      <td>0.916082</td>\n",
       "      <td>-0.563175</td>\n",
       "      <td>-0.282508</td>\n",
       "      <td>-0.125091</td>\n",
       "      <td>-0.113943</td>\n",
       "      <td>-0.112439</td>\n",
       "      <td>-0.474253</td>\n",
       "      <td>-0.064038</td>\n",
       "      <td>-0.200955</td>\n",
       "      <td>-0.385579</td>\n",
       "      <td>1.491366</td>\n",
       "      <td>-0.647566</td>\n",
       "      <td>-0.032614</td>\n",
       "      <td>-0.946037</td>\n",
       "      <td>-0.320912</td>\n",
       "      <td>-0.008149</td>\n",
       "      <td>1.544122</td>\n",
       "      <td>-0.121763</td>\n",
       "      <td>-0.374363</td>\n",
       "      <td>functional needs repair</td>\n",
       "    </tr>\n",
       "  </tbody>\n",
       "</table>\n",
       "<p>2 rows × 111 columns</p>\n",
       "</div>"
      ],
      "text/plain": [
       "   amount_tsh  gps_height  ...  waterpoint_type_other             status_group\n",
       "0   -0.307201   -0.768372  ...               2.671204           non functional\n",
       "1   -0.307201   -0.745757  ...              -0.374363  functional needs repair\n",
       "\n",
       "[2 rows x 111 columns]"
      ]
     },
     "execution_count": 156,
     "metadata": {
      "tags": []
     },
     "output_type": "execute_result"
    }
   ],
   "source": [
    "processed_test_df_logreg.head(2)"
   ]
  },
  {
   "cell_type": "code",
   "execution_count": null,
   "metadata": {
    "colab": {
     "base_uri": "https://localhost:8080/"
    },
    "id": "SYgON3IJi_e7",
    "outputId": "a0a8ca19-5a5e-4995-aedf-d32a635e6d63"
   },
   "outputs": [
    {
     "data": {
      "text/plain": [
       "LogisticRegression(C=1.0, class_weight=None, dual=False, fit_intercept=True,\n",
       "                   intercept_scaling=1, l1_ratio=None, max_iter=100,\n",
       "                   multi_class='auto', n_jobs=None, penalty='l2',\n",
       "                   random_state=None, solver='liblinear', tol=0.0001, verbose=0,\n",
       "                   warm_start=False)"
      ]
     },
     "execution_count": 157,
     "metadata": {
      "tags": []
     },
     "output_type": "execute_result"
    }
   ],
   "source": [
    "from sklearn.linear_model import LogisticRegression\n",
    "\n",
    "X = processed_df_logreg.drop(columns=['status_group'], axis=1)\n",
    "y = processed_df_logreg['status_group']\n",
    " \n",
    "X_test = processed_test_df_logreg.drop(columns=['status_group'], axis=1)\n",
    "y_test = processed_test_df_logreg['status_group']\n",
    "\n",
    "logreg_default = LogisticRegression(fit_intercept=True, solver='liblinear')\n",
    "logreg_default.fit(X, y)\n",
    "\n",
    "# y_preds_logreg = logreg.predict(X_test_logreg_impute)"
   ]
  },
  {
   "cell_type": "code",
   "execution_count": null,
   "metadata": {
    "colab": {
     "base_uri": "https://localhost:8080/",
     "height": 455
    },
    "id": "c57QwKzTq0eI",
    "outputId": "c13abd60-9288-4119-f2ef-c571ff3b10e1"
   },
   "outputs": [
    {
     "name": "stdout",
     "output_type": "stream",
     "text": [
      "[[0.598351   0.29642717 0.10522183]\n",
      " [0.21091445 0.69764012 0.09144543]\n",
      " [0.21391753 0.16213683 0.62394564]]\n"
     ]
    },
    {
     "data": {
      "image/png": "[encoded data removed]",
      "text/plain": [
       "<Figure size 432x288 with 2 Axes>"
      ]
     },
     "metadata": {
      "needs_background": "light",
      "tags": []
     },
     "output_type": "display_data"
    }
   ],
   "source": [
    "# Import the plot_confusion_matrix and classification_report from sklearn.metrics\n",
    "from sklearn.metrics import plot_confusion_matrix\n",
    "from sklearn.metrics import classification_report\n",
    "\n",
    "disp = plot_confusion_matrix(logreg_default, X_test, y_test,\n",
    "                             cmap=plt.cm.Blues,\n",
    "                             normalize='true',\n",
    "                             xticks_rotation='vertical')\n",
    "disp.ax_.set_title('Logistic Regression Classifier')\n",
    "\n",
    "print(disp.confusion_matrix)\n"
   ]
  },
  {
   "cell_type": "markdown",
   "metadata": {
    "id": "D_4vcu32bLnE"
   },
   "source": [
    "We can see that the Logistic Regression didn't do that great a job classifying the data. The true positive rate for all three categories does not exceed 0.7\n",
    "\n",
    "Next we will take a look at the scores from the classification report and see what is going on."
   ]
  },
  {
   "cell_type": "code",
   "execution_count": null,
   "metadata": {
    "colab": {
     "base_uri": "https://localhost:8080/"
    },
    "id": "SZJvKDWvahYq",
    "outputId": "d464accf-ac3f-4252-a65a-d691717a2408"
   },
   "outputs": [
    {
     "name": "stdout",
     "output_type": "stream",
     "text": [
      "logreg_default\n",
      "Training Data\n",
      "                         precision    recall  f1-score   support\n",
      "\n",
      "             functional       0.60      0.60      0.60     15498\n",
      "functional needs repair       0.61      0.71      0.65     15498\n",
      "         non functional       0.76      0.63      0.69     15498\n",
      "\n",
      "               accuracy                           0.65     46494\n",
      "              macro avg       0.66      0.65      0.65     46494\n",
      "           weighted avg       0.66      0.65      0.65     46494\n",
      "\n",
      "\n",
      "\n",
      "Testing Data\n",
      "                         precision    recall  f1-score   support\n",
      "\n",
      "             functional       0.74      0.60      0.66      5094\n",
      "functional needs repair       0.18      0.70      0.28       678\n",
      "         non functional       0.82      0.62      0.71      4268\n",
      "\n",
      "               accuracy                           0.62     10040\n",
      "              macro avg       0.58      0.64      0.55     10040\n",
      "           weighted avg       0.74      0.62      0.66     10040\n",
      "\n"
     ]
    }
   ],
   "source": [
    "# Predicting using the model\n",
    "y_train_hat = logreg_default.predict(X)\n",
    "y_test_hat = logreg_default.predict(X_test)\n",
    "\n",
    "# Printing out the scores\n",
    "print('logreg_default')\n",
    "print('Training Data')\n",
    "print(classification_report(y, y_train_hat))\n",
    "print('\\n')\n",
    "print('Testing Data')\n",
    "print(classification_report(y_test, y_test_hat))"
   ]
  },
  {
   "cell_type": "markdown",
   "metadata": {
    "id": "ONluia5TF9b7"
   },
   "source": [
    "The f1-score for two of the categories actually increased for the testing data, but for the 'functional needs repair' category decreased by a lot. The overall 'accuracy' is only 0.61 which would make it just slightly better than random choice. The default LogisticRegression doesn't seem that promising so I will try changing the regularization parameter."
   ]
  },
  {
   "cell_type": "code",
   "execution_count": null,
   "metadata": {
    "id": "IAp060PgcRGt"
   },
   "outputs": [],
   "source": [
    "find_scores('LogisticRegression Default', y_test, y_test_hat)"
   ]
  },
  {
   "cell_type": "markdown",
   "metadata": {
    "id": "JUk7NPU_28Gp"
   },
   "source": [
    "Next I will be using the GridSearchCV to find the best regularization parameter."
   ]
  },
  {
   "cell_type": "code",
   "execution_count": null,
   "metadata": {
    "id": "TR2zri5B_cam"
   },
   "outputs": [],
   "source": [
    "# Import GridSearch CV\n",
    "from sklearn.model_selection import GridSearchCV\n"
   ]
  },
  {
   "cell_type": "code",
   "execution_count": null,
   "metadata": {
    "colab": {
     "base_uri": "https://localhost:8080/"
    },
    "id": "Q1loJZhXdKKZ",
    "outputId": "2ca5e710-47a5-45a6-fff4-56bfb852c417"
   },
   "outputs": [
    {
     "name": "stdout",
     "output_type": "stream",
     "text": [
      "Best Parameters: {'C': 1000000}\n"
     ]
    }
   ],
   "source": [
    "\n",
    "# Set the grid for the GridSearchCV\n",
    "# To save computing time I will comment out the parameters, just write the optimal ones\n",
    "grid = [{'C': [1, 1000000, 1e16]}]\n",
    "\n",
    "\n",
    "## Instantiate GridSearchCV\n",
    "# logreg_gs = GridSearchCV(estimator=logreg_default, \n",
    "#                           param_grid=grid, \n",
    "#                           scoring='accuracy', \n",
    "#                           cv=5)\n",
    "\n",
    "logreg_gs = LogisticRegression(fit_intercept=True, solver='liblinear', C= 1000000)\n",
    "# Fitting The Data\n",
    "logreg_gs.fit(X, y)\n",
    "\n",
    "# Show the best parameters\n",
    "#print(f\"Best Parameters: {logreg_gs.best_params_}\")\n",
    "print(\"Best Parameters: {'C': 1000000}\")"
   ]
  },
  {
   "cell_type": "markdown",
   "metadata": {
    "id": "KQZqIsy26Fla"
   },
   "source": [
    "GridSearchCV showed that the optimal parameter is C = 1000000 which is diffrent from the default of value of 1. Next I will take a look at the Confusion Matrix and the Classification Report to see how the performance change."
   ]
  },
  {
   "cell_type": "code",
   "execution_count": null,
   "metadata": {
    "colab": {
     "base_uri": "https://localhost:8080/",
     "height": 910
    },
    "id": "wEEQMdXJ6aCw",
    "outputId": "89a6f423-a80f-4256-a741-03016ac05588"
   },
   "outputs": [
    {
     "name": "stdout",
     "output_type": "stream",
     "text": [
      "[[0.59854731 0.29623086 0.10522183]\n",
      " [0.21238938 0.69616519 0.09144543]\n",
      " [0.21415183 0.16213683 0.62371134]]\n",
      "LogisticRegression GridSearch\n",
      "Training Data\n",
      "                         precision    recall  f1-score   support\n",
      "\n",
      "             functional       0.60      0.60      0.60     15498\n",
      "functional needs repair       0.61      0.71      0.65     15498\n",
      "         non functional       0.76      0.63      0.69     15498\n",
      "\n",
      "               accuracy                           0.65     46494\n",
      "              macro avg       0.66      0.65      0.65     46494\n",
      "           weighted avg       0.66      0.65      0.65     46494\n",
      "\n",
      "\n",
      "\n",
      "Testing Data\n",
      "                         precision    recall  f1-score   support\n",
      "\n",
      "             functional       0.74      0.60      0.66      5094\n",
      "functional needs repair       0.18      0.70      0.28       678\n",
      "         non functional       0.82      0.62      0.71      4268\n",
      "\n",
      "               accuracy                           0.62     10040\n",
      "              macro avg       0.58      0.64      0.55     10040\n",
      "           weighted avg       0.74      0.62      0.66     10040\n",
      "\n"
     ]
    },
    {
     "data": {
      "image/png": "[encoded data removed]",
      "text/plain": [
       "<Figure size 432x288 with 2 Axes>"
      ]
     },
     "metadata": {
      "needs_background": "light",
      "tags": []
     },
     "output_type": "display_data"
    }
   ],
   "source": [
    "disp = plot_confusion_matrix(logreg_gs, X_test, y_test,\n",
    "                             cmap=plt.cm.Blues,\n",
    "                             normalize='true',\n",
    "                             xticks_rotation='vertical')\n",
    "disp.ax_.set_title('Logistic Regression GridSearch Classifier')\n",
    "\n",
    "print(disp.confusion_matrix)\n",
    "\n",
    "# Predicting using the model\n",
    "y_train_hat = logreg_gs.predict(X)\n",
    "y_test_hat = logreg_gs.predict(X_test)\n",
    "\n",
    "# Printing out the scores\n",
    "print('LogisticRegression GridSearch')\n",
    "print('Training Data')\n",
    "print(classification_report(y, y_train_hat))\n",
    "print('\\n')\n",
    "print('Testing Data')\n",
    "print(classification_report(y_test, y_test_hat))\n",
    "\n",
    "\n",
    "# Update the scores dataframe\n",
    "find_scores('LogisticRegression GridSearch', y_test, y_test_hat)"
   ]
  },
  {
   "cell_type": "markdown",
   "metadata": {
    "id": "cqnfvm9f85lG"
   },
   "source": [
    "The gridsearch changed the parameter for c from 1 to 1000000 but the results for the Confusion Matrix and the scoring metrics hardly changed at all. The f1-score for the 'functional needs repair' category again drop by alot for the testing dataset. I will have to compare the score to those of other models, but Logistic Regression doesn't seem to be the answer.\n",
    "\n",
    "The next classifier that I will be using is K-nearest neighbour. A version of which we already used to fill in the missing values in our datasets."
   ]
  },
  {
   "cell_type": "markdown",
   "metadata": {
    "id": "Kboj00YTNyVL"
   },
   "source": [
    "# K-Nearest Neighbors Classifier\n",
    "\n",
    "I will be using GridSearchCV to find the optimal n_neighbors and leaf_size."
   ]
  },
  {
   "cell_type": "code",
   "execution_count": null,
   "metadata": {
    "colab": {
     "base_uri": "https://localhost:8080/"
    },
    "id": "Eb7AXedsN2Pl",
    "outputId": "ad6cb9d0-ebd7-4945-b234-962cacd5d935"
   },
   "outputs": [
    {
     "name": "stdout",
     "output_type": "stream",
     "text": [
      "Best Parameters: {'leaf_size': 20, 'n_neighbors': 3}\n"
     ]
    }
   ],
   "source": [
    "from sklearn.neighbors import KNeighborsClassifier\n",
    "\n",
    "#The dataframes we will be using from now on.\n",
    "# processed_df\n",
    "# processed_test_df\n",
    "\n",
    "X = processed_df.drop(columns=['status_group'], axis=1)\n",
    "y = processed_df['status_group']\n",
    "\n",
    "X_test = processed_test_df.drop(columns=['status_group'], axis=1)\n",
    "y_test = processed_test_df['status_group']\n",
    "\n",
    "# Set the grid for the GridSearchCV\n",
    "# grid = [{'leaf_size': [20, 30, 40], \n",
    "#          'n_neighbors': [3, 5, 7]}]\n",
    "\n",
    "\n",
    "## Instantiate KNeighborsClassifier\n",
    "# clf = KNeighborsClassifier()\n",
    "\n",
    "## Instantiate GridSearchCV\n",
    "# KNN_gs = GridSearchCV(estimator=clf, \n",
    "#                           param_grid=grid, \n",
    "#                           scoring='accuracy', \n",
    "#                           cv=5)\n",
    "\n",
    "\n",
    "# To save computational time I will use a use the normal classifier using the parameters found using GridSearchCV\n",
    "KNN_gs = KNeighborsClassifier(leaf_size= 20, n_neighbors= 3)\n",
    "## Fitting The Data\n",
    "KNN_gs.fit(X, y)\n",
    "\n",
    "# Show the best parameters\n",
    "# print(f\"Best Parameters: {KNN_gs.best_params_}\")\n",
    "print(\"Best Parameters: {'leaf_size': 20, 'n_neighbors': 3}\")"
   ]
  },
  {
   "cell_type": "markdown",
   "metadata": {
    "id": "3Zyg-LO4fzRc"
   },
   "source": [
    "GridSearchCV has shown the best parameters are 20 for leaf_size and 3 for n_neighbors. Next I will take a look at the confusion matrix and classification reports to see how the model performs."
   ]
  },
  {
   "cell_type": "code",
   "execution_count": null,
   "metadata": {
    "id": "44bIzJb2W0Sz"
   },
   "outputs": [],
   "source": [
    "# Predicting using the model\n",
    "y_train_hat = KNN_gs.predict(X)\n",
    "y_test_hat = KNN_gs.predict(X_test)\n",
    "\n",
    "\n",
    "\n",
    "# Update the scores dataframe\n",
    "find_scores('K-Nearest Neighbor GS', y_test, y_test_hat)"
   ]
  },
  {
   "cell_type": "code",
   "execution_count": null,
   "metadata": {
    "colab": {
     "base_uri": "https://localhost:8080/",
     "height": 910
    },
    "id": "sxGo4JORV7uH",
    "outputId": "e075555d-e34b-4a5f-c6b8-22aa5eb6d3c7"
   },
   "outputs": [
    {
     "name": "stdout",
     "output_type": "stream",
     "text": [
      "[[0.78229289 0.07126031 0.1464468 ]\n",
      " [0.44985251 0.37905605 0.17109145]\n",
      " [0.21743205 0.0522493  0.73031865]]\n",
      "K-Nearest Neighbors GridSearch Classifier\n",
      "Training Data\n",
      "                         precision    recall  f1-score   support\n",
      "\n",
      "             functional       0.72      0.86      0.78     15498\n",
      "functional needs repair       0.91      0.73      0.81     15498\n",
      "         non functional       0.84      0.84      0.84     15498\n",
      "\n",
      "               accuracy                           0.81     46494\n",
      "              macro avg       0.82      0.81      0.81     46494\n",
      "           weighted avg       0.82      0.81      0.81     46494\n",
      "\n",
      "\n",
      "\n",
      "Testing Data\n",
      "                         precision    recall  f1-score   support\n",
      "\n",
      "             functional       0.76      0.78      0.77      5094\n",
      "functional needs repair       0.30      0.38      0.34       678\n",
      "         non functional       0.78      0.73      0.76      4268\n",
      "\n",
      "               accuracy                           0.73     10040\n",
      "              macro avg       0.62      0.63      0.62     10040\n",
      "           weighted avg       0.74      0.73      0.74     10040\n",
      "\n"
     ]
    },
    {
     "data": {
      "image/png": "[encoded data removed]",
      "text/plain": [
       "<Figure size 432x288 with 2 Axes>"
      ]
     },
     "metadata": {
      "needs_background": "light",
      "tags": []
     },
     "output_type": "display_data"
    }
   ],
   "source": [
    "disp = plot_confusion_matrix(KNN_gs, X_test, y_test,\n",
    "                             cmap=plt.cm.Blues,\n",
    "                             normalize='true',\n",
    "                             xticks_rotation='vertical')\n",
    "disp.ax_.set_title('K-Nearest Neighbors GridSearch Classifier')\n",
    "\n",
    "print(disp.confusion_matrix)\n",
    "\n",
    "\n",
    "# Printing out the scores\n",
    "print('K-Nearest Neighbors GridSearch Classifier')\n",
    "print('Training Data')\n",
    "print(classification_report(y, y_train_hat))\n",
    "print('\\n')\n",
    "print('Testing Data')\n",
    "print(classification_report(y_test, y_test_hat))\n"
   ]
  },
  {
   "cell_type": "markdown",
   "metadata": {
    "id": "uqGQ0H0xUoZ-"
   },
   "source": [
    "The K-Nearest Neighbors performs better than Logistic Regression for all three categories. The performance metrics for the test data is  worse than it is for the training data, especially for the 'functional needs repair' category. This perhaps hints at overfitting. If the f-1 score for the 'functional needs repairs' category is low for all models, I would need to pay more attention to the recall score of this category which I believe is a little more imporant than the precision score is for our purpose. This model seems to be extremely flaw and not ideal."
   ]
  },
  {
   "cell_type": "markdown",
   "metadata": {
    "id": "IgCYFESm8WIg"
   },
   "source": [
    "# Decision Tree Classifier\n",
    "The next model we will be taking a look is a single Decision Tree Classifier. I will be performing a grid search for criterion, max_depth, min_samples_split and also min_samples_leaf."
   ]
  },
  {
   "cell_type": "code",
   "execution_count": null,
   "metadata": {
    "colab": {
     "base_uri": "https://localhost:8080/"
    },
    "id": "Q2I9ztdjbyBT",
    "outputId": "0f59a278-ed32-4ff1-8fd4-6b0bfbe83525"
   },
   "outputs": [
    {
     "name": "stdout",
     "output_type": "stream",
     "text": [
      "Best Parameters: {'criterion': 'gini', 'max_depth': None, 'min_samples_leaf': 3, 'min_samples_split': 5}\n"
     ]
    }
   ],
   "source": [
    "from sklearn import tree\n",
    "\n",
    "X = processed_df.drop(columns=['status_group'], axis=1)\n",
    "y = processed_df['status_group']\n",
    "\n",
    "X_test = processed_test_df.drop(columns=['status_group'], axis=1)\n",
    "y_test = processed_test_df['status_group']\n",
    "\n",
    "# Set the grid for the GridSearchCV\n",
    "dt_param_grid = {\n",
    "    'criterion': ['gini', 'entropy'],\n",
    "    'max_depth': [None, 2, 6, 10],\n",
    "    'min_samples_split': [5, 10],\n",
    "    'min_samples_leaf': [3, 6]\n",
    "}\n",
    "\n",
    "\n",
    "# Instantiate DecisionTreeClassifier\n",
    "# dt_clf = tree.DecisionTreeClassifier(random_state=21)  \n",
    "\n",
    "# Instantiate GridSearchCV\n",
    "# dt_clf_gs = GridSearchCV(estimator=dt_clf, \n",
    "#                           param_grid=dt_param_grid, \n",
    "#                           scoring='accuracy', \n",
    "#                           cv=5)\n",
    "\n",
    "# To save computational time I will use a use the normal classifier using the parameters found using GridSearchCV\n",
    "dt_clf_gs = tree.DecisionTreeClassifier(criterion='gini', max_depth=None, min_samples_leaf=3, min_samples_split=5)\n",
    "\n",
    "# Fitting The Data\n",
    "dt_clf_gs.fit(X, y)\n",
    "\n",
    "# Show the best parameters\n",
    "# print(f\"Best Parameters: {dt_clf_gs.best_params_}\")\n",
    "print(\"Best Parameters: {'criterion': 'gini', 'max_depth': None, 'min_samples_leaf': 3, 'min_samples_split': 5}\")"
   ]
  },
  {
   "cell_type": "code",
   "execution_count": null,
   "metadata": {
    "colab": {
     "base_uri": "https://localhost:8080/",
     "height": 910
    },
    "id": "9gd3h4hX82-d",
    "outputId": "4bb1bfea-247a-4b4e-aeb1-53c10e478ea5"
   },
   "outputs": [
    {
     "name": "stdout",
     "output_type": "stream",
     "text": [
      "[[0.75638005 0.11621516 0.12740479]\n",
      " [0.34218289 0.53097345 0.12684366]\n",
      " [0.19517338 0.07755389 0.72727273]]\n",
      "Decision Tree GridSearch Classifier\n",
      "Training Data\n",
      "                         precision    recall  f1-score   support\n",
      "\n",
      "             functional       0.83      0.84      0.84     15498\n",
      "functional needs repair       0.86      0.92      0.89     15498\n",
      "         non functional       0.90      0.83      0.87     15498\n",
      "\n",
      "               accuracy                           0.86     46494\n",
      "              macro avg       0.86      0.86      0.86     46494\n",
      "           weighted avg       0.86      0.86      0.86     46494\n",
      "\n",
      "\n",
      "\n",
      "Testing Data\n",
      "                         precision    recall  f1-score   support\n",
      "\n",
      "             functional       0.78      0.76      0.77      5094\n",
      "functional needs repair       0.28      0.53      0.37       678\n",
      "         non functional       0.81      0.73      0.77      4268\n",
      "\n",
      "               accuracy                           0.73     10040\n",
      "              macro avg       0.62      0.67      0.63     10040\n",
      "           weighted avg       0.76      0.73      0.74     10040\n",
      "\n"
     ]
    },
    {
     "data": {
      "image/png": "[encoded data removed]",
      "text/plain": [
       "<Figure size 432x288 with 2 Axes>"
      ]
     },
     "metadata": {
      "needs_background": "light",
      "tags": []
     },
     "output_type": "display_data"
    }
   ],
   "source": [
    "disp = plot_confusion_matrix(dt_clf_gs, X_test, y_test,\n",
    "                             cmap=plt.cm.Blues,\n",
    "                             normalize='true',\n",
    "                             xticks_rotation='vertical')\n",
    "disp.ax_.set_title('Decision Tree GridSearch Classifier')\n",
    "\n",
    "print(disp.confusion_matrix)\n",
    "\n",
    "# Predicting using the model\n",
    "y_train_hat = dt_clf_gs.predict(X)\n",
    "y_test_hat = dt_clf_gs.predict(X_test)\n",
    "\n",
    "# Printing out the scores\n",
    "print('Decision Tree GridSearch Classifier')\n",
    "print('Training Data')\n",
    "print(classification_report(y, y_train_hat))\n",
    "print('\\n')\n",
    "print('Testing Data')\n",
    "print(classification_report(y_test, y_test_hat))\n",
    "\n",
    "\n",
    "# Update the scores dataframe\n",
    "find_scores('Decision Tree Classifier GS', y_test, y_test_hat)"
   ]
  },
  {
   "cell_type": "markdown",
   "metadata": {
    "id": "PV264Sa8gsro"
   },
   "source": [
    "Once again the model does a poor job of predicting the 'functional needs repair' category. The accuracy for the test data set is only 0.73 compared to 0.86 of the training data set showing there might be overfitting. The f1-score is also much worse in the test data set for all categories, especially for 'functional needs repair' category. The scores are nearly identical with those of K-nearest Neighbours. The recall score which I believe to be more important for our purpose in identifying water points that need repairs is larger in this the model than in the previous ones.\n"
   ]
  },
  {
   "cell_type": "markdown",
   "metadata": {
    "id": "T_Z7JngEgtZI"
   },
   "source": [
    "# Random Forest Classifier\n",
    "The next model we will testing is Random Forest, an ensemble method classifier. I am hoping that esemble methods perform better than the previous models.\n",
    "\n",
    "Again I will use GridSearchCV to search for the best parameters. This time I will take a look at five diffrent parameters in the GridSearchCV."
   ]
  },
  {
   "cell_type": "code",
   "execution_count": null,
   "metadata": {
    "colab": {
     "base_uri": "https://localhost:8080/"
    },
    "id": "m396B0H3gvvn",
    "outputId": "eb1e127e-d339-4c2b-c3f9-a5a2426ea63a"
   },
   "outputs": [
    {
     "name": "stdout",
     "output_type": "stream",
     "text": [
      "Best Parameters: {'criterion': 'entropy', 'max_depth': None, 'min_samples_leaf': 1, 'min_samples_split': 10, 'n_estimators': 100}\n"
     ]
    }
   ],
   "source": [
    "from sklearn.ensemble import RandomForestClassifier\n",
    "\n",
    "X = processed_df.drop(columns=['status_group'], axis=1)\n",
    "y = processed_df['status_group']\n",
    "\n",
    "X_test = processed_test_df.drop(columns=['status_group'], axis=1)\n",
    "y_test = processed_test_df['status_group']\n",
    "\n",
    "# Set the grid for the GridSearchCV\n",
    "rf_param_grid = {\n",
    "    'n_estimators': [30, 100],\n",
    "    'criterion': ['gini', 'entropy'],\n",
    "    'max_depth': [6, None],\n",
    "    'min_samples_split': [2, 5, 10],\n",
    "    'min_samples_leaf': [1, 3, 6]\n",
    "}\n",
    "\n",
    "\n",
    "# Instantiate RandomForestClassifier\n",
    "# rf_clf = RandomForestClassifier(random_state=21)  \n",
    "\n",
    "# Instantiate GridSearchCV\n",
    "# rf_clf_gs = GridSearchCV(estimator=rf_clf, \n",
    "#                           param_grid=rf_param_grid, \n",
    "#                           scoring='accuracy', \n",
    "#                           cv=5)\n",
    "\n",
    "# To save computational time I will use a use the normal classifier using the parameters found using GridSearchCV\n",
    "rf_clf_gs = RandomForestClassifier(criterion='entropy', max_depth=None, min_samples_leaf=1, min_samples_split=10, n_estimators=100)\n",
    "\n",
    "# Fitting The Data\n",
    "rf_clf_gs.fit(X, y)\n",
    "\n",
    "# Show the best parameters\n",
    "# print(f\"Best Parameters: {rf_clf_gs.best_params_}\")\n",
    "print(\"Best Parameters: {'criterion': 'entropy', 'max_depth': None, 'min_samples_leaf': 1, 'min_samples_split': 10, 'n_estimators': 100}\")"
   ]
  },
  {
   "cell_type": "code",
   "execution_count": null,
   "metadata": {
    "colab": {
     "base_uri": "https://localhost:8080/",
     "height": 910
    },
    "id": "Aow5c69nhQUA",
    "outputId": "e2f0425d-de7d-4e39-f145-2d81f0457b60"
   },
   "outputs": [
    {
     "name": "stdout",
     "output_type": "stream",
     "text": [
      "[[0.77247742 0.11385944 0.11366313]\n",
      " [0.33923304 0.53244838 0.12831858]\n",
      " [0.1843955  0.06747891 0.74812559]]\n",
      "Random Forest GridSearch Classifier\n",
      "Training Data\n",
      "                         precision    recall  f1-score   support\n",
      "\n",
      "             functional       0.85      0.85      0.85     15498\n",
      "functional needs repair       0.87      0.93      0.90     15498\n",
      "         non functional       0.91      0.85      0.88     15498\n",
      "\n",
      "               accuracy                           0.88     46494\n",
      "              macro avg       0.88      0.88      0.88     46494\n",
      "           weighted avg       0.88      0.88      0.88     46494\n",
      "\n",
      "\n",
      "\n",
      "Testing Data\n",
      "                         precision    recall  f1-score   support\n",
      "\n",
      "             functional       0.79      0.77      0.78      5094\n",
      "functional needs repair       0.29      0.53      0.38       678\n",
      "         non functional       0.83      0.75      0.79      4268\n",
      "\n",
      "               accuracy                           0.75     10040\n",
      "              macro avg       0.64      0.68      0.65     10040\n",
      "           weighted avg       0.77      0.75      0.76     10040\n",
      "\n"
     ]
    },
    {
     "data": {
      "image/png": "[encoded data removed]",
      "text/plain": [
       "<Figure size 432x288 with 2 Axes>"
      ]
     },
     "metadata": {
      "needs_background": "light",
      "tags": []
     },
     "output_type": "display_data"
    }
   ],
   "source": [
    "disp = plot_confusion_matrix(rf_clf_gs, X_test, y_test,\n",
    "                             cmap=plt.cm.Blues,\n",
    "                             normalize='true',\n",
    "                             xticks_rotation='vertical')\n",
    "disp.ax_.set_title('Random Forest GridSearch Classifier')\n",
    "\n",
    "print(disp.confusion_matrix)\n",
    "\n",
    "# Predicting using the model\n",
    "y_train_hat = rf_clf_gs.predict(X)\n",
    "y_test_hat = rf_clf_gs.predict(X_test)\n",
    "\n",
    "# Printing out the scores\n",
    "print('Random Forest GridSearch Classifier')\n",
    "print('Training Data')\n",
    "print(classification_report(y, y_train_hat))\n",
    "print('\\n')\n",
    "print('Testing Data')\n",
    "print(classification_report(y_test, y_test_hat))\n",
    "\n",
    "\n",
    "# Update the scores dataframe\n",
    "find_scores('Random Forest Classifier GS', y_test, y_test_hat)"
   ]
  },
  {
   "cell_type": "markdown",
   "metadata": {
    "id": "fcDabj9FCnv5"
   },
   "source": [
    "The Random Forest Classifier did a slightly better job identifying funtional and non functional categories than the other classifiers but still struggle with identifying functional needs repair category.\n",
    "\n",
    "The f-1 scores for the test dataset is lower than the training dataset but still  decent, expect for the functional needs repair category. The accuracy also decrease by quiet a lot when comparing between the training and testing datasets but is not that bad at 0.75."
   ]
  },
  {
   "cell_type": "markdown",
   "metadata": {
    "id": "EmrSEwoPdeg3"
   },
   "source": [
    "# XGBoost (eXtreme Gradient Boosting)"
   ]
  },
  {
   "cell_type": "markdown",
   "metadata": {
    "id": "f20c675GJWM-"
   },
   "source": [
    "The next classifier I will take a look at is XGBoost and I will be searching out the best values for 5 diffrent parameters."
   ]
  },
  {
   "cell_type": "code",
   "execution_count": null,
   "metadata": {
    "colab": {
     "base_uri": "https://localhost:8080/"
    },
    "id": "lcNIEAPYpWlA",
    "outputId": "c5cdf902-91eb-4e55-8c4b-14feff4d25e6"
   },
   "outputs": [
    {
     "name": "stdout",
     "output_type": "stream",
     "text": [
      "Best Parameters: {'learning_rate': 0.3, 'max_depth': 6, 'min_child_weight': 1, 'n_estimators': 250, 'subsample': 0.7}\n"
     ]
    }
   ],
   "source": [
    "import xgboost as xgb\n",
    "\n",
    "X = processed_df.drop(columns=['status_group'], axis=1)\n",
    "y = processed_df['status_group']\n",
    "\n",
    "X_test = processed_test_df.drop(columns=['status_group'], axis=1)\n",
    "y_test = processed_test_df['status_group']\n",
    "\n",
    "# Set the grid for the GridSearchCV\n",
    "xgb_param_grid = {\n",
    "    \"learning_rate\": [0.1, 0.3],\n",
    "    'max_depth': [6],\n",
    "    'min_child_weight': [1, 10],\n",
    "    'subsample': [ 0.7, 1],\n",
    "    'n_estimators': [30, 100, 250],\n",
    "}\n",
    "\n",
    "# Instantiate XGBoost\n",
    "# xgb_clf = xgb.XGBClassifier()\n",
    "# Instantiate GridSearchCV\n",
    "# xgb_clf_gs = GridSearchCV(xgb_clf, xgb_param_grid, scoring='accuracy', cv=None, n_jobs=1)\n",
    "\n",
    "\n",
    "# To save computational time I will use a use the normal classifier using the parameters found using GridSearchCV\n",
    "xgb_clf_gs = xgb.XGBClassifier(learning_rate=0.3, max_depth=6, min_child_weight=1, n_estimators=250, subsample=0.7)\n",
    "\n",
    "# # Fitting The Data\n",
    "xgb_clf_gs.fit(X, y)\n",
    "\n",
    "# Show the best parameters\n",
    "# print(f\"Best Parameters: {xgb_clf_gs.best_params_}\")\n",
    "print(\"Best Parameters: {'learning_rate': 0.3, 'max_depth': 6, 'min_child_weight': 1, 'n_estimators': 250, 'subsample': 0.7}\")"
   ]
  },
  {
   "cell_type": "markdown",
   "metadata": {
    "id": "_HP37up4a-9u"
   },
   "source": [
    "Using GridSearchCV, I managed to find the best parameters out of the ones that I passed into it. The best values for 'learning_rate', 'max_depth' and 'min_child_weight' are all found to be the default values. 'n_estimators' is found to be 250 and 'subsample' as 0.7.\n",
    "\n",
    "Now I will take a look at the confusion matrix and the classification report to see how the model performs."
   ]
  },
  {
   "cell_type": "code",
   "execution_count": null,
   "metadata": {
    "colab": {
     "base_uri": "https://localhost:8080/",
     "height": 910
    },
    "id": "2Qr-ctDPGA6F",
    "outputId": "409f3af9-ddb2-4753-a06c-babf8f41e4ee"
   },
   "outputs": [
    {
     "name": "stdout",
     "output_type": "stream",
     "text": [
      "[[0.77934825 0.11268159 0.10797016]\n",
      " [0.32890855 0.55014749 0.12094395]\n",
      " [0.1843955  0.06911903 0.74648547]]\n",
      "XGBoost GridSearch Classifier\n",
      "Training Data\n",
      "                         precision    recall  f1-score   support\n",
      "\n",
      "             functional       0.83      0.84      0.83     15498\n",
      "functional needs repair       0.86      0.92      0.89     15498\n",
      "         non functional       0.90      0.83      0.87     15498\n",
      "\n",
      "               accuracy                           0.86     46494\n",
      "              macro avg       0.86      0.86      0.86     46494\n",
      "           weighted avg       0.86      0.86      0.86     46494\n",
      "\n",
      "\n",
      "\n",
      "Testing Data\n",
      "                         precision    recall  f1-score   support\n",
      "\n",
      "             functional       0.80      0.78      0.79      5094\n",
      "functional needs repair       0.30      0.55      0.39       678\n",
      "         non functional       0.83      0.75      0.79      4268\n",
      "\n",
      "               accuracy                           0.75     10040\n",
      "              macro avg       0.64      0.69      0.65     10040\n",
      "           weighted avg       0.78      0.75      0.76     10040\n",
      "\n"
     ]
    },
    {
     "data": {
      "image/png": "[encoded data removed]",
      "text/plain": [
       "<Figure size 432x288 with 2 Axes>"
      ]
     },
     "metadata": {
      "needs_background": "light",
      "tags": []
     },
     "output_type": "display_data"
    }
   ],
   "source": [
    "disp = plot_confusion_matrix(xgb_clf_gs, X_test, y_test,\n",
    "                             cmap=plt.cm.Blues,\n",
    "                             normalize='true',\n",
    "                             xticks_rotation='vertical')\n",
    "disp.ax_.set_title('XGBoost GridSearch Classifier')\n",
    "\n",
    "print(disp.confusion_matrix)\n",
    "\n",
    "# Predicting using the model\n",
    "y_train_hat = xgb_clf_gs.predict(X)\n",
    "y_test_hat = xgb_clf_gs.predict(X_test)\n",
    "\n",
    "# Printing out the scores\n",
    "print('XGBoost GridSearch Classifier')\n",
    "print('Training Data')\n",
    "print(classification_report(y, y_train_hat))\n",
    "print('\\n')\n",
    "print('Testing Data')\n",
    "print(classification_report(y_test, y_test_hat))\n",
    "\n",
    "\n",
    "# Update the scores dataframe\n",
    "find_scores('XGBoost Classifier GS', y_test, y_test_hat)"
   ]
  },
  {
   "cell_type": "markdown",
   "metadata": {
    "id": "xB53msIP6pO6"
   },
   "source": [
    "The confusion matrix for XGBoost seems similar to RandomForest Classifier. The accuracy and weighted f1-score is nearly identical to those of RandomForest Classifier also."
   ]
  },
  {
   "cell_type": "markdown",
   "metadata": {
    "id": "scfbleHFobB9"
   },
   "source": [
    "# SVM (Support Vector Machines)\n",
    "\n",
    "The next classifier is SVM and I will taking a look at C and gamma parameters."
   ]
  },
  {
   "cell_type": "code",
   "execution_count": null,
   "metadata": {
    "colab": {
     "base_uri": "https://localhost:8080/"
    },
    "id": "CpgIB-cKGBFq",
    "outputId": "aca49771-374b-4057-dc6f-8fd1845bda60"
   },
   "outputs": [
    {
     "name": "stdout",
     "output_type": "stream",
     "text": [
      "Best Parameters: {'C': 10, 'gamma': 0.01}\n"
     ]
    }
   ],
   "source": [
    "from sklearn import svm\n",
    "\n",
    "X = processed_df.drop(columns=['status_group'], axis=1)\n",
    "y = processed_df['status_group']\n",
    "\n",
    "# Set the grid for the GridSearchCV\n",
    "svm_param_grid = {'C': [0.01, 0.1, 1, 10],\n",
    "              'gamma' : [0.01, 1, 'scale']}\n",
    "\n",
    "# Instantiate SVM\n",
    "# svm_clf = svm.SVC(kernel='rbf')   \n",
    "\n",
    "# Instantiate GridSearchCV\n",
    "# svm_gs = GridSearchCV(svm_clf, svm_param_grid, scoring='accuracy', cv=3)\n",
    "\n",
    "# To save computational time I will use a use the normal classifier using the parameters found using GridSearchCV\n",
    "svm_gs = svm.SVC(kernel='rbf', C=10, gamma=0.01)   \n",
    "# Fitting The Data\n",
    "svm_gs.fit(X, y)\n",
    "\n",
    "# Show the best parameters\n",
    "# print(f\"Best Parameters: {svm_gs.best_params_}\")\n",
    "print(\"Best Parameters: {'C': 10, 'gamma': 0.01}\")"
   ]
  },
  {
   "cell_type": "code",
   "execution_count": null,
   "metadata": {
    "colab": {
     "base_uri": "https://localhost:8080/",
     "height": 910
    },
    "id": "WZxgXrXwKSOl",
    "outputId": "d587ddca-17bf-4aff-829b-32525fcf2c25"
   },
   "outputs": [
    {
     "name": "stdout",
     "output_type": "stream",
     "text": [
      "[[0.72359639 0.16058108 0.11582254]\n",
      " [0.26548673 0.63421829 0.10029499]\n",
      " [0.17502343 0.10707591 0.71790066]]\n",
      "SVM GridSearch Classifier\n",
      "Training Data\n",
      "                         precision    recall  f1-score   support\n",
      "\n",
      "             functional       0.82      0.78      0.80     15498\n",
      "functional needs repair       0.80      0.92      0.85     15498\n",
      "         non functional       0.90      0.80      0.84     15498\n",
      "\n",
      "               accuracy                           0.83     46494\n",
      "              macro avg       0.84      0.83      0.83     46494\n",
      "           weighted avg       0.84      0.83      0.83     46494\n",
      "\n",
      "\n",
      "\n",
      "Testing Data\n",
      "                         precision    recall  f1-score   support\n",
      "\n",
      "             functional       0.80      0.72      0.76      5094\n",
      "functional needs repair       0.25      0.63      0.36       678\n",
      "         non functional       0.82      0.72      0.77      4268\n",
      "\n",
      "               accuracy                           0.72     10040\n",
      "              macro avg       0.62      0.69      0.63     10040\n",
      "           weighted avg       0.77      0.72      0.74     10040\n",
      "\n"
     ]
    },
    {
     "data": {
      "image/png": "[encoded data removed]",
      "text/plain": [
       "<Figure size 432x288 with 2 Axes>"
      ]
     },
     "metadata": {
      "needs_background": "light",
      "tags": []
     },
     "output_type": "display_data"
    }
   ],
   "source": [
    "disp = plot_confusion_matrix(svm_gs, X_test, y_test,\n",
    "                             cmap=plt.cm.Blues,\n",
    "                             normalize='true',\n",
    "                             xticks_rotation='vertical')\n",
    "disp.ax_.set_title('SVM GridSearch Classifier')\n",
    "\n",
    "print(disp.confusion_matrix)\n",
    "\n",
    "# Predicting using the model\n",
    "y_train_hat = svm_gs.predict(X)\n",
    "y_test_hat = svm_gs.predict(X_test)\n",
    "\n",
    "# Printing out the scores\n",
    "print('SVM GridSearch Classifier')\n",
    "print('Training Data')\n",
    "print(classification_report(y, y_train_hat))\n",
    "print('\\n')\n",
    "print('Testing Data')\n",
    "print(classification_report(y_test, y_test_hat))\n",
    "\n",
    "\n",
    "# Update the scores dataframe\n",
    "find_scores('SVM Classifier GS', y_test, y_test_hat)"
   ]
  },
  {
   "cell_type": "markdown",
   "metadata": {
    "id": "LawMEe1L-ioG"
   },
   "source": [
    "The recall score for functional needs repair category is much better than the other classifiers but precision score is worse. The scores for the other two categories aren't as high as XGBoost and RandomForest."
   ]
  },
  {
   "cell_type": "markdown",
   "metadata": {
    "id": "Z9ryk51Pdc_I"
   },
   "source": [
    "# Selecting Model\n",
    "\n",
    "Now I will compare all the scores for all the models that I built so far. I will be mainly taking a look at F1-score and Accuracy."
   ]
  },
  {
   "cell_type": "code",
   "execution_count": null,
   "metadata": {
    "colab": {
     "base_uri": "https://localhost:8080/",
     "height": 258
    },
    "id": "_N-IcM8YN6tq",
    "outputId": "7a6c190c-d616-4fce-db8e-c2a94fee04cb"
   },
   "outputs": [
    {
     "data": {
      "text/html": [
       "<div>\n",
       "<style scoped>\n",
       "    .dataframe tbody tr th:only-of-type {\n",
       "        vertical-align: middle;\n",
       "    }\n",
       "\n",
       "    .dataframe tbody tr th {\n",
       "        vertical-align: top;\n",
       "    }\n",
       "\n",
       "    .dataframe thead th {\n",
       "        text-align: right;\n",
       "    }\n",
       "</style>\n",
       "<table border=\"1\" class=\"dataframe\">\n",
       "  <thead>\n",
       "    <tr style=\"text-align: right;\">\n",
       "      <th></th>\n",
       "      <th>Model</th>\n",
       "      <th>Precision</th>\n",
       "      <th>Recall</th>\n",
       "      <th>Accuracy</th>\n",
       "      <th>F1</th>\n",
       "    </tr>\n",
       "  </thead>\n",
       "  <tbody>\n",
       "    <tr>\n",
       "      <th>5</th>\n",
       "      <td>XGBoost Classifier GS</td>\n",
       "      <td>0.779483</td>\n",
       "      <td>0.749900</td>\n",
       "      <td>0.749900</td>\n",
       "      <td>0.761122</td>\n",
       "    </tr>\n",
       "    <tr>\n",
       "      <th>4</th>\n",
       "      <td>Random Forest Classifier GS</td>\n",
       "      <td>0.774741</td>\n",
       "      <td>0.745916</td>\n",
       "      <td>0.745916</td>\n",
       "      <td>0.757072</td>\n",
       "    </tr>\n",
       "    <tr>\n",
       "      <th>3</th>\n",
       "      <td>Decision Tree Classifier GS</td>\n",
       "      <td>0.760159</td>\n",
       "      <td>0.728785</td>\n",
       "      <td>0.728785</td>\n",
       "      <td>0.740829</td>\n",
       "    </tr>\n",
       "    <tr>\n",
       "      <th>2</th>\n",
       "      <td>K-Nearest Neighbor GS</td>\n",
       "      <td>0.741075</td>\n",
       "      <td>0.732968</td>\n",
       "      <td>0.732968</td>\n",
       "      <td>0.736298</td>\n",
       "    </tr>\n",
       "    <tr>\n",
       "      <th>6</th>\n",
       "      <td>SVM Classifier GS</td>\n",
       "      <td>0.772391</td>\n",
       "      <td>0.715139</td>\n",
       "      <td>0.715139</td>\n",
       "      <td>0.735728</td>\n",
       "    </tr>\n",
       "    <tr>\n",
       "      <th>0</th>\n",
       "      <td>LogisticRegression Default</td>\n",
       "      <td>0.735905</td>\n",
       "      <td>0.615936</td>\n",
       "      <td>0.615936</td>\n",
       "      <td>0.656028</td>\n",
       "    </tr>\n",
       "    <tr>\n",
       "      <th>1</th>\n",
       "      <td>LogisticRegression GridSearch</td>\n",
       "      <td>0.735713</td>\n",
       "      <td>0.615837</td>\n",
       "      <td>0.615837</td>\n",
       "      <td>0.655927</td>\n",
       "    </tr>\n",
       "  </tbody>\n",
       "</table>\n",
       "</div>"
      ],
      "text/plain": [
       "                           Model  Precision    Recall  Accuracy        F1\n",
       "5          XGBoost Classifier GS   0.779483  0.749900  0.749900  0.761122\n",
       "4    Random Forest Classifier GS   0.774741  0.745916  0.745916  0.757072\n",
       "3    Decision Tree Classifier GS   0.760159  0.728785  0.728785  0.740829\n",
       "2          K-Nearest Neighbor GS   0.741075  0.732968  0.732968  0.736298\n",
       "6              SVM Classifier GS   0.772391  0.715139  0.715139  0.735728\n",
       "0     LogisticRegression Default   0.735905  0.615936  0.615936  0.656028\n",
       "1  LogisticRegression GridSearch   0.735713  0.615837  0.615837  0.655927"
      ]
     },
     "execution_count": 175,
     "metadata": {
      "tags": []
     },
     "output_type": "execute_result"
    }
   ],
   "source": [
    "scores_df.sort_values('F1', ascending=False)"
   ]
  },
  {
   "cell_type": "code",
   "execution_count": null,
   "metadata": {
    "colab": {
     "base_uri": "https://localhost:8080/",
     "height": 639
    },
    "id": "6Ox1XoHlN7qT",
    "outputId": "13bada73-2bb5-4174-fc6a-5f8869d3dda5"
   },
   "outputs": [
    {
     "data": {
      "text/plain": [
       "Text(0.5, 1.0, 'Classifier Scores')"
      ]
     },
     "execution_count": 176,
     "metadata": {
      "tags": []
     },
     "output_type": "execute_result"
    },
    {
     "data": {
      "image/png": "[encoded data removed]",
      "text/plain": [
       "<Figure size 1152x720 with 1 Axes>"
      ]
     },
     "metadata": {
      "needs_background": "light",
      "tags": []
     },
     "output_type": "display_data"
    }
   ],
   "source": [
    "scores_df.plot(x='Model', kind='barh', figsize=(16,10), grid=True)\n",
    "plt.legend(loc='center left', bbox_to_anchor=(1.0, 0.5))\n",
    "plt.xlabel('Models')\n",
    "plt.ylabel('Scores')\n",
    "plt.title('Classifier Scores',fontweight=\"bold\")"
   ]
  },
  {
   "cell_type": "markdown",
   "metadata": {
    "id": "HQmXVymbT1I8"
   },
   "source": [
    "## RandomForest vs XGBoost vs SVM\n",
    "\n",
    "XGBoost and Random Forest classifiers seems to perform the best with XGBoost having a slight edge.\n",
    "\n",
    "Another classifier that I believe should be considered is SVM. Which despite having a worse F1 and Accuracy scores than several other models, have the highest recall score for the 'functional needs repair' category.\n",
    "\n",
    "\n",
    "#### RandomForest\n",
    "\n",
    "                          \n",
    "                                  precision    recall  f1-score   \n",
    "\n",
    "                     functional       0.80      0.77      0.78      \n",
    "        functional needs repair       0.30      0.54      0.39     \n",
    "                 non functional       0.82      0.75      0.78      \n",
    "\n",
    "#### XGBoost\n",
    "\n",
    "                          \n",
    "                                  precision    recall  f1-score   \n",
    "\n",
    "                     functional       0.79      0.77      0.78      \n",
    "        functional needs repair       0.30      0.53      0.38     \n",
    "                 non functional       0.82      0.75      0.78      \n",
    "\n",
    "\n",
    "#### SVM\n",
    "\n",
    "                                  precision    recall  f1-score   \n",
    "\n",
    "                    functional       0.79      0.70      0.74      \n",
    "        functional needs repair      0.24      0.65      0.35       \n",
    "                 non functional      0.82      0.70      0.76      \n",
    "\n",
    "For the purpose of this project it is important to identify the 'non functional' and 'functional needs repair' categories so that the Tanzania goverment can repair them. High recall would give us the abilty to find more of the waterpoints that need repairs but at the same time also increase the false positive. Which would mean the model would identify functional water points as needing repair, which is also undesirable since it would waste manpower and budget.\n",
    "\n",
    "Therefore I believe a balance between Precision and Recall (ie. the F1 score) and Accuracy score is more important than just the Recall scores so I will go with the RandomForest Classifier.\n",
    "\n",
    "\n",
    "Next I will take a look at the most important features for our model.\n",
    "\n",
    "# Important Features"
   ]
  },
  {
   "cell_type": "code",
   "execution_count": null,
   "metadata": {
    "colab": {
     "base_uri": "https://localhost:8080/"
    },
    "id": "3OQVOXI3T5r8",
    "outputId": "e1d12fe2-fc32-407a-d444-8b33e4bea5c6"
   },
   "outputs": [
    {
     "data": {
      "text/plain": [
       "gps_height                          0.107806\n",
       "quantity_dry                        0.081975\n",
       "quantity_enough                     0.041138\n",
       "quantity_insufficient               0.031346\n",
       "waterpoint_type_other               0.027442\n",
       "                                      ...   \n",
       "district_code_80                    0.000104\n",
       "water_quality_fluoride abandoned    0.000097\n",
       "district_code_62                    0.000067\n",
       "waterpoint_type_dam                 0.000004\n",
       "district_code_67                    0.000001\n",
       "Length: 123, dtype: float64"
      ]
     },
     "execution_count": 177,
     "metadata": {
      "tags": []
     },
     "output_type": "execute_result"
    }
   ],
   "source": [
    "# Create a list of features sorted by importantce\n",
    "features_rank = pd.Series(rf_clf_gs.feature_importances_,index=X.columns).sort_values(ascending=False)\n",
    "features_rank"
   ]
  },
  {
   "cell_type": "code",
   "execution_count": null,
   "metadata": {
    "colab": {
     "base_uri": "https://localhost:8080/",
     "height": 730
    },
    "id": "BVtzKYj7aPDZ",
    "outputId": "2d77c1bf-4139-469a-9298-f2dab413f990"
   },
   "outputs": [
    {
     "data": {
      "image/png": "[encoded data removed]",
      "text/plain": [
       "<Figure size 864x864 with 1 Axes>"
      ]
     },
     "metadata": {
      "needs_background": "light",
      "tags": []
     },
     "output_type": "display_data"
    }
   ],
   "source": [
    "# Creating a bar plot with the top 20 features\n",
    "plt.figure(figsize=(12,12))\n",
    "sns.barplot(x=features_rank[0:20], y=features_rank[0:20].index)\n",
    "plt.xlabel('Score')\n",
    "plt.ylabel('Features')\n",
    "plt.title(\"Top 20 Most Important Features\")\n",
    "plt.show()"
   ]
  },
  {
   "cell_type": "markdown",
   "metadata": {
    "id": "SNoZ4xgictlK"
   },
   "source": [
    "Looking at the top 20 most important features a lot of them seems to be intuitively correct. \n",
    "\n",
    "The gps_height column show the altitude of the waterpoint and is considered to be the most important features for our classifier.\n",
    "\n",
    "The quantity_dry feature is a dummy variable which seems to show that the water source is dry. Which of course in turn means it is no longer functional.\n",
    "\n",
    "The third most important feature is district_code. Apparently there is a correlation between certain districts and the conditions of the water points. This is a feature that perhaps warrant further investigation to see which districts have more non functional water points.\n",
    "\n",
    "The fourth and fifth ranked features are dummy variables for quantity of enough and insufficient.\n"
   ]
  },
  {
   "cell_type": "markdown",
   "metadata": {
    "id": "4lfM3DA2YuQo"
   },
   "source": [
    "# Prediction\n",
    "Now that we have our model, I will use it to predict the test dataset without labels given to us."
   ]
  },
  {
   "cell_type": "code",
   "execution_count": null,
   "metadata": {
    "colab": {
     "base_uri": "https://localhost:8080/",
     "height": 425
    },
    "id": "C5n_4Qq6oE7g",
    "outputId": "0e725936-5738-405b-dc2c-adc177092180"
   },
   "outputs": [
    {
     "data": {
      "text/html": [
       "<div>\n",
       "<style scoped>\n",
       "    .dataframe tbody tr th:only-of-type {\n",
       "        vertical-align: middle;\n",
       "    }\n",
       "\n",
       "    .dataframe tbody tr th {\n",
       "        vertical-align: top;\n",
       "    }\n",
       "\n",
       "    .dataframe thead th {\n",
       "        text-align: right;\n",
       "    }\n",
       "</style>\n",
       "<table border=\"1\" class=\"dataframe\">\n",
       "  <thead>\n",
       "    <tr style=\"text-align: right;\">\n",
       "      <th></th>\n",
       "      <th>id</th>\n",
       "      <th>amount_tsh</th>\n",
       "      <th>date_recorded</th>\n",
       "      <th>funder</th>\n",
       "      <th>gps_height</th>\n",
       "      <th>installer</th>\n",
       "      <th>longitude</th>\n",
       "      <th>latitude</th>\n",
       "      <th>wpt_name</th>\n",
       "      <th>num_private</th>\n",
       "      <th>basin</th>\n",
       "      <th>subvillage</th>\n",
       "      <th>region</th>\n",
       "      <th>region_code</th>\n",
       "      <th>district_code</th>\n",
       "      <th>lga</th>\n",
       "      <th>ward</th>\n",
       "      <th>population</th>\n",
       "      <th>public_meeting</th>\n",
       "      <th>recorded_by</th>\n",
       "      <th>scheme_management</th>\n",
       "      <th>scheme_name</th>\n",
       "      <th>permit</th>\n",
       "      <th>construction_year</th>\n",
       "      <th>extraction_type</th>\n",
       "      <th>extraction_type_group</th>\n",
       "      <th>extraction_type_class</th>\n",
       "      <th>management</th>\n",
       "      <th>management_group</th>\n",
       "      <th>payment</th>\n",
       "      <th>payment_type</th>\n",
       "      <th>water_quality</th>\n",
       "      <th>quality_group</th>\n",
       "      <th>quantity</th>\n",
       "      <th>quantity_group</th>\n",
       "      <th>source</th>\n",
       "      <th>source_type</th>\n",
       "      <th>source_class</th>\n",
       "      <th>waterpoint_type</th>\n",
       "      <th>waterpoint_type_group</th>\n",
       "    </tr>\n",
       "  </thead>\n",
       "  <tbody>\n",
       "    <tr>\n",
       "      <th>0</th>\n",
       "      <td>50785</td>\n",
       "      <td>0.0</td>\n",
       "      <td>2013-02-04</td>\n",
       "      <td>Dmdd</td>\n",
       "      <td>1996</td>\n",
       "      <td>DMDD</td>\n",
       "      <td>35.290799</td>\n",
       "      <td>-4.059696</td>\n",
       "      <td>Dinamu Secondary School</td>\n",
       "      <td>0</td>\n",
       "      <td>Internal</td>\n",
       "      <td>Magoma</td>\n",
       "      <td>Manyara</td>\n",
       "      <td>21</td>\n",
       "      <td>3</td>\n",
       "      <td>Mbulu</td>\n",
       "      <td>Bashay</td>\n",
       "      <td>321</td>\n",
       "      <td>True</td>\n",
       "      <td>GeoData Consultants Ltd</td>\n",
       "      <td>Parastatal</td>\n",
       "      <td>NaN</td>\n",
       "      <td>True</td>\n",
       "      <td>2012</td>\n",
       "      <td>other</td>\n",
       "      <td>other</td>\n",
       "      <td>other</td>\n",
       "      <td>parastatal</td>\n",
       "      <td>parastatal</td>\n",
       "      <td>never pay</td>\n",
       "      <td>never pay</td>\n",
       "      <td>soft</td>\n",
       "      <td>good</td>\n",
       "      <td>seasonal</td>\n",
       "      <td>seasonal</td>\n",
       "      <td>rainwater harvesting</td>\n",
       "      <td>rainwater harvesting</td>\n",
       "      <td>surface</td>\n",
       "      <td>other</td>\n",
       "      <td>other</td>\n",
       "    </tr>\n",
       "    <tr>\n",
       "      <th>1</th>\n",
       "      <td>51630</td>\n",
       "      <td>0.0</td>\n",
       "      <td>2013-02-04</td>\n",
       "      <td>Government Of Tanzania</td>\n",
       "      <td>1569</td>\n",
       "      <td>DWE</td>\n",
       "      <td>36.656709</td>\n",
       "      <td>-3.309214</td>\n",
       "      <td>Kimnyak</td>\n",
       "      <td>0</td>\n",
       "      <td>Pangani</td>\n",
       "      <td>Kimnyak</td>\n",
       "      <td>Arusha</td>\n",
       "      <td>2</td>\n",
       "      <td>2</td>\n",
       "      <td>Arusha Rural</td>\n",
       "      <td>Kimnyaki</td>\n",
       "      <td>300</td>\n",
       "      <td>True</td>\n",
       "      <td>GeoData Consultants Ltd</td>\n",
       "      <td>VWC</td>\n",
       "      <td>TPRI pipe line</td>\n",
       "      <td>True</td>\n",
       "      <td>2000</td>\n",
       "      <td>gravity</td>\n",
       "      <td>gravity</td>\n",
       "      <td>gravity</td>\n",
       "      <td>vwc</td>\n",
       "      <td>user-group</td>\n",
       "      <td>never pay</td>\n",
       "      <td>never pay</td>\n",
       "      <td>soft</td>\n",
       "      <td>good</td>\n",
       "      <td>insufficient</td>\n",
       "      <td>insufficient</td>\n",
       "      <td>spring</td>\n",
       "      <td>spring</td>\n",
       "      <td>groundwater</td>\n",
       "      <td>communal standpipe</td>\n",
       "      <td>communal standpipe</td>\n",
       "    </tr>\n",
       "    <tr>\n",
       "      <th>2</th>\n",
       "      <td>17168</td>\n",
       "      <td>0.0</td>\n",
       "      <td>2013-02-01</td>\n",
       "      <td>NaN</td>\n",
       "      <td>1567</td>\n",
       "      <td>NaN</td>\n",
       "      <td>34.767863</td>\n",
       "      <td>-5.004344</td>\n",
       "      <td>Puma Secondary</td>\n",
       "      <td>0</td>\n",
       "      <td>Internal</td>\n",
       "      <td>Msatu</td>\n",
       "      <td>Singida</td>\n",
       "      <td>13</td>\n",
       "      <td>2</td>\n",
       "      <td>Singida Rural</td>\n",
       "      <td>Puma</td>\n",
       "      <td>500</td>\n",
       "      <td>True</td>\n",
       "      <td>GeoData Consultants Ltd</td>\n",
       "      <td>VWC</td>\n",
       "      <td>P</td>\n",
       "      <td>NaN</td>\n",
       "      <td>2010</td>\n",
       "      <td>other</td>\n",
       "      <td>other</td>\n",
       "      <td>other</td>\n",
       "      <td>vwc</td>\n",
       "      <td>user-group</td>\n",
       "      <td>never pay</td>\n",
       "      <td>never pay</td>\n",
       "      <td>soft</td>\n",
       "      <td>good</td>\n",
       "      <td>insufficient</td>\n",
       "      <td>insufficient</td>\n",
       "      <td>rainwater harvesting</td>\n",
       "      <td>rainwater harvesting</td>\n",
       "      <td>surface</td>\n",
       "      <td>other</td>\n",
       "      <td>other</td>\n",
       "    </tr>\n",
       "    <tr>\n",
       "      <th>3</th>\n",
       "      <td>45559</td>\n",
       "      <td>0.0</td>\n",
       "      <td>2013-01-22</td>\n",
       "      <td>Finn Water</td>\n",
       "      <td>267</td>\n",
       "      <td>FINN WATER</td>\n",
       "      <td>38.058046</td>\n",
       "      <td>-9.418672</td>\n",
       "      <td>Kwa Mzee Pange</td>\n",
       "      <td>0</td>\n",
       "      <td>Ruvuma / Southern Coast</td>\n",
       "      <td>Kipindimbi</td>\n",
       "      <td>Lindi</td>\n",
       "      <td>80</td>\n",
       "      <td>43</td>\n",
       "      <td>Liwale</td>\n",
       "      <td>Mkutano</td>\n",
       "      <td>250</td>\n",
       "      <td>NaN</td>\n",
       "      <td>GeoData Consultants Ltd</td>\n",
       "      <td>VWC</td>\n",
       "      <td>NaN</td>\n",
       "      <td>True</td>\n",
       "      <td>1987</td>\n",
       "      <td>other</td>\n",
       "      <td>other</td>\n",
       "      <td>other</td>\n",
       "      <td>vwc</td>\n",
       "      <td>user-group</td>\n",
       "      <td>unknown</td>\n",
       "      <td>unknown</td>\n",
       "      <td>soft</td>\n",
       "      <td>good</td>\n",
       "      <td>dry</td>\n",
       "      <td>dry</td>\n",
       "      <td>shallow well</td>\n",
       "      <td>shallow well</td>\n",
       "      <td>groundwater</td>\n",
       "      <td>other</td>\n",
       "      <td>other</td>\n",
       "    </tr>\n",
       "    <tr>\n",
       "      <th>4</th>\n",
       "      <td>49871</td>\n",
       "      <td>500.0</td>\n",
       "      <td>2013-03-27</td>\n",
       "      <td>Bruder</td>\n",
       "      <td>1260</td>\n",
       "      <td>BRUDER</td>\n",
       "      <td>35.006123</td>\n",
       "      <td>-10.950412</td>\n",
       "      <td>Kwa Mzee Turuka</td>\n",
       "      <td>0</td>\n",
       "      <td>Ruvuma / Southern Coast</td>\n",
       "      <td>Losonga</td>\n",
       "      <td>Ruvuma</td>\n",
       "      <td>10</td>\n",
       "      <td>3</td>\n",
       "      <td>Mbinga</td>\n",
       "      <td>Mbinga Urban</td>\n",
       "      <td>60</td>\n",
       "      <td>NaN</td>\n",
       "      <td>GeoData Consultants Ltd</td>\n",
       "      <td>Water Board</td>\n",
       "      <td>BRUDER</td>\n",
       "      <td>True</td>\n",
       "      <td>2000</td>\n",
       "      <td>gravity</td>\n",
       "      <td>gravity</td>\n",
       "      <td>gravity</td>\n",
       "      <td>water board</td>\n",
       "      <td>user-group</td>\n",
       "      <td>pay monthly</td>\n",
       "      <td>monthly</td>\n",
       "      <td>soft</td>\n",
       "      <td>good</td>\n",
       "      <td>enough</td>\n",
       "      <td>enough</td>\n",
       "      <td>spring</td>\n",
       "      <td>spring</td>\n",
       "      <td>groundwater</td>\n",
       "      <td>communal standpipe</td>\n",
       "      <td>communal standpipe</td>\n",
       "    </tr>\n",
       "  </tbody>\n",
       "</table>\n",
       "</div>"
      ],
      "text/plain": [
       "      id  amount_tsh  ...     waterpoint_type waterpoint_type_group\n",
       "0  50785         0.0  ...               other                 other\n",
       "1  51630         0.0  ...  communal standpipe    communal standpipe\n",
       "2  17168         0.0  ...               other                 other\n",
       "3  45559         0.0  ...               other                 other\n",
       "4  49871       500.0  ...  communal standpipe    communal standpipe\n",
       "\n",
       "[5 rows x 40 columns]"
      ]
     },
     "execution_count": 188,
     "metadata": {
      "tags": []
     },
     "output_type": "execute_result"
    }
   ],
   "source": [
    "# read in the data\n",
    "prediction_df = pd.read_csv('/content/test_set_values.csv')\n",
    "prediction_df.head()"
   ]
  },
  {
   "cell_type": "code",
   "execution_count": null,
   "metadata": {
    "id": "uAsZptqOZF2A"
   },
   "outputs": [],
   "source": [
    "#Drop all the columns we did not use\n",
    "prediction_df.drop(columns=['date_recorded', 'funder', 'wpt_name', 'recorded_by', 'management', 'scheme_name', 'extraction_type', 'extraction_type_class',\n",
    "                            'source_type', 'source_class','quality_group', 'quantity_group','payment', 'waterpoint_type_group',\n",
    "                            'installer', 'longitude', 'latitude', 'subvillage', 'ward', 'lga', 'region_code', 'population', 'construction_year'], axis=1, inplace=True)\n"
   ]
  },
  {
   "cell_type": "code",
   "execution_count": null,
   "metadata": {
    "colab": {
     "base_uri": "https://localhost:8080/"
    },
    "id": "9OB6Yg3Gbx--",
    "outputId": "7e821df4-f594-4469-fb52-53b1df671cb5"
   },
   "outputs": [
    {
     "data": {
      "text/plain": [
       "id                         0\n",
       "amount_tsh                 0\n",
       "gps_height                 0\n",
       "num_private                0\n",
       "basin                      0\n",
       "region                     0\n",
       "district_code              0\n",
       "public_meeting           821\n",
       "scheme_management        969\n",
       "permit                   737\n",
       "extraction_type_group      0\n",
       "management_group           0\n",
       "payment_type               0\n",
       "water_quality              0\n",
       "quantity                   0\n",
       "source                     0\n",
       "waterpoint_type            0\n",
       "dtype: int64"
      ]
     },
     "execution_count": 190,
     "metadata": {
      "tags": []
     },
     "output_type": "execute_result"
    }
   ],
   "source": [
    "prediction_df.isna().sum()"
   ]
  },
  {
   "cell_type": "code",
   "execution_count": null,
   "metadata": {
    "colab": {
     "base_uri": "https://localhost:8080/"
    },
    "id": "NV1sYTvqbVH6",
    "outputId": "40438e1b-5ca5-4685-c523-3a84fd6fb439"
   },
   "outputs": [
    {
     "data": {
      "text/plain": [
       "id                         0\n",
       "amount_tsh                 0\n",
       "gps_height                 0\n",
       "num_private                0\n",
       "basin                      0\n",
       "region                     0\n",
       "district_code              0\n",
       "public_meeting           821\n",
       "scheme_management        969\n",
       "permit                   737\n",
       "extraction_type_group      0\n",
       "management_group           0\n",
       "payment_type               0\n",
       "water_quality              0\n",
       "quantity                   0\n",
       "source                     0\n",
       "waterpoint_type            0\n",
       "dtype: int64"
      ]
     },
     "execution_count": 191,
     "metadata": {
      "tags": []
     },
     "output_type": "execute_result"
    }
   ],
   "source": [
    "# #Replace the unknown in management_group, payment_type, water_quality, quantity column with np.nan\n",
    "prediction_df['management_group'].replace({'unknwon': np.nan}, inplace=True)\n",
    "prediction_df['payment_type'].replace({'unknwon': np.nan}, inplace=True)\n",
    "prediction_df['water_quality'].replace({'unknwon': np.nan}, inplace=True)\n",
    "prediction_df['quantity'].replace({'unknwon': np.nan}, inplace=True)\n",
    "\n",
    "prediction_df['district_code'] = prediction_df['district_code'].astype(str) \n",
    "\n",
    "prediction_df.isna().sum()"
   ]
  },
  {
   "cell_type": "code",
   "execution_count": null,
   "metadata": {
    "id": "K1NWbeUzb2ew"
   },
   "outputs": [],
   "source": [
    "# # Create dummy variables for the categorical columns\n",
    "# prediction_dummies = pd.get_dummies(prediction_df, drop_first=False)\n",
    "# # Scale the Data\n",
    "# prediction_dummies = pd.DataFrame(scaler.fit_transform(prediction_dummies), columns = prediction_dummies.columns)\n",
    "# # Fill in the missing values using KNN imputer\n",
    "# prediction_dummies = pd.DataFrame(imputer.fit_transform(prediction_dummies),columns = prediction_dummies.columns)\n"
   ]
  },
  {
   "cell_type": "markdown",
   "metadata": {
    "id": "5OECFecVDumJ"
   },
   "source": [
    "# Should I scale the new data with scaling parameter from the training set?"
   ]
  },
  {
   "cell_type": "code",
   "execution_count": null,
   "metadata": {
    "id": "05jV0Mokv6zv"
   },
   "outputs": [],
   "source": [
    "# Create dummy variables for the categorical columns\n",
    "prediction_dummies = pd.get_dummies(prediction_df, drop_first=False)\n",
    "# Scale the Data\n",
    "prediction_dummies = pd.DataFrame(scaler.transform(prediction_dummies), columns = prediction_dummies.columns)\n",
    "# Fill in the missing values using KNN imputer\n",
    "prediction_dummies = pd.DataFrame(imputer.transform(prediction_dummies),columns = prediction_dummies.columns)\n"
   ]
  },
  {
   "cell_type": "code",
   "execution_count": null,
   "metadata": {
    "id": "1uXq24AWkdF8"
   },
   "outputs": [],
   "source": [
    "X_prediction = prediction_dummies.drop('id', axis=1)\n",
    "prediction_dummies['status_group'] = rf_clf_gs.predict(X_prediction)"
   ]
  },
  {
   "cell_type": "code",
   "execution_count": null,
   "metadata": {
    "colab": {
     "base_uri": "https://localhost:8080/"
    },
    "id": "xuDa69ctlNtK",
    "outputId": "f8f27bc8-c919-4d5e-a1e0-5ad2e1f25ae6"
   },
   "outputs": [
    {
     "data": {
      "text/plain": [
       "functional                 8084\n",
       "non functional             5346\n",
       "functional needs repair    1420\n",
       "Name: status_group, dtype: int64"
      ]
     },
     "execution_count": 195,
     "metadata": {
      "tags": []
     },
     "output_type": "execute_result"
    }
   ],
   "source": [
    "prediction_dummies['status_group'].value_counts()"
   ]
  },
  {
   "cell_type": "code",
   "execution_count": null,
   "metadata": {
    "colab": {
     "base_uri": "https://localhost:8080/"
    },
    "id": "-W3zbKn5D-SX",
    "outputId": "2c3af42a-e5bf-41ac-f00c-709f1544f480"
   },
   "outputs": [
    {
     "data": {
      "text/plain": [
       "0    non functional\n",
       "1    non functional\n",
       "2    non functional\n",
       "3    non functional\n",
       "4        functional\n",
       "Name: status_group, dtype: object"
      ]
     },
     "execution_count": 196,
     "metadata": {
      "tags": []
     },
     "output_type": "execute_result"
    }
   ],
   "source": [
    "submission_form = prediction_dummies['status_group']\n",
    "submission_form.head(5)"
   ]
  },
  {
   "cell_type": "markdown",
   "metadata": {
    "id": "uI1xSmKDD7WA"
   },
   "source": [
    "# Improvements\n",
    "\n",
    "- Since using GridSearchCV take up a lot of computational time, I couldn't put in more parameters like I wanted. Searching out more parameters might improve the model performance.\n",
    "\n",
    "- The model ability to predict functional needs repair is still lacking. I could try scrubbing the data in a diffrent way to make the model better.\n",
    "\n",
    "- Try out different types of filling missing values to see if it improve the model.\n",
    "\n",
    "- Instead of dropping the 'population' and 'year_construct' column, find a diffrent way to deal with them."
   ]
  }
 ],
 "metadata": {
  "accelerator": "GPU",
  "colab": {
   "collapsed_sections": [],
   "name": "Project 3.ipynb",
   "provenance": [],
   "toc_visible": true
  },
  "kernelspec": {
   "display_name": "Python 3",
   "language": "python",
   "name": "python3"
  },
  "language_info": {
   "codemirror_mode": {
    "name": "ipython",
    "version": 3
   },
   "file_extension": ".py",
   "mimetype": "text/x-python",
   "name": "python",
   "nbconvert_exporter": "python",
   "pygments_lexer": "ipython3",
   "version": "3.8.3"
  }
 },
 "nbformat": 4,
 "nbformat_minor": 1
}
